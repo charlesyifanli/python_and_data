{
 "cells": [
  {
   "metadata": {},
   "cell_type": "markdown",
   "source": [
    "AIM 1: Perform Regression\n",
    "\n",
    "1. Load the titanic dataset\n",
    "2. Handle missing values, if any\n",
    "3. Check for linearity between 'Age' and 'Fare'\n",
    "    3.1. If it's linear, perform Regression and visualize it\n",
    "    3.2. If it's not linear, still perform Regression and visualize it. What do you make of the result?\n",
    "    3.3. Plot the residuals to see if it's normally distributed. Residual can be plotted as scatter plot between the predicted Y value and residuals is the actual Y values and the predicted values. Predicted values is (intercept + slope * X)\n",
    "4. Load the penguins dataset\n",
    "5. Handle missing values, if any\n",
    "6. Check for linearity between 'bill_length_mm' and 'body_mass_g', and repeat the same process as you did in Step 3\n",
    "7. Try out different variables from the penguins dataset to perform regression"
   ],
   "id": "8682cd455a56bcc0"
  },
  {
   "metadata": {},
   "cell_type": "code",
   "outputs": [],
   "execution_count": null,
   "source": "",
   "id": "a550568724dd3514"
  }
 ],
 "metadata": {
  "kernelspec": {
   "display_name": "Python 3",
   "language": "python",
   "name": "python3"
  },
  "language_info": {
   "codemirror_mode": {
    "name": "ipython",
    "version": 2
   },
   "file_extension": ".py",
   "mimetype": "text/x-python",
   "name": "python",
   "nbconvert_exporter": "python",
   "pygments_lexer": "ipython2",
   "version": "2.7.6"
  }
 },
 "nbformat": 4,
 "nbformat_minor": 5
}
