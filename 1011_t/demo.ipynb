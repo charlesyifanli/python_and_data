{
 "cells": [
  {
   "cell_type": "code",
   "id": "initial_id",
   "metadata": {
    "collapsed": true,
    "ExecuteTime": {
     "end_time": "2024-10-11T08:01:32.389011Z",
     "start_time": "2024-10-11T08:01:32.386173Z"
    }
   },
   "source": "import pandas as pd",
   "outputs": [],
   "execution_count": 11
  },
  {
   "metadata": {
    "ExecuteTime": {
     "end_time": "2024-10-11T08:01:46.003895Z",
     "start_time": "2024-10-11T08:01:45.997030Z"
    }
   },
   "cell_type": "code",
   "source": "df = pd.read_csv('./titanic.csv')",
   "id": "c1642d3e5a00fbcb",
   "outputs": [],
   "execution_count": 12
  },
  {
   "metadata": {
    "ExecuteTime": {
     "end_time": "2024-10-11T08:01:50.581097Z",
     "start_time": "2024-10-11T08:01:50.576383Z"
    }
   },
   "cell_type": "code",
   "source": "df.columns",
   "id": "9e8befa5b44511c8",
   "outputs": [
    {
     "data": {
      "text/plain": [
       "Index(['PassengerId', 'Survived', 'Pclass', 'Name', 'Sex', 'Age', 'SibSp',\n",
       "       'Parch', 'Ticket', 'Fare', 'Cabin', 'Embarked'],\n",
       "      dtype='object')"
      ]
     },
     "execution_count": 13,
     "metadata": {},
     "output_type": "execute_result"
    }
   ],
   "execution_count": 13
  },
  {
   "metadata": {
    "ExecuteTime": {
     "end_time": "2024-10-11T08:02:12.881790Z",
     "start_time": "2024-10-11T08:02:12.876842Z"
    }
   },
   "cell_type": "code",
   "source": "print(type(df['Name']))",
   "id": "315d5747936fe5a0",
   "outputs": [
    {
     "name": "stdout",
     "output_type": "stream",
     "text": [
      "<class 'pandas.core.series.Series'>\n"
     ]
    }
   ],
   "execution_count": 14
  },
  {
   "metadata": {
    "ExecuteTime": {
     "end_time": "2024-10-11T08:02:23.281599Z",
     "start_time": "2024-10-11T08:02:23.276870Z"
    }
   },
   "cell_type": "code",
   "source": "print(type(df[['Name']]))",
   "id": "6fc977c09d9407f2",
   "outputs": [
    {
     "name": "stdout",
     "output_type": "stream",
     "text": [
      "<class 'pandas.core.frame.DataFrame'>\n"
     ]
    }
   ],
   "execution_count": 15
  },
  {
   "metadata": {},
   "cell_type": "code",
   "outputs": [],
   "execution_count": null,
   "source": "",
   "id": "6ea754b0a490ffb"
  }
 ],
 "metadata": {
  "kernelspec": {
   "display_name": "Python 3",
   "language": "python",
   "name": "python3"
  },
  "language_info": {
   "codemirror_mode": {
    "name": "ipython",
    "version": 2
   },
   "file_extension": ".py",
   "mimetype": "text/x-python",
   "name": "python",
   "nbconvert_exporter": "python",
   "pygments_lexer": "ipython2",
   "version": "2.7.6"
  }
 },
 "nbformat": 4,
 "nbformat_minor": 5
}
