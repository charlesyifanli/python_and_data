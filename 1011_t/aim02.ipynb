{
 "cells": [
  {
   "metadata": {},
   "cell_type": "markdown",
   "source": [
    "AIM 2: Performing t-Test\n",
    "\n",
    "1. Load the diabetic_data dataset\n",
    "2. Handle missing values, if any\n",
    "3. For the variable 'num_med_proc', check if the data is normally distributed in each of the gender category\n",
    "4. Calculate the total data points in each gender group\n",
    "    4.1. If n < 30 and data is normal, perform t-Test.\n",
    "    4.2. If n > 30 and data is not normal, perform Mann-Whitney U Test\n",
    "        4.2.1. Try performing the regular t-test even if n > 30 and data is not normal. Do you see any difference in the result?\n",
    "5. If the data is small and normally distributed, perform ANOVA on the above data. But if the data is large but not normally distributed, perform Kurskal-Wallis. \n",
    "    5.1. In either of the above cases, do you get similar result compared to Step 4?\n",
    "6. Use the appropriate plot to visualize your data "
   ],
   "id": "febc9c7278a987cc"
  },
  {
   "metadata": {},
   "cell_type": "code",
   "outputs": [],
   "execution_count": null,
   "source": "",
   "id": "c317128e9d34ba85"
  }
 ],
 "metadata": {
  "kernelspec": {
   "display_name": "Python 3",
   "language": "python",
   "name": "python3"
  },
  "language_info": {
   "codemirror_mode": {
    "name": "ipython",
    "version": 2
   },
   "file_extension": ".py",
   "mimetype": "text/x-python",
   "name": "python",
   "nbconvert_exporter": "python",
   "pygments_lexer": "ipython2",
   "version": "2.7.6"
  }
 },
 "nbformat": 4,
 "nbformat_minor": 5
}
