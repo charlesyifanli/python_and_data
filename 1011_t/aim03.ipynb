{
 "cells": [
  {
   "metadata": {},
   "cell_type": "markdown",
   "source": [
    "AIM 3: Perform Chi-square test\n",
    "\n",
    "1. Use the same diabetic_data\n",
    "2. Try to find which two variables can be used for the Chi-Square, and then perform the said test\n",
    "    2.1. After doing the test, calculate the 'expected frequency'\n",
    "    2.2. Count the total number of 'expected frequency'\n",
    "    2.3. Count the number of 'expected frequency' where the value is less than 5\n",
    "    2.3. Get the percentage of 'expected frequency' taht is less than 5 comapred to the total number of 'expected frequency'\n",
    "    2.4. If it is more than 20%, then try the test on different sets of categorical variables\n",
    "3. Interpret the results of the test.\n"
   ],
   "id": "54f8e17047ebb729"
  },
  {
   "metadata": {
    "ExecuteTime": {
     "end_time": "2024-10-14T03:33:24.845930Z",
     "start_time": "2024-10-14T03:33:23.808282Z"
    }
   },
   "cell_type": "code",
   "source": [
    "import pandas as pd\n",
    "from scipy import stats"
   ],
   "id": "764bcc365dca46da",
   "outputs": [],
   "execution_count": 1
  },
  {
   "metadata": {
    "ExecuteTime": {
     "end_time": "2024-10-14T03:33:24.968939Z",
     "start_time": "2024-10-14T03:33:24.849435Z"
    }
   },
   "cell_type": "code",
   "source": [
    "df = pd.read_csv('diabetic_data.csv')\n",
    "print(df.isna().sum())"
   ],
   "id": "c0f628561e06b62b",
   "outputs": [
    {
     "name": "stdout",
     "output_type": "stream",
     "text": [
      "patient_nbr         0\n",
      "race                0\n",
      "gender              0\n",
      "age                 0\n",
      "weight              0\n",
      "time_in_hospital    0\n",
      "num_med_proc        0\n",
      "number_diagnoses    0\n",
      "insulin             0\n",
      "dtype: int64\n"
     ]
    }
   ],
   "execution_count": 2
  },
  {
   "metadata": {
    "ExecuteTime": {
     "end_time": "2024-10-14T03:33:25.124382Z",
     "start_time": "2024-10-14T03:33:25.103814Z"
    }
   },
   "cell_type": "code",
   "source": "df.head()",
   "id": "f832e18ff7d202a7",
   "outputs": [
    {
     "data": {
      "text/plain": [
       "   patient_nbr             race  gender      age weight  time_in_hospital  \\\n",
       "0      8222157        Caucasian  Female   [0-10)      ?                 1   \n",
       "1     55629189        Caucasian  Female  [10-20)      ?                 3   \n",
       "2     86047875  AfricanAmerican  Female  [20-30)      ?                 2   \n",
       "3     82442376        Caucasian    Male  [30-40)      ?                 2   \n",
       "4     42519267        Caucasian    Male  [40-50)      ?                 1   \n",
       "\n",
       "   num_med_proc  number_diagnoses insulin  \n",
       "0            42                 1      No  \n",
       "1            77                 9      Up  \n",
       "2            29                 6      No  \n",
       "3            61                 7      Up  \n",
       "4            59                 5  Steady  "
      ],
      "text/html": [
       "<div>\n",
       "<style scoped>\n",
       "    .dataframe tbody tr th:only-of-type {\n",
       "        vertical-align: middle;\n",
       "    }\n",
       "\n",
       "    .dataframe tbody tr th {\n",
       "        vertical-align: top;\n",
       "    }\n",
       "\n",
       "    .dataframe thead th {\n",
       "        text-align: right;\n",
       "    }\n",
       "</style>\n",
       "<table border=\"1\" class=\"dataframe\">\n",
       "  <thead>\n",
       "    <tr style=\"text-align: right;\">\n",
       "      <th></th>\n",
       "      <th>patient_nbr</th>\n",
       "      <th>race</th>\n",
       "      <th>gender</th>\n",
       "      <th>age</th>\n",
       "      <th>weight</th>\n",
       "      <th>time_in_hospital</th>\n",
       "      <th>num_med_proc</th>\n",
       "      <th>number_diagnoses</th>\n",
       "      <th>insulin</th>\n",
       "    </tr>\n",
       "  </thead>\n",
       "  <tbody>\n",
       "    <tr>\n",
       "      <th>0</th>\n",
       "      <td>8222157</td>\n",
       "      <td>Caucasian</td>\n",
       "      <td>Female</td>\n",
       "      <td>[0-10)</td>\n",
       "      <td>?</td>\n",
       "      <td>1</td>\n",
       "      <td>42</td>\n",
       "      <td>1</td>\n",
       "      <td>No</td>\n",
       "    </tr>\n",
       "    <tr>\n",
       "      <th>1</th>\n",
       "      <td>55629189</td>\n",
       "      <td>Caucasian</td>\n",
       "      <td>Female</td>\n",
       "      <td>[10-20)</td>\n",
       "      <td>?</td>\n",
       "      <td>3</td>\n",
       "      <td>77</td>\n",
       "      <td>9</td>\n",
       "      <td>Up</td>\n",
       "    </tr>\n",
       "    <tr>\n",
       "      <th>2</th>\n",
       "      <td>86047875</td>\n",
       "      <td>AfricanAmerican</td>\n",
       "      <td>Female</td>\n",
       "      <td>[20-30)</td>\n",
       "      <td>?</td>\n",
       "      <td>2</td>\n",
       "      <td>29</td>\n",
       "      <td>6</td>\n",
       "      <td>No</td>\n",
       "    </tr>\n",
       "    <tr>\n",
       "      <th>3</th>\n",
       "      <td>82442376</td>\n",
       "      <td>Caucasian</td>\n",
       "      <td>Male</td>\n",
       "      <td>[30-40)</td>\n",
       "      <td>?</td>\n",
       "      <td>2</td>\n",
       "      <td>61</td>\n",
       "      <td>7</td>\n",
       "      <td>Up</td>\n",
       "    </tr>\n",
       "    <tr>\n",
       "      <th>4</th>\n",
       "      <td>42519267</td>\n",
       "      <td>Caucasian</td>\n",
       "      <td>Male</td>\n",
       "      <td>[40-50)</td>\n",
       "      <td>?</td>\n",
       "      <td>1</td>\n",
       "      <td>59</td>\n",
       "      <td>5</td>\n",
       "      <td>Steady</td>\n",
       "    </tr>\n",
       "  </tbody>\n",
       "</table>\n",
       "</div>"
      ]
     },
     "execution_count": 3,
     "metadata": {},
     "output_type": "execute_result"
    }
   ],
   "execution_count": 3
  },
  {
   "metadata": {
    "ExecuteTime": {
     "end_time": "2024-10-14T03:33:25.263501Z",
     "start_time": "2024-10-14T03:33:25.219748Z"
    }
   },
   "cell_type": "code",
   "source": [
    "chi2, p, dof, expected = stats.chi2_contingency(pd.crosstab(df['race'], df['insulin']))\n",
    "\n",
    "expected_freq_less_than_5 = (expected < 5).sum()\n",
    "total_expected_freq = expected.size\n",
    "percentage_less_than_5 = (expected_freq_less_than_5 / total_expected_freq) * 100"
   ],
   "id": "ed89994b8ac86510",
   "outputs": [],
   "execution_count": 4
  },
  {
   "metadata": {
    "ExecuteTime": {
     "end_time": "2024-10-14T03:33:25.374776Z",
     "start_time": "2024-10-14T03:33:25.354049Z"
    }
   },
   "cell_type": "code",
   "source": [
    "print(f'Chi2: {chi2}')\n",
    "print(f'P-value: {p}')\n",
    "print(f'Degrees of Freedom: {dof}')\n",
    "print(f'Expected Frequencies:\\n{expected}')\n",
    "print(f\"Number of expected frequencies < 5: {expected_freq_less_than_5}\")\n",
    "print(f\"Percentage of expected frequencies < 5: {percentage_less_than_5:.2f}%\")"
   ],
   "id": "9f4dbf9afbcf326f",
   "outputs": [
    {
     "name": "stdout",
     "output_type": "stream",
     "text": [
      "Chi2: 399.2995738880935\n",
      "P-value: 5.325010038515392e-78\n",
      "Degrees of Freedom: 12\n",
      "Expected Frequencies:\n",
      "[[ 2324.47699838  8977.3970028   5773.44556904  2134.68042978]\n",
      " [   77.5632356    299.55811967   192.64854814    71.23009659]\n",
      " [ 9208.24440915 35563.29695556 22871.07935232  8456.37928296]\n",
      " [  246.48410441   951.94990602   612.2076327    226.35835687]\n",
      " [  182.23125245   703.79801594   452.61889781   167.3518338 ]]\n",
      "Number of expected frequencies < 5: 0\n",
      "Percentage of expected frequencies < 5: 0.00%\n"
     ]
    }
   ],
   "execution_count": 5
  },
  {
   "metadata": {
    "ExecuteTime": {
     "end_time": "2024-10-14T03:33:25.556472Z",
     "start_time": "2024-10-14T03:33:25.551632Z"
    }
   },
   "cell_type": "code",
   "source": [
    "print('More than 20% of the expected frequencies are less than 5, '\n",
    "      'please try using different categorical variables for the test.' if percentage_less_than_5 > 20\n",
    "      else 'Valid')"
   ],
   "id": "b3649d6645e94dd",
   "outputs": [
    {
     "name": "stdout",
     "output_type": "stream",
     "text": [
      "Valid\n"
     ]
    }
   ],
   "execution_count": 6
  },
  {
   "metadata": {
    "ExecuteTime": {
     "end_time": "2024-10-14T03:33:25.659752Z",
     "start_time": "2024-10-14T03:33:25.656344Z"
    }
   },
   "cell_type": "code",
   "source": "",
   "id": "d9d3e54a6de4bbb9",
   "outputs": [],
   "execution_count": null
  }
 ],
 "metadata": {
  "kernelspec": {
   "display_name": "Python 3",
   "language": "python",
   "name": "python3"
  },
  "language_info": {
   "codemirror_mode": {
    "name": "ipython",
    "version": 2
   },
   "file_extension": ".py",
   "mimetype": "text/x-python",
   "name": "python",
   "nbconvert_exporter": "python",
   "pygments_lexer": "ipython2",
   "version": "2.7.6"
  }
 },
 "nbformat": 4,
 "nbformat_minor": 5
}
