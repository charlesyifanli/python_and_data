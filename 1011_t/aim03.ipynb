{
 "cells": [
  {
   "metadata": {},
   "cell_type": "markdown",
   "source": [
    "AIM 3: Perform Chi-square test\n",
    "\n",
    "1. Use the same diabetic_data\n",
    "2. Try to find which two variables can be used for the Chi-Square, and then perform the said test\n",
    "    2.1. After doing the test, calculate the 'expected frequency'\n",
    "    2.2. Count the total number of 'expected frequency'\n",
    "    2.3. Count the number of 'expected frequency' where the value is less than 5\n",
    "    2.3. Get the percentage of 'expected frequency' taht is less than 5 comapred to the total number of 'expected frequency'\n",
    "    2.4. If it is more than 20%, then try the test on different sets of categorical variables\n",
    "3. Interpret the results of the test.\n"
   ],
   "id": "54f8e17047ebb729"
  },
  {
   "metadata": {},
   "cell_type": "code",
   "outputs": [],
   "execution_count": null,
   "source": "",
   "id": "764bcc365dca46da"
  }
 ],
 "metadata": {
  "kernelspec": {
   "display_name": "Python 3",
   "language": "python",
   "name": "python3"
  },
  "language_info": {
   "codemirror_mode": {
    "name": "ipython",
    "version": 2
   },
   "file_extension": ".py",
   "mimetype": "text/x-python",
   "name": "python",
   "nbconvert_exporter": "python",
   "pygments_lexer": "ipython2",
   "version": "2.7.6"
  }
 },
 "nbformat": 4,
 "nbformat_minor": 5
}
