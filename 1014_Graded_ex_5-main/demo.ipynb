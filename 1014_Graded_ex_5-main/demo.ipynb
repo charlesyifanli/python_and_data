{
 "cells": [
  {
   "cell_type": "code",
   "id": "initial_id",
   "metadata": {
    "collapsed": true,
    "ExecuteTime": {
     "end_time": "2024-10-14T06:05:17.505412Z",
     "start_time": "2024-10-14T06:05:16.699236Z"
    }
   },
   "source": "import pandas as pd",
   "outputs": [],
   "execution_count": 1
  },
  {
   "metadata": {
    "ExecuteTime": {
     "end_time": "2024-10-14T06:05:21.521119Z",
     "start_time": "2024-10-14T06:05:21.500890Z"
    }
   },
   "cell_type": "code",
   "source": "df = pd.read_csv('test.csv')",
   "id": "a4b9e6a4e7c4f45a",
   "outputs": [],
   "execution_count": 2
  },
  {
   "metadata": {
    "ExecuteTime": {
     "end_time": "2024-10-14T06:06:17.805422Z",
     "start_time": "2024-10-14T06:06:17.788571Z"
    }
   },
   "cell_type": "code",
   "source": "a = df.select_dtypes(include=['object'])",
   "id": "37f22646652c8f61",
   "outputs": [],
   "execution_count": 4
  },
  {
   "metadata": {
    "ExecuteTime": {
     "end_time": "2024-10-14T06:06:25.376644Z",
     "start_time": "2024-10-14T06:06:25.366354Z"
    }
   },
   "cell_type": "code",
   "source": [
    "for i in a:\n",
    "    print(i)"
   ],
   "id": "975ef781dcd478a0",
   "outputs": [
    {
     "name": "stdout",
     "output_type": "stream",
     "text": [
      "Visit_1_remark\n",
      "Visit_2_remark\n",
      "Visit_3_remark\n"
     ]
    }
   ],
   "execution_count": 5
  },
  {
   "metadata": {},
   "cell_type": "code",
   "outputs": [],
   "execution_count": null,
   "source": "",
   "id": "ca2a62173763a2db"
  }
 ],
 "metadata": {
  "kernelspec": {
   "display_name": "Python 3",
   "language": "python",
   "name": "python3"
  },
  "language_info": {
   "codemirror_mode": {
    "name": "ipython",
    "version": 2
   },
   "file_extension": ".py",
   "mimetype": "text/x-python",
   "name": "python",
   "nbconvert_exporter": "python",
   "pygments_lexer": "ipython2",
   "version": "2.7.6"
  }
 },
 "nbformat": 4,
 "nbformat_minor": 5
}
