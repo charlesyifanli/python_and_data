{
 "cells": [
  {
   "cell_type": "code",
   "id": "3b08383369d9694",
   "metadata": {
    "ExecuteTime": {
     "end_time": "2024-09-11T02:43:31.662090Z",
     "start_time": "2024-09-11T02:43:31.652461Z"
    }
   },
   "source": [
    "from time import process_time_ns\n",
    "\n",
    "tuple4 = 'hello', 'world'\n",
    "print(type(tuple4))"
   ],
   "outputs": [
    {
     "name": "stdout",
     "output_type": "stream",
     "text": [
      "<class 'tuple'>\n"
     ]
    }
   ],
   "execution_count": 2
  },
  {
   "cell_type": "code",
   "id": "b335749a8acf5cb7",
   "metadata": {
    "ExecuteTime": {
     "end_time": "2024-09-11T02:43:31.733485Z",
     "start_time": "2024-09-11T02:43:31.727683Z"
    }
   },
   "source": [
    "demo = 1, 2, 3, 4\n",
    "print(type(demo))"
   ],
   "outputs": [
    {
     "name": "stdout",
     "output_type": "stream",
     "text": [
      "<class 'tuple'>\n"
     ]
    }
   ],
   "execution_count": 3
  },
  {
   "cell_type": "code",
   "id": "b8f5ca7cb00efdef",
   "metadata": {
    "ExecuteTime": {
     "end_time": "2024-09-11T02:43:31.922837Z",
     "start_time": "2024-09-11T02:43:31.912542Z"
    }
   },
   "source": [
    "tuple5 = 1, 2, 3, 1, 'demo', 'world', True\n",
    "print(type(tuple5))\n",
    "print(tuple5[-5:-1])"
   ],
   "outputs": [
    {
     "name": "stdout",
     "output_type": "stream",
     "text": [
      "<class 'tuple'>\n",
      "(3, 1, 'demo', 'world')\n"
     ]
    }
   ],
   "execution_count": 4
  },
  {
   "cell_type": "code",
   "id": "5d3de5d769083c8e",
   "metadata": {
    "ExecuteTime": {
     "end_time": "2024-09-11T02:43:31.960951Z",
     "start_time": "2024-09-11T02:43:31.951839Z"
    }
   },
   "source": [
    "print(len(tuple5))"
   ],
   "outputs": [
    {
     "name": "stdout",
     "output_type": "stream",
     "text": [
      "7\n"
     ]
    }
   ],
   "execution_count": 5
  },
  {
   "cell_type": "code",
   "id": "ac9d7565b995705",
   "metadata": {
    "ExecuteTime": {
     "end_time": "2024-09-11T02:43:32.037659Z",
     "start_time": "2024-09-11T02:43:32.032190Z"
    }
   },
   "source": [
    "tuple1 = 1, 'Tom', False, 'hello'\n",
    "print('Item exists') if 'Tom' in tuple1 else print('Item not exists')"
   ],
   "outputs": [
    {
     "name": "stdout",
     "output_type": "stream",
     "text": [
      "Item exists\n"
     ]
    }
   ],
   "execution_count": 6
  },
  {
   "cell_type": "code",
   "id": "a0dc5befdf042991",
   "metadata": {
    "ExecuteTime": {
     "end_time": "2024-09-11T02:43:32.124494Z",
     "start_time": "2024-09-11T02:43:32.115686Z"
    }
   },
   "source": [
    "tuple1 = 1, 'Tom', False, 'hello'\n",
    "print('item exists' if 'Tom' in tuple1 else 'item not exists')"
   ],
   "outputs": [
    {
     "name": "stdout",
     "output_type": "stream",
     "text": [
      "item exists\n"
     ]
    }
   ],
   "execution_count": 7
  },
  {
   "cell_type": "code",
   "id": "f982b6e017e62b34",
   "metadata": {
    "ExecuteTime": {
     "end_time": "2024-09-11T02:43:32.333451Z",
     "start_time": "2024-09-11T02:43:32.323054Z"
    }
   },
   "source": [
    "print(tuple1[1])"
   ],
   "outputs": [
    {
     "name": "stdout",
     "output_type": "stream",
     "text": [
      "Tom\n"
     ]
    }
   ],
   "execution_count": 8
  },
  {
   "cell_type": "code",
   "id": "1846bbefdf55b151",
   "metadata": {
    "ExecuteTime": {
     "end_time": "2024-09-11T02:47:34.162415Z",
     "start_time": "2024-09-11T02:47:34.146049Z"
    }
   },
   "source": [
    "tuple1 = (1, 2, 'hello', 4)\n",
    "tuple2 = 'hello', 'world'"
   ],
   "outputs": [],
   "execution_count": 28
  },
  {
   "cell_type": "code",
   "id": "c7bc0eb5-0715-45d3-af3a-eedcba470e67",
   "metadata": {
    "ExecuteTime": {
     "end_time": "2024-09-11T02:47:34.950556Z",
     "start_time": "2024-09-11T02:47:34.936729Z"
    }
   },
   "source": [
    "tuple1 += tuple2\n",
    "print(tuple1)"
   ],
   "outputs": [
    {
     "name": "stdout",
     "output_type": "stream",
     "text": [
      "(1, 2, 'hello', 4, 'hello', 'world')\n"
     ]
    }
   ],
   "execution_count": 29
  },
  {
   "cell_type": "code",
   "id": "52612ff8-5047-4705-bcf1-fc0ac499bdc3",
   "metadata": {
    "ExecuteTime": {
     "end_time": "2024-09-11T02:47:35.786124Z",
     "start_time": "2024-09-11T02:47:35.778496Z"
    }
   },
   "source": "a, b, c, d, e, f = tuple1",
   "outputs": [],
   "execution_count": 30
  },
  {
   "metadata": {
    "ExecuteTime": {
     "end_time": "2024-09-11T02:47:37.865510Z",
     "start_time": "2024-09-11T02:47:37.854488Z"
    }
   },
   "cell_type": "code",
   "source": "print(a, b, c, d, e)",
   "id": "5e7696f207ca1f49",
   "outputs": [
    {
     "name": "stdout",
     "output_type": "stream",
     "text": [
      "1 2 hello 4 hello\n"
     ]
    }
   ],
   "execution_count": 31
  },
  {
   "metadata": {
    "ExecuteTime": {
     "end_time": "2024-09-11T02:47:38.780765Z",
     "start_time": "2024-09-11T02:47:38.766921Z"
    }
   },
   "cell_type": "code",
   "source": "print(tuple1)",
   "id": "e4c1bb219379dc87",
   "outputs": [
    {
     "name": "stdout",
     "output_type": "stream",
     "text": [
      "(1, 2, 'hello', 4, 'hello', 'world')\n"
     ]
    }
   ],
   "execution_count": 32
  },
  {
   "metadata": {
    "ExecuteTime": {
     "end_time": "2024-09-11T02:47:40.461069Z",
     "start_time": "2024-09-11T02:47:40.455825Z"
    }
   },
   "cell_type": "code",
   "source": "print(tuple1.count('hello'))",
   "id": "95437b94c6f0c0bd",
   "outputs": [
    {
     "name": "stdout",
     "output_type": "stream",
     "text": [
      "2\n"
     ]
    }
   ],
   "execution_count": 33
  },
  {
   "metadata": {
    "ExecuteTime": {
     "end_time": "2024-09-11T02:57:24.843407Z",
     "start_time": "2024-09-11T02:57:24.830403Z"
    }
   },
   "cell_type": "code",
   "source": [
    "tuple1 = 1, 2, 0, 3, 2.2, False, 'str', False, (2, 3), [1, 2, 3]\n",
    "print(tuple1.count(False))"
   ],
   "id": "c0e1969530273f28",
   "outputs": [
    {
     "name": "stdout",
     "output_type": "stream",
     "text": [
      "3\n"
     ]
    }
   ],
   "execution_count": 39
  },
  {
   "metadata": {},
   "cell_type": "markdown",
   "source": "## dictionary",
   "id": "ad86ec422fa11249"
  },
  {
   "metadata": {
    "ExecuteTime": {
     "end_time": "2024-09-11T03:17:37.026708Z",
     "start_time": "2024-09-11T03:17:37.016045Z"
    }
   },
   "cell_type": "code",
   "source": [
    "my_dict = {'Joe': 23, 'Maddy': 34, 'Hick': 28}\n",
    "print(my_dict)"
   ],
   "id": "ee302c4b0cc676a5",
   "outputs": [
    {
     "name": "stdout",
     "output_type": "stream",
     "text": [
      "{'Joe': 23, 'Maddy': 34, 'Hick': 28}\n"
     ]
    }
   ],
   "execution_count": 1
  },
  {
   "metadata": {
    "ExecuteTime": {
     "end_time": "2024-09-11T03:17:56.317539Z",
     "start_time": "2024-09-11T03:17:56.304350Z"
    }
   },
   "cell_type": "code",
   "source": "print(my_dict['Joe'])",
   "id": "40f4f614c7552c22",
   "outputs": [
    {
     "name": "stdout",
     "output_type": "stream",
     "text": [
      "23\n"
     ]
    }
   ],
   "execution_count": 2
  },
  {
   "metadata": {
    "ExecuteTime": {
     "end_time": "2024-09-11T03:19:46.705132Z",
     "start_time": "2024-09-11T03:19:46.695554Z"
    }
   },
   "cell_type": "code",
   "source": [
    "for idx, val in enumerate(my_dict.items()):\n",
    "    print(f'{idx}--{val}')"
   ],
   "id": "3a10de4e45caa704",
   "outputs": [
    {
     "name": "stdout",
     "output_type": "stream",
     "text": [
      "0--('Joe', 23)\n",
      "1--('Maddy', 34)\n",
      "2--('Hick', 28)\n"
     ]
    }
   ],
   "execution_count": 7
  },
  {
   "metadata": {
    "ExecuteTime": {
     "end_time": "2024-09-11T03:20:46.700843Z",
     "start_time": "2024-09-11T03:20:46.681630Z"
    }
   },
   "cell_type": "code",
   "source": [
    "data = sorted(my_dict.items(), key=lambda x: x[1])\n",
    "print(data)"
   ],
   "id": "e949c633614f9ca1",
   "outputs": [
    {
     "name": "stdout",
     "output_type": "stream",
     "text": [
      "[('Joe', 23), ('Hick', 28), ('Maddy', 34)]\n"
     ]
    }
   ],
   "execution_count": 8
  },
  {
   "metadata": {
    "ExecuteTime": {
     "end_time": "2024-09-11T03:22:03.868583Z",
     "start_time": "2024-09-11T03:22:03.850809Z"
    }
   },
   "cell_type": "code",
   "source": [
    "data_dict = dict(data)\n",
    "print(data_dict)"
   ],
   "id": "c1b30b22921ab9c5",
   "outputs": [
    {
     "name": "stdout",
     "output_type": "stream",
     "text": [
      "{'Joe': 23, 'Hick': 28, 'Maddy': 34}\n"
     ]
    }
   ],
   "execution_count": 11
  },
  {
   "metadata": {
    "ExecuteTime": {
     "end_time": "2024-09-11T03:23:15.413407Z",
     "start_time": "2024-09-11T03:23:15.394660Z"
    }
   },
   "cell_type": "code",
   "source": "print(data_dict.get('Kimi', 'There is no Kimi'))",
   "id": "b10746d7bcb45a73",
   "outputs": [
    {
     "name": "stdout",
     "output_type": "stream",
     "text": [
      "There is no Kimi\n"
     ]
    }
   ],
   "execution_count": 15
  },
  {
   "metadata": {
    "ExecuteTime": {
     "end_time": "2024-09-11T03:26:54.404944Z",
     "start_time": "2024-09-11T03:26:54.395001Z"
    }
   },
   "cell_type": "code",
   "source": "print(data_dict.values())",
   "id": "4400144284c73792",
   "outputs": [
    {
     "name": "stdout",
     "output_type": "stream",
     "text": [
      "dict_values([23, 28, 34])\n"
     ]
    }
   ],
   "execution_count": 16
  },
  {
   "metadata": {
    "ExecuteTime": {
     "end_time": "2024-09-11T03:27:10.827642Z",
     "start_time": "2024-09-11T03:27:10.819947Z"
    }
   },
   "cell_type": "code",
   "source": "print(data_dict.keys())",
   "id": "e5ae5183746e5e5e",
   "outputs": [
    {
     "name": "stdout",
     "output_type": "stream",
     "text": [
      "dict_keys(['Joe', 'Hick', 'Maddy'])\n"
     ]
    }
   ],
   "execution_count": 17
  },
  {
   "metadata": {
    "ExecuteTime": {
     "end_time": "2024-09-11T03:27:24.614996Z",
     "start_time": "2024-09-11T03:27:24.605202Z"
    }
   },
   "cell_type": "code",
   "source": "print(data_dict.items())",
   "id": "3f48db421343e4e9",
   "outputs": [
    {
     "name": "stdout",
     "output_type": "stream",
     "text": [
      "dict_items([('Joe', 23), ('Hick', 28), ('Maddy', 34)])\n"
     ]
    }
   ],
   "execution_count": 18
  },
  {
   "metadata": {
    "ExecuteTime": {
     "end_time": "2024-09-11T03:29:42.034961Z",
     "start_time": "2024-09-11T03:29:42.020391Z"
    }
   },
   "cell_type": "code",
   "source": "print('yes' if 'Joe' in data_dict else 'No')",
   "id": "e591f972b44aab09",
   "outputs": [
    {
     "name": "stdout",
     "output_type": "stream",
     "text": [
      "yes\n"
     ]
    }
   ],
   "execution_count": 19
  },
  {
   "metadata": {
    "ExecuteTime": {
     "end_time": "2024-09-11T03:29:53.365749Z",
     "start_time": "2024-09-11T03:29:53.347013Z"
    }
   },
   "cell_type": "code",
   "source": "print('yes' if 23 in data_dict else 'No')",
   "id": "7484c2e30c14ba13",
   "outputs": [
    {
     "name": "stdout",
     "output_type": "stream",
     "text": [
      "No\n"
     ]
    }
   ],
   "execution_count": 20
  },
  {
   "metadata": {
    "ExecuteTime": {
     "end_time": "2024-09-11T03:34:23.068334Z",
     "start_time": "2024-09-11T03:34:23.062248Z"
    }
   },
   "cell_type": "code",
   "source": [
    "my_dict = {'Joe': 23, 'Maddy': 34, 'Hick': 28}\n",
    "print(my_dict)"
   ],
   "id": "d747a09b1b4cedc3",
   "outputs": [
    {
     "name": "stdout",
     "output_type": "stream",
     "text": [
      "{'Joe': 23, 'Maddy': 34, 'Hick': 28}\n"
     ]
    }
   ],
   "execution_count": 25
  },
  {
   "metadata": {
    "ExecuteTime": {
     "end_time": "2024-09-11T03:34:23.839936Z",
     "start_time": "2024-09-11T03:34:23.830034Z"
    }
   },
   "cell_type": "code",
   "source": [
    "my_dict['kimi'] = 25\n",
    "print(my_dict)"
   ],
   "id": "ae132b5881fc22e2",
   "outputs": [
    {
     "name": "stdout",
     "output_type": "stream",
     "text": [
      "{'Joe': 23, 'Maddy': 34, 'Hick': 28, 'kimi': 25}\n"
     ]
    }
   ],
   "execution_count": 26
  },
  {
   "metadata": {
    "ExecuteTime": {
     "end_time": "2024-09-11T03:34:24.609135Z",
     "start_time": "2024-09-11T03:34:24.605317Z"
    }
   },
   "cell_type": "code",
   "source": [
    "my_dict['kimi'] = 52\n",
    "print(my_dict)"
   ],
   "id": "c75522855d033c61",
   "outputs": [
    {
     "name": "stdout",
     "output_type": "stream",
     "text": [
      "{'Joe': 23, 'Maddy': 34, 'Hick': 28, 'kimi': 52}\n"
     ]
    }
   ],
   "execution_count": 27
  },
  {
   "metadata": {},
   "cell_type": "markdown",
   "source": "## deleting",
   "id": "1b44384139ad4a6c"
  },
  {
   "metadata": {
    "ExecuteTime": {
     "end_time": "2024-09-11T03:38:44.229664Z",
     "start_time": "2024-09-11T03:38:44.220970Z"
    }
   },
   "cell_type": "code",
   "source": [
    "my_dict = {'Joe': 23, 'Maddy': 34, 'Hick': 28, \"kimi\": 65}\n",
    "print(my_dict)"
   ],
   "id": "7a9ab50fa94e7137",
   "outputs": [
    {
     "name": "stdout",
     "output_type": "stream",
     "text": [
      "{'Joe': 23, 'Maddy': 34, 'Hick': 28, 'kimi': 65}\n"
     ]
    }
   ],
   "execution_count": 32
  },
  {
   "metadata": {
    "ExecuteTime": {
     "end_time": "2024-09-11T03:38:44.937181Z",
     "start_time": "2024-09-11T03:38:44.933847Z"
    }
   },
   "cell_type": "code",
   "source": [
    "my_dict.pop('kimi')\n",
    "print(my_dict)"
   ],
   "id": "391e38a2ae151880",
   "outputs": [
    {
     "name": "stdout",
     "output_type": "stream",
     "text": [
      "{'Joe': 23, 'Maddy': 34, 'Hick': 28}\n"
     ]
    }
   ],
   "execution_count": 33
  },
  {
   "metadata": {
    "ExecuteTime": {
     "end_time": "2024-09-11T03:38:45.634988Z",
     "start_time": "2024-09-11T03:38:45.626716Z"
    }
   },
   "cell_type": "code",
   "source": [
    "my_dict.popitem()\n",
    "print(my_dict)"
   ],
   "id": "46d10bc84ddcea5f",
   "outputs": [
    {
     "name": "stdout",
     "output_type": "stream",
     "text": [
      "{'Joe': 23, 'Maddy': 34}\n"
     ]
    }
   ],
   "execution_count": 34
  },
  {
   "metadata": {
    "ExecuteTime": {
     "end_time": "2024-09-11T03:39:04.407530Z",
     "start_time": "2024-09-11T03:39:04.397161Z"
    }
   },
   "cell_type": "code",
   "source": [
    "my_dict = {'Joe': 23, 'Maddy': 34, 'Hick': 28, \"kimi\": 65}\n",
    "print(my_dict)"
   ],
   "id": "a2665b26415abe3b",
   "outputs": [
    {
     "name": "stdout",
     "output_type": "stream",
     "text": [
      "{'Joe': 23, 'Maddy': 34, 'Hick': 28, 'kimi': 65}\n"
     ]
    }
   ],
   "execution_count": 35
  },
  {
   "metadata": {
    "ExecuteTime": {
     "end_time": "2024-09-11T03:39:40.724685Z",
     "start_time": "2024-09-11T03:39:40.718498Z"
    }
   },
   "cell_type": "code",
   "source": [
    "del my_dict['Joe']\n",
    "print(my_dict)"
   ],
   "id": "b1d59f07efa4cfda",
   "outputs": [
    {
     "name": "stdout",
     "output_type": "stream",
     "text": [
      "{'Maddy': 34, 'Hick': 28, 'kimi': 65}\n"
     ]
    }
   ],
   "execution_count": 37
  },
  {
   "metadata": {
    "ExecuteTime": {
     "end_time": "2024-09-11T03:39:53.375888Z",
     "start_time": "2024-09-11T03:39:53.367570Z"
    }
   },
   "cell_type": "code",
   "source": [
    "my_dict.clear()\n",
    "print(my_dict)"
   ],
   "id": "a4440e1f32997f43",
   "outputs": [
    {
     "name": "stdout",
     "output_type": "stream",
     "text": [
      "{}\n"
     ]
    }
   ],
   "execution_count": 38
  },
  {
   "metadata": {
    "ExecuteTime": {
     "end_time": "2024-09-11T03:40:33.174777Z",
     "start_time": "2024-09-11T03:40:33.156228Z"
    }
   },
   "cell_type": "code",
   "source": [
    "my_dict = {'Joe': 23, 'Maddy': 34, 'Hick': 28, \"kimi\": 65}\n",
    "print(my_dict)"
   ],
   "id": "1f164c6400a2dbba",
   "outputs": [
    {
     "name": "stdout",
     "output_type": "stream",
     "text": [
      "{'Joe': 23, 'Maddy': 34, 'Hick': 28, 'kimi': 65}\n"
     ]
    }
   ],
   "execution_count": 41
  },
  {
   "metadata": {
    "ExecuteTime": {
     "end_time": "2024-09-11T03:41:13.755620Z",
     "start_time": "2024-09-11T03:41:13.749875Z"
    }
   },
   "cell_type": "code",
   "source": [
    "for x in my_dict:\n",
    "    print(x)"
   ],
   "id": "cafcb2bb52fbe2a5",
   "outputs": [
    {
     "name": "stdout",
     "output_type": "stream",
     "text": [
      "Joe\n",
      "Maddy\n",
      "Hick\n",
      "kimi\n"
     ]
    }
   ],
   "execution_count": 42
  },
  {
   "metadata": {
    "ExecuteTime": {
     "end_time": "2024-09-11T03:41:45.119717Z",
     "start_time": "2024-09-11T03:41:45.115855Z"
    }
   },
   "cell_type": "code",
   "source": [
    "for x in my_dict:\n",
    "    print(my_dict[x])"
   ],
   "id": "2f0ddfe33102b95f",
   "outputs": [
    {
     "name": "stdout",
     "output_type": "stream",
     "text": [
      "23\n",
      "34\n",
      "28\n",
      "65\n"
     ]
    }
   ],
   "execution_count": 43
  },
  {
   "metadata": {
    "ExecuteTime": {
     "end_time": "2024-09-11T03:42:13.520685Z",
     "start_time": "2024-09-11T03:42:13.509842Z"
    }
   },
   "cell_type": "code",
   "source": [
    "for x, y in my_dict.items():\n",
    "    print(f'key:{x}, value:{y}')"
   ],
   "id": "d4bc4467472b197f",
   "outputs": [
    {
     "name": "stdout",
     "output_type": "stream",
     "text": [
      "key:Joe, value:23\n",
      "key:Maddy, value:34\n",
      "key:Hick, value:28\n",
      "key:kimi, value:65\n"
     ]
    }
   ],
   "execution_count": 44
  },
  {
   "metadata": {
    "ExecuteTime": {
     "end_time": "2024-09-11T03:43:42.276335Z",
     "start_time": "2024-09-11T03:43:42.262948Z"
    }
   },
   "cell_type": "code",
   "source": [
    "for idx, item in enumerate(my_dict.items()):\n",
    "    key, val = item\n",
    "    print(f'idx:{idx}, key:{key}, value:{val}')"
   ],
   "id": "6214385e6a8a4b46",
   "outputs": [
    {
     "name": "stdout",
     "output_type": "stream",
     "text": [
      "idx:0, key:Joe, value:23\n",
      "idx:1, key:Maddy, value:34\n",
      "idx:2, key:Hick, value:28\n",
      "idx:3, key:kimi, value:65\n"
     ]
    }
   ],
   "execution_count": 46
  },
  {
   "metadata": {
    "ExecuteTime": {
     "end_time": "2024-09-11T03:44:22.798897Z",
     "start_time": "2024-09-11T03:44:22.782108Z"
    }
   },
   "cell_type": "code",
   "source": "print(list(enumerate(my_dict.items())))",
   "id": "3419457f62538895",
   "outputs": [
    {
     "name": "stdout",
     "output_type": "stream",
     "text": [
      "[(0, ('Joe', 23)), (1, ('Maddy', 34)), (2, ('Hick', 28)), (3, ('kimi', 65))]\n"
     ]
    }
   ],
   "execution_count": 48
  },
  {
   "metadata": {},
   "cell_type": "markdown",
   "source": "## nested loop",
   "id": "b96d4eb3ee1487f0"
  },
  {
   "metadata": {
    "ExecuteTime": {
     "end_time": "2024-09-11T03:47:56.610522Z",
     "start_time": "2024-09-11T03:47:56.603319Z"
    }
   },
   "cell_type": "code",
   "source": [
    "dict1 = {'name': 'John', 'age': 32}\n",
    "dict2 = {'name': 'Sammy', 'age': 25}\n",
    "dict3 = {'name': 'Butch', 'age': 26}\n",
    "\n",
    "nested_dict = {\n",
    "    'key1': dict1,\n",
    "    'key2': dict2,\n",
    "    'key3': dict3\n",
    "}\n",
    "\n",
    "print(nested_dict)"
   ],
   "id": "c2877d304c0b3be6",
   "outputs": [
    {
     "name": "stdout",
     "output_type": "stream",
     "text": [
      "{'key1': {'name': 'John', 'age': 32}, 'key2': {'name': 'Sammy', 'age': 25}, 'key3': {'name': 'Butch', 'age': 26}}\n"
     ]
    }
   ],
   "execution_count": 54
  },
  {
   "metadata": {
    "ExecuteTime": {
     "end_time": "2024-09-11T03:47:57.561527Z",
     "start_time": "2024-09-11T03:47:57.557366Z"
    }
   },
   "cell_type": "code",
   "source": "print(nested_dict['key1']['age'])",
   "id": "bf8f9c3f6b0f8a5a",
   "outputs": [
    {
     "name": "stdout",
     "output_type": "stream",
     "text": [
      "32\n"
     ]
    }
   ],
   "execution_count": 55
  },
  {
   "metadata": {
    "ExecuteTime": {
     "end_time": "2024-09-11T03:49:48.884331Z",
     "start_time": "2024-09-11T03:49:48.867454Z"
    }
   },
   "cell_type": "code",
   "source": [
    "for outer_keys, inner_dict in nested_dict.items():\n",
    "    print(outer_keys)\n",
    "    for inner_keys in inner_dict:\n",
    "        print(inner_keys + ':', inner_dict[inner_keys])"
   ],
   "id": "bd22b797fd06810b",
   "outputs": [
    {
     "name": "stdout",
     "output_type": "stream",
     "text": [
      "key1\n",
      "name: John\n",
      "age: 32\n",
      "key2\n",
      "name: Sammy\n",
      "age: 25\n",
      "key3\n",
      "name: Butch\n",
      "age: 26\n"
     ]
    }
   ],
   "execution_count": 57
  },
  {
   "metadata": {},
   "cell_type": "code",
   "outputs": [],
   "execution_count": null,
   "source": "",
   "id": "ddc84539ec1593f9"
  }
 ],
 "metadata": {
  "kernelspec": {
   "display_name": "Python 3 (ipykernel)",
   "language": "python",
   "name": "python3"
  },
  "language_info": {
   "codemirror_mode": {
    "name": "ipython",
    "version": 3
   },
   "file_extension": ".py",
   "mimetype": "text/x-python",
   "name": "python",
   "nbconvert_exporter": "python",
   "pygments_lexer": "ipython3",
   "version": "3.11.9"
  }
 },
 "nbformat": 4,
 "nbformat_minor": 5
}
