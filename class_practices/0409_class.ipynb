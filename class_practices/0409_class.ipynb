{
 "cells": [
  {
   "cell_type": "code",
   "id": "initial_id",
   "metadata": {
    "collapsed": true,
    "jupyter": {
     "is_executing": true
    }
   },
   "source": [
    "salary = 3000\n",
    "experience = 3\n",
    "employee_level = 2\n",
    "if salary <= 3000:\n",
    "    if experience > 3:\n",
    "        if employee_level >= 2:\n",
    "            print('The employee is eligible for a bonus.')\n",
    "        else:\n",
    "            print('Sorry, you are not yet at the level to receive a bonus')\n",
    "    else:\n",
    "        print('Sorry, you are under experienced. You cannot receive a bonus yet')\n",
    "else:\n",
    "    print('Sorry, you earn more than 3000. So, you are not entitled to a bonus')\n"
   ],
   "outputs": [],
   "execution_count": null
  },
  {
   "metadata": {},
   "cell_type": "markdown",
   "source": "",
   "id": "700bbf109d86ffc7"
  },
  {
   "metadata": {
    "ExecuteTime": {
     "end_time": "2024-09-05T03:11:48.966378Z",
     "start_time": "2024-09-05T03:11:48.952479Z"
    }
   },
   "cell_type": "code",
   "source": [
    "experience = -3\n",
    "if experience:\n",
    "    print('hello')"
   ],
   "id": "7afa80f921217b3c",
   "outputs": [
    {
     "name": "stdout",
     "output_type": "stream",
     "text": [
      "hello\n"
     ]
    }
   ],
   "execution_count": 1
  },
  {
   "metadata": {},
   "cell_type": "code",
   "outputs": [],
   "execution_count": null,
   "source": "",
   "id": "c4a29d6f3e514cdb"
  }
 ],
 "metadata": {
  "kernelspec": {
   "display_name": "Python 3",
   "language": "python",
   "name": "python3"
  },
  "language_info": {
   "codemirror_mode": {
    "name": "ipython",
    "version": 2
   },
   "file_extension": ".py",
   "mimetype": "text/x-python",
   "name": "python",
   "nbconvert_exporter": "python",
   "pygments_lexer": "ipython2",
   "version": "2.7.6"
  }
 },
 "nbformat": 4,
 "nbformat_minor": 5
}
