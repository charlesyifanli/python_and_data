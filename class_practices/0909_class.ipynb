{
 "cells": [
  {
   "cell_type": "code",
   "id": "initial_id",
   "metadata": {
    "collapsed": true,
    "ExecuteTime": {
     "end_time": "2024-09-09T02:54:40.724345Z",
     "start_time": "2024-09-09T02:54:40.710310Z"
    }
   },
   "source": [
    "list1 = ['Twinkle', 'twinkle', 'little', 'star']\n",
    "list2 = [1, 2, 3, 4]\n",
    "list3 = [1, 2, 'buckle my shoe', 3, 4, 'shut the door']\n",
    "\n",
    "combined_list = list1 + list2\n",
    "nested_list = [list1, list2, 45, 'Alice']\n",
    "\n",
    "print(list1)\n",
    "print(list2)\n",
    "print(list3)\n",
    "print(combined_list)\n",
    "print(nested_list)"
   ],
   "outputs": [
    {
     "name": "stdout",
     "output_type": "stream",
     "text": [
      "['Twinkle', 'twinkle', 'little', 'star']\n",
      "[1, 2, 3, 4]\n",
      "[1, 2, 'buckle my shoe', 3, 4, 'shut the door']\n",
      "['Twinkle', 'twinkle', 'little', 'star', 1, 2, 3, 4]\n",
      "[['Twinkle', 'twinkle', 'little', 'star'], [1, 2, 3, 4], 45, 'Alice']\n"
     ]
    }
   ],
   "execution_count": 1
  },
  {
   "metadata": {
    "ExecuteTime": {
     "end_time": "2024-09-09T02:54:40.782100Z",
     "start_time": "2024-09-09T02:54:40.778114Z"
    }
   },
   "cell_type": "code",
   "source": [
    "print(len(combined_list))\n",
    "print(len(nested_list))"
   ],
   "id": "8563a4513b175b35",
   "outputs": [
    {
     "name": "stdout",
     "output_type": "stream",
     "text": [
      "8\n",
      "4\n"
     ]
    }
   ],
   "execution_count": 2
  },
  {
   "metadata": {
    "ExecuteTime": {
     "end_time": "2024-09-09T02:54:41.016977Z",
     "start_time": "2024-09-09T02:54:41.003033Z"
    }
   },
   "cell_type": "code",
   "source": [
    "list3 = [22, 11, 28]\n",
    "list3.extend([20, 12, 3])\n",
    "print(list3)"
   ],
   "id": "a2180083cca1dc4a",
   "outputs": [
    {
     "name": "stdout",
     "output_type": "stream",
     "text": [
      "[22, 11, 28, 20, 12, 3]\n"
     ]
    }
   ],
   "execution_count": 3
  },
  {
   "metadata": {
    "ExecuteTime": {
     "end_time": "2024-09-09T02:54:41.229664Z",
     "start_time": "2024-09-09T02:54:41.223399Z"
    }
   },
   "cell_type": "code",
   "source": [
    "list3.append(35)\n",
    "print(list3)"
   ],
   "id": "2a8b0db8300a738c",
   "outputs": [
    {
     "name": "stdout",
     "output_type": "stream",
     "text": [
      "[22, 11, 28, 20, 12, 3, 35]\n"
     ]
    }
   ],
   "execution_count": 4
  },
  {
   "metadata": {
    "ExecuteTime": {
     "end_time": "2024-09-09T02:54:41.451024Z",
     "start_time": "2024-09-09T02:54:41.445694Z"
    }
   },
   "cell_type": "code",
   "source": [
    "list3.insert(4, 14)\n",
    "print(list3)"
   ],
   "id": "d9e4ae7806a3b7a",
   "outputs": [
    {
     "name": "stdout",
     "output_type": "stream",
     "text": [
      "[22, 11, 28, 20, 14, 12, 3, 35]\n"
     ]
    }
   ],
   "execution_count": 5
  },
  {
   "metadata": {
    "ExecuteTime": {
     "end_time": "2024-09-09T03:11:53.280574Z",
     "start_time": "2024-09-09T03:11:53.271399Z"
    }
   },
   "cell_type": "code",
   "source": [
    "list3.remove(22)\n",
    "print(list3)"
   ],
   "id": "b4c2f132dc4fb4f0",
   "outputs": [
    {
     "name": "stdout",
     "output_type": "stream",
     "text": [
      "[11, 28, 20, 14, 12, 3, 35]\n"
     ]
    }
   ],
   "execution_count": 6
  },
  {
   "metadata": {
    "ExecuteTime": {
     "end_time": "2024-09-09T03:12:40.719157Z",
     "start_time": "2024-09-09T03:12:40.714872Z"
    }
   },
   "cell_type": "code",
   "source": [
    "list3.pop(-1)\n",
    "print(list3)"
   ],
   "id": "ace1b86344f28c1e",
   "outputs": [
    {
     "name": "stdout",
     "output_type": "stream",
     "text": [
      "[11, 28, 20, 14, 12, 3]\n"
     ]
    }
   ],
   "execution_count": 7
  },
  {
   "metadata": {
    "ExecuteTime": {
     "end_time": "2024-09-09T03:19:09.883700Z",
     "start_time": "2024-09-09T03:19:09.880601Z"
    }
   },
   "cell_type": "code",
   "source": [
    "demo = [1, 4, 2, 3, 4, 4, 4, ]\n",
    "demo.remove(4)\n",
    "print(demo)"
   ],
   "id": "1218109d721421fe",
   "outputs": [
    {
     "name": "stdout",
     "output_type": "stream",
     "text": [
      "[1, 2, 3, 4, 4, 4]\n"
     ]
    }
   ],
   "execution_count": 9
  },
  {
   "metadata": {
    "ExecuteTime": {
     "end_time": "2024-09-09T03:20:01.198812Z",
     "start_time": "2024-09-09T03:20:01.193938Z"
    }
   },
   "cell_type": "code",
   "source": [
    "sorted_list = sorted(list3)\n",
    "print(sorted_list)\n",
    "print(list3)"
   ],
   "id": "1d83d8d5f4912f7",
   "outputs": [
    {
     "name": "stdout",
     "output_type": "stream",
     "text": [
      "[3, 11, 12, 14, 20, 28]\n",
      "[11, 28, 20, 14, 12, 3]\n"
     ]
    }
   ],
   "execution_count": 10
  },
  {
   "metadata": {
    "ExecuteTime": {
     "end_time": "2024-09-09T03:22:07.479871Z",
     "start_time": "2024-09-09T03:22:07.473654Z"
    }
   },
   "cell_type": "code",
   "source": [
    "sorted_list = sorted(list3, reverse=True)\n",
    "print(sorted_list)"
   ],
   "id": "c6a7781d1ed8406a",
   "outputs": [
    {
     "name": "stdout",
     "output_type": "stream",
     "text": [
      "[28, 20, 14, 12, 11, 3]\n"
     ]
    }
   ],
   "execution_count": 11
  },
  {
   "metadata": {
    "ExecuteTime": {
     "end_time": "2024-09-09T03:23:24.547193Z",
     "start_time": "2024-09-09T03:23:24.543041Z"
    }
   },
   "cell_type": "code",
   "source": [
    "sorted_list = sorted(list3)\n",
    "print(sorted_list)"
   ],
   "id": "f3dd5db25b415421",
   "outputs": [
    {
     "name": "stdout",
     "output_type": "stream",
     "text": [
      "[3, 11, 12, 14, 20, 28]\n"
     ]
    }
   ],
   "execution_count": 12
  },
  {
   "metadata": {
    "ExecuteTime": {
     "end_time": "2024-09-09T03:24:12.663260Z",
     "start_time": "2024-09-09T03:24:12.651456Z"
    }
   },
   "cell_type": "code",
   "source": "print(list(reversed(sorted_list)))",
   "id": "d5e67daf631e2186",
   "outputs": [
    {
     "name": "stdout",
     "output_type": "stream",
     "text": [
      "[28, 20, 14, 12, 11, 3]\n"
     ]
    }
   ],
   "execution_count": 14
  },
  {
   "metadata": {
    "ExecuteTime": {
     "end_time": "2024-09-09T03:24:34.918676Z",
     "start_time": "2024-09-09T03:24:34.905328Z"
    }
   },
   "cell_type": "code",
   "source": "print(list3)",
   "id": "4d80a1c76ec8eb68",
   "outputs": [
    {
     "name": "stdout",
     "output_type": "stream",
     "text": [
      "[11, 28, 20, 14, 12, 3]\n"
     ]
    }
   ],
   "execution_count": 15
  },
  {
   "metadata": {
    "ExecuteTime": {
     "end_time": "2024-09-09T03:24:49.193463Z",
     "start_time": "2024-09-09T03:24:49.177429Z"
    }
   },
   "cell_type": "code",
   "source": [
    "list3.sort()\n",
    "print(list3)"
   ],
   "id": "7ffcceb7cf23858a",
   "outputs": [
    {
     "name": "stdout",
     "output_type": "stream",
     "text": [
      "[3, 11, 12, 14, 20, 28]\n"
     ]
    }
   ],
   "execution_count": 16
  },
  {
   "metadata": {
    "ExecuteTime": {
     "end_time": "2024-09-09T03:31:05.002201Z",
     "start_time": "2024-09-09T03:31:04.991619Z"
    }
   },
   "cell_type": "code",
   "source": [
    "unpack_a_list = [1, 2, 3, 4, 5]\n",
    "a, b, c, d, e = unpack_a_list\n",
    "print(f'{a},{b},{c},{d},{e}')"
   ],
   "id": "e8698311ef38693d",
   "outputs": [
    {
     "name": "stdout",
     "output_type": "stream",
     "text": [
      "1,2,3,4,5\n"
     ]
    }
   ],
   "execution_count": 19
  },
  {
   "metadata": {
    "ExecuteTime": {
     "end_time": "2024-09-09T03:31:27.944132Z",
     "start_time": "2024-09-09T03:31:27.940393Z"
    }
   },
   "cell_type": "code",
   "source": "print(*unpack_a_list)",
   "id": "4dddb151ad1afb73",
   "outputs": [
    {
     "name": "stdout",
     "output_type": "stream",
     "text": [
      "1 2 3 4 5\n"
     ]
    }
   ],
   "execution_count": 20
  },
  {
   "metadata": {
    "ExecuteTime": {
     "end_time": "2024-09-09T03:33:56.726774Z",
     "start_time": "2024-09-09T03:33:56.721452Z"
    }
   },
   "cell_type": "code",
   "source": [
    "my_list = [1, 2, 3, 4, 5, 6, 7, 8]\n",
    "result = [value for value in my_list if value % 2 == 0]\n",
    "print(result)"
   ],
   "id": "4547d0bfc0eea38d",
   "outputs": [
    {
     "name": "stdout",
     "output_type": "stream",
     "text": [
      "[2, 4, 6, 8]\n"
     ]
    }
   ],
   "execution_count": 21
  },
  {
   "metadata": {
    "ExecuteTime": {
     "end_time": "2024-09-09T05:51:02.635987Z",
     "start_time": "2024-09-09T05:51:02.621757Z"
    }
   },
   "cell_type": "code",
   "source": [
    "list01 = ['1', '2', '3']\n",
    "list02 = ['room', 'number']\n",
    "\n",
    "print(*list02)"
   ],
   "id": "52544da369ca7150",
   "outputs": [
    {
     "name": "stdout",
     "output_type": "stream",
     "text": [
      "room number\n"
     ]
    }
   ],
   "execution_count": 5
  },
  {
   "metadata": {},
   "cell_type": "code",
   "outputs": [],
   "execution_count": null,
   "source": "",
   "id": "cb9dd32a6dd446e"
  }
 ],
 "metadata": {
  "kernelspec": {
   "display_name": "Python 3",
   "language": "python",
   "name": "python3"
  },
  "language_info": {
   "codemirror_mode": {
    "name": "ipython",
    "version": 2
   },
   "file_extension": ".py",
   "mimetype": "text/x-python",
   "name": "python",
   "nbconvert_exporter": "python",
   "pygments_lexer": "ipython2",
   "version": "2.7.6"
  }
 },
 "nbformat": 4,
 "nbformat_minor": 5
}
