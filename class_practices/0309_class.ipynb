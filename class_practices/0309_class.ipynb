{
 "cells": [
  {
   "cell_type": "markdown",
   "id": "b58c920f-05ba-41e4-a112-b287b60b82e1",
   "metadata": {},
   "source": [
    "## Testing Python's boolean features:;"
   ]
  },
  {
   "cell_type": "code",
   "id": "cfa4acd0-1aad-4856-9749-304e91693062",
   "metadata": {
    "ExecuteTime": {
     "end_time": "2024-09-03T03:49:32.658702Z",
     "start_time": "2024-09-03T03:49:32.639479Z"
    }
   },
   "source": "print(20 > 2)",
   "outputs": [
    {
     "name": "stdout",
     "output_type": "stream",
     "text": [
      "True\n"
     ]
    }
   ],
   "execution_count": 1
  },
  {
   "cell_type": "code",
   "id": "ea5f6f0f-8936-460d-9186-f20ea0066939",
   "metadata": {
    "ExecuteTime": {
     "end_time": "2024-09-03T03:49:32.739964Z",
     "start_time": "2024-09-03T03:49:32.733534Z"
    }
   },
   "source": "print(1 < 2)",
   "outputs": [
    {
     "name": "stdout",
     "output_type": "stream",
     "text": [
      "True\n"
     ]
    }
   ],
   "execution_count": 2
  },
  {
   "cell_type": "markdown",
   "id": "7fe6a8c8-04b0-4216-b4f4-eed0294db4a0",
   "metadata": {},
   "source": [
    "## Testing bool();"
   ]
  },
  {
   "cell_type": "code",
   "id": "a5e9aee3-1866-4586-aa70-a3d7c56610a6",
   "metadata": {
    "ExecuteTime": {
     "end_time": "2024-09-03T03:49:32.766755Z",
     "start_time": "2024-09-03T03:49:32.749564Z"
    }
   },
   "source": [
    "print(bool(\"hello\"))"
   ],
   "outputs": [
    {
     "name": "stdout",
     "output_type": "stream",
     "text": [
      "True\n"
     ]
    }
   ],
   "execution_count": 3
  },
  {
   "cell_type": "code",
   "id": "67848481-dcf8-45a4-8bf2-51a40fcbeef6",
   "metadata": {
    "ExecuteTime": {
     "end_time": "2024-09-03T03:49:32.792987Z",
     "start_time": "2024-09-03T03:49:32.782192Z"
    }
   },
   "source": [
    "print(bool(0))"
   ],
   "outputs": [
    {
     "name": "stdout",
     "output_type": "stream",
     "text": [
      "False\n"
     ]
    }
   ],
   "execution_count": 4
  },
  {
   "cell_type": "code",
   "id": "071cda50-4851-49ea-a3c1-e81d1a5f1559",
   "metadata": {
    "ExecuteTime": {
     "end_time": "2024-09-03T03:49:32.851416Z",
     "start_time": "2024-09-03T03:49:32.844456Z"
    }
   },
   "source": [
    "print(bool(None))"
   ],
   "outputs": [
    {
     "name": "stdout",
     "output_type": "stream",
     "text": [
      "False\n"
     ]
    }
   ],
   "execution_count": 5
  },
  {
   "cell_type": "markdown",
   "id": "d1cf1e0c-1a6c-40b7-b5ec-ae7e50ed82f7",
   "metadata": {},
   "source": [
    "## Testing string datatype in python;"
   ]
  },
  {
   "cell_type": "code",
   "id": "1cd74378-4a16-452d-bd00-647ab2d1decc",
   "metadata": {
    "ExecuteTime": {
     "end_time": "2024-09-03T03:49:32.949120Z",
     "start_time": "2024-09-03T03:49:32.943580Z"
    }
   },
   "source": [
    "str1 = \"hello\"\n",
    "print(str1)"
   ],
   "outputs": [
    {
     "name": "stdout",
     "output_type": "stream",
     "text": [
      "hello\n"
     ]
    }
   ],
   "execution_count": 6
  },
  {
   "cell_type": "code",
   "id": "dfe063aa-7e61-4569-924b-44c06e40ad38",
   "metadata": {
    "ExecuteTime": {
     "end_time": "2024-09-03T03:49:32.973455Z",
     "start_time": "2024-09-03T03:49:32.954939Z"
    }
   },
   "source": [
    "str2 = \"Jacob's Ladder\"\n",
    "print(str2)"
   ],
   "outputs": [
    {
     "name": "stdout",
     "output_type": "stream",
     "text": [
      "Jacob's Ladder\n"
     ]
    }
   ],
   "execution_count": 7
  },
  {
   "cell_type": "code",
   "id": "708a4a38-51b1-4650-9fcd-6765fe39fc8b",
   "metadata": {
    "ExecuteTime": {
     "end_time": "2024-09-03T03:49:32.992683Z",
     "start_time": "2024-09-03T03:49:32.986585Z"
    }
   },
   "source": [
    "str2 = \"Jacob\\\"s Ladder\"\n",
    "print(str2)"
   ],
   "outputs": [
    {
     "name": "stdout",
     "output_type": "stream",
     "text": [
      "Jacob\"s Ladder\n"
     ]
    }
   ],
   "execution_count": 8
  },
  {
   "cell_type": "code",
   "id": "e3c2319c-8a19-41f3-a2d1-360553d97268",
   "metadata": {
    "ExecuteTime": {
     "end_time": "2024-09-03T03:49:33.037250Z",
     "start_time": "2024-09-03T03:49:33.018130Z"
    }
   },
   "source": [
    "str2 = \"Jacob\\\\'s Ladder\"\n",
    "print(str2)"
   ],
   "outputs": [
    {
     "name": "stdout",
     "output_type": "stream",
     "text": [
      "Jacob\\'s Ladder\n"
     ]
    }
   ],
   "execution_count": 9
  },
  {
   "cell_type": "code",
   "id": "57c8ecc7-bcf3-4017-bdbd-df5e3116e709",
   "metadata": {
    "ExecuteTime": {
     "end_time": "2024-09-03T03:49:33.069672Z",
     "start_time": "2024-09-03T03:49:33.059097Z"
    }
   },
   "source": [
    "str2 = \"Jacob\\\\\\\"s Ladder\"\n",
    "print(str2)"
   ],
   "outputs": [
    {
     "name": "stdout",
     "output_type": "stream",
     "text": [
      "Jacob\\\"s Ladder\n"
     ]
    }
   ],
   "execution_count": 10
  },
  {
   "cell_type": "code",
   "id": "7d34e72a-4584-4479-8210-607e0e7147df",
   "metadata": {
    "ExecuteTime": {
     "end_time": "2024-09-03T03:49:33.167854Z",
     "start_time": "2024-09-03T03:49:33.160272Z"
    }
   },
   "source": [
    "str2 = 'Jacob\\\\\\'s Ladder'\n",
    "print(str2)"
   ],
   "outputs": [
    {
     "name": "stdout",
     "output_type": "stream",
     "text": [
      "Jacob\\'s Ladder\n"
     ]
    }
   ],
   "execution_count": 11
  },
  {
   "metadata": {},
   "cell_type": "markdown",
   "source": "## Testing string as an array in Python",
   "id": "c5d5a2b703e74e31"
  },
  {
   "metadata": {
    "ExecuteTime": {
     "end_time": "2024-09-03T03:49:33.228639Z",
     "start_time": "2024-09-03T03:49:33.223117Z"
    }
   },
   "cell_type": "code",
   "source": [
    "str2 = \"Alice in Wonderland\"\n",
    "print(str2[0])\n",
    "print(str2[-1])\n",
    "print(str2[-3])"
   ],
   "id": "bd649e1084c2082a",
   "outputs": [
    {
     "name": "stdout",
     "output_type": "stream",
     "text": [
      "A\n",
      "d\n",
      "a\n"
     ]
    }
   ],
   "execution_count": 12
  },
  {
   "metadata": {},
   "cell_type": "markdown",
   "source": "## Concatenation (Combing)",
   "id": "d5501da07c7e389d"
  },
  {
   "metadata": {
    "ExecuteTime": {
     "end_time": "2024-09-03T03:49:33.270347Z",
     "start_time": "2024-09-03T03:49:33.255769Z"
    }
   },
   "cell_type": "code",
   "source": [
    "char1 = 'Baa '\n",
    "char2 = 'Baa '\n",
    "char3 = 'Baa '\n",
    "char4 = 'Black '\n",
    "char5 = 'Sheep.'\n",
    "str1 = char1 + char2 + char3 + char4 + char5\n",
    "print(str1)"
   ],
   "id": "bce9b2894a45e583",
   "outputs": [
    {
     "name": "stdout",
     "output_type": "stream",
     "text": [
      "Baa Baa Baa Black Sheep.\n"
     ]
    }
   ],
   "execution_count": 13
  },
  {
   "metadata": {},
   "cell_type": "markdown",
   "source": "## Character lookup in string",
   "id": "46b7f558b0c64946"
  },
  {
   "metadata": {
    "ExecuteTime": {
     "end_time": "2024-09-03T03:49:33.277711Z",
     "start_time": "2024-09-03T03:49:33.270347Z"
    }
   },
   "cell_type": "code",
   "source": [
    "str1 = \"Anaconda\"\n",
    "if ' ' in str1:\n",
    "    print(\"' ' is present in str1\")\n",
    "else:\n",
    "    print(\"' ' is not present in str1\")"
   ],
   "id": "d26c20c8be6480d3",
   "outputs": [
    {
     "name": "stdout",
     "output_type": "stream",
     "text": [
      "' ' is not present in str1\n"
     ]
    }
   ],
   "execution_count": 14
  },
  {
   "metadata": {},
   "cell_type": "markdown",
   "source": "## Repeating a string",
   "id": "7c4d4867324a1dd2"
  },
  {
   "metadata": {
    "ExecuteTime": {
     "end_time": "2024-09-03T03:49:33.326168Z",
     "start_time": "2024-09-03T03:49:33.317547Z"
    }
   },
   "cell_type": "code",
   "source": [
    "str1 = 'Yippee!' * 3\n",
    "print(str1)"
   ],
   "id": "1ad292e91654356c",
   "outputs": [
    {
     "name": "stdout",
     "output_type": "stream",
     "text": [
      "Yippee!Yippee!Yippee!\n"
     ]
    }
   ],
   "execution_count": 15
  },
  {
   "metadata": {},
   "cell_type": "markdown",
   "source": "## Calculating the length",
   "id": "a99b6c5dd2e3cffb"
  },
  {
   "metadata": {
    "ExecuteTime": {
     "end_time": "2024-09-03T03:49:33.379309Z",
     "start_time": "2024-09-03T03:49:33.364837Z"
    }
   },
   "cell_type": "code",
   "source": [
    "str1 = 'Wizard of Oz'\n",
    "print(len(str1))"
   ],
   "id": "fb7aa467181bbfd0",
   "outputs": [
    {
     "name": "stdout",
     "output_type": "stream",
     "text": [
      "12\n"
     ]
    }
   ],
   "execution_count": 16
  },
  {
   "metadata": {},
   "cell_type": "markdown",
   "source": "## Slicing a string",
   "id": "fb66e9efc69ea4cc"
  },
  {
   "metadata": {
    "ExecuteTime": {
     "end_time": "2024-09-03T03:49:33.422371Z",
     "start_time": "2024-09-03T03:49:33.412608Z"
    }
   },
   "cell_type": "code",
   "source": [
    "str1 = 'Aurora Borealis'\n",
    "slice1 = str1[0:3]\n",
    "slice2 = str1[1:]\n",
    "slice3 = str1[-3:]\n",
    "print(slice1)\n",
    "print(slice2)\n",
    "print(slice3)"
   ],
   "id": "2592fd3c0a5344a3",
   "outputs": [
    {
     "name": "stdout",
     "output_type": "stream",
     "text": [
      "Aur\n",
      "urora Borealis\n",
      "lis\n"
     ]
    }
   ],
   "execution_count": 17
  },
  {
   "metadata": {},
   "cell_type": "markdown",
   "source": "## Looping through a string",
   "id": "5dc4b1fedb7e73ca"
  },
  {
   "metadata": {
    "ExecuteTime": {
     "end_time": "2024-09-03T03:49:33.461588Z",
     "start_time": "2024-09-03T03:49:33.444596Z"
    }
   },
   "cell_type": "code",
   "source": [
    "str1 = 'Jack and Jill'\n",
    "for x in str1:\n",
    "    print(x)"
   ],
   "id": "d7d97de269cc0ec6",
   "outputs": [
    {
     "name": "stdout",
     "output_type": "stream",
     "text": [
      "J\n",
      "a\n",
      "c\n",
      "k\n",
      " \n",
      "a\n",
      "n\n",
      "d\n",
      " \n",
      "J\n",
      "i\n",
      "l\n",
      "l\n"
     ]
    }
   ],
   "execution_count": 18
  },
  {
   "metadata": {},
   "cell_type": "markdown",
   "source": "## Substring lookup",
   "id": "776fe2dc99a60d68"
  },
  {
   "metadata": {
    "ExecuteTime": {
     "end_time": "2024-09-03T03:49:33.486516Z",
     "start_time": "2024-09-03T03:49:33.476096Z"
    }
   },
   "cell_type": "code",
   "source": [
    "str1 = 'Jurassic Park'\n",
    "print('sic' in str1)\n",
    "print('sic' not in str1)\n",
    "print('park' in str1)"
   ],
   "id": "f9394128e82b5e3b",
   "outputs": [
    {
     "name": "stdout",
     "output_type": "stream",
     "text": [
      "True\n",
      "False\n",
      "False\n"
     ]
    }
   ],
   "execution_count": 19
  },
  {
   "metadata": {},
   "cell_type": "markdown",
   "source": "## String formatting",
   "id": "a49e12053cf5a84"
  },
  {
   "metadata": {
    "ExecuteTime": {
     "end_time": "2024-09-03T03:49:33.525460Z",
     "start_time": "2024-09-03T03:49:33.507939Z"
    }
   },
   "cell_type": "code",
   "source": [
    "name = 'Arnold'\n",
    "age = 40\n",
    "print(f\"Your name is {name} and your age is {age}\")\n",
    "print(\"Your name is {0} and your age is {1}\".format(name, age))\n",
    "print(\"Your name is %s and your age is %d\" % (name, age))"
   ],
   "id": "319206f38c38a996",
   "outputs": [
    {
     "name": "stdout",
     "output_type": "stream",
     "text": [
      "Your name is Arnold and your age is 40\n",
      "Your name is Arnold and your age is 40\n",
      "Your name is Arnold and your age is 40\n"
     ]
    }
   ],
   "execution_count": 20
  },
  {
   "metadata": {},
   "cell_type": "markdown",
   "source": "## Some methods in Python",
   "id": "989ac660b5ffdf2c"
  },
  {
   "metadata": {
    "ExecuteTime": {
     "end_time": "2024-09-03T03:49:33.547165Z",
     "start_time": "2024-09-03T03:49:33.540307Z"
    }
   },
   "cell_type": "code",
   "source": [
    "str1 = 'Python'\n",
    "str2 = ' Apples, apples, apples, everywhere. '"
   ],
   "id": "911742ca7a78fa79",
   "outputs": [],
   "execution_count": 21
  },
  {
   "metadata": {
    "ExecuteTime": {
     "end_time": "2024-09-03T03:49:33.622270Z",
     "start_time": "2024-09-03T03:49:33.603210Z"
    }
   },
   "cell_type": "code",
   "source": [
    "print(str1.upper())\n",
    "print(str1.lower())\n",
    "print(str2.strip())\n",
    "print(str2.replace('apples', 'oranges'))\n",
    "print(str2.split(','))\n",
    "print(str2.count('apples'))\n",
    "print(str2.count('apples', 4, 15))"
   ],
   "id": "4718dc3bdbbe6797",
   "outputs": [
    {
     "name": "stdout",
     "output_type": "stream",
     "text": [
      "PYTHON\n",
      "python\n",
      "Apples, apples, apples, everywhere.\n",
      " Apples, oranges, oranges, everywhere. \n",
      "[' Apples', ' apples', ' apples', ' everywhere. ']\n",
      "2\n",
      "1\n"
     ]
    }
   ],
   "execution_count": 22
  },
  {
   "metadata": {
    "ExecuteTime": {
     "end_time": "2024-09-03T03:49:33.645657Z",
     "start_time": "2024-09-03T03:49:33.638197Z"
    }
   },
   "cell_type": "code",
   "source": [
    "print(str1.startswith('P'))\n",
    "print(str1.endswith('.'))\n",
    "print(str2.find('apples'))"
   ],
   "id": "11507712e42b59c",
   "outputs": [
    {
     "name": "stdout",
     "output_type": "stream",
     "text": [
      "True\n",
      "False\n",
      "9\n"
     ]
    }
   ],
   "execution_count": 23
  },
  {
   "metadata": {
    "ExecuteTime": {
     "end_time": "2024-09-03T03:49:33.685786Z",
     "start_time": "2024-09-03T03:49:33.682523Z"
    }
   },
   "cell_type": "code",
   "source": "",
   "id": "594d1f0640910142",
   "outputs": [],
   "execution_count": 23
  }
 ],
 "metadata": {
  "kernelspec": {
   "display_name": "Python 3 (ipykernel)",
   "language": "python",
   "name": "python3"
  },
  "language_info": {
   "codemirror_mode": {
    "name": "ipython",
    "version": 3
   },
   "file_extension": ".py",
   "mimetype": "text/x-python",
   "name": "python",
   "nbconvert_exporter": "python",
   "pygments_lexer": "ipython3",
   "version": "3.11.9"
  }
 },
 "nbformat": 4,
 "nbformat_minor": 5
}
