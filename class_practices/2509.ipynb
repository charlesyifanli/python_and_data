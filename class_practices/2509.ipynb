{
 "cells": [
  {
   "cell_type": "code",
   "id": "initial_id",
   "metadata": {
    "collapsed": true,
    "ExecuteTime": {
     "end_time": "2024-09-25T07:45:33.384917Z",
     "start_time": "2024-09-25T07:45:33.280342Z"
    }
   },
   "source": [
    "import numpy as np\n",
    "from tornado.gen import multi"
   ],
   "outputs": [],
   "execution_count": 1
  },
  {
   "metadata": {
    "ExecuteTime": {
     "end_time": "2024-09-25T07:57:28.803703Z",
     "start_time": "2024-09-25T07:57:28.791043Z"
    }
   },
   "cell_type": "code",
   "source": [
    "arr = np.array([1, 2, 3, 4])\n",
    "arr2 = np.array([[1, 2, 3, 4], [5, 6, 7, 8]])\n",
    "print(arr.shape)"
   ],
   "id": "f9464f775f3ba4a",
   "outputs": [
    {
     "name": "stdout",
     "output_type": "stream",
     "text": [
      "(4,)\n"
     ]
    }
   ],
   "execution_count": 3
  },
  {
   "metadata": {
    "ExecuteTime": {
     "end_time": "2024-09-25T07:57:29.894374Z",
     "start_time": "2024-09-25T07:57:29.886708Z"
    }
   },
   "cell_type": "code",
   "source": "print(arr2.shape)",
   "id": "88f377114ce8257e",
   "outputs": [
    {
     "name": "stdout",
     "output_type": "stream",
     "text": [
      "(2, 4)\n"
     ]
    }
   ],
   "execution_count": 4
  },
  {
   "metadata": {
    "ExecuteTime": {
     "end_time": "2024-09-25T07:58:33.019560Z",
     "start_time": "2024-09-25T07:58:33.010969Z"
    }
   },
   "cell_type": "code",
   "source": [
    "arr3 = np.array([[1, 2, 3, 4]])\n",
    "print(arr3.shape)"
   ],
   "id": "639f022a21df09dd",
   "outputs": [
    {
     "name": "stdout",
     "output_type": "stream",
     "text": [
      "(1, 4)\n"
     ]
    }
   ],
   "execution_count": 5
  },
  {
   "metadata": {
    "ExecuteTime": {
     "end_time": "2024-09-25T07:59:17.919029Z",
     "start_time": "2024-09-25T07:59:17.912954Z"
    }
   },
   "cell_type": "code",
   "source": [
    "print(arr.size)\n",
    "print(arr2.size)"
   ],
   "id": "f29306a1c96a7ae5",
   "outputs": [
    {
     "name": "stdout",
     "output_type": "stream",
     "text": [
      "4\n",
      "8\n"
     ]
    }
   ],
   "execution_count": 6
  },
  {
   "metadata": {
    "ExecuteTime": {
     "end_time": "2024-09-25T08:00:13.132852Z",
     "start_time": "2024-09-25T08:00:13.127671Z"
    }
   },
   "cell_type": "code",
   "source": [
    "arr4 = np.array(5)\n",
    "print(arr4.shape)"
   ],
   "id": "697224690970fe90",
   "outputs": [
    {
     "name": "stdout",
     "output_type": "stream",
     "text": [
      "()\n"
     ]
    }
   ],
   "execution_count": 7
  },
  {
   "metadata": {
    "ExecuteTime": {
     "end_time": "2024-09-25T08:00:45.020810Z",
     "start_time": "2024-09-25T08:00:45.010859Z"
    }
   },
   "cell_type": "code",
   "source": [
    "arr5 = np.array([[[1, 2, 3, 4]]])\n",
    "print(arr5.shape)"
   ],
   "id": "67c21901d11355a0",
   "outputs": [
    {
     "name": "stdout",
     "output_type": "stream",
     "text": [
      "(1, 1, 4)\n"
     ]
    }
   ],
   "execution_count": 8
  },
  {
   "metadata": {
    "ExecuteTime": {
     "end_time": "2024-09-25T08:01:48.041003Z",
     "start_time": "2024-09-25T08:01:48.033067Z"
    }
   },
   "cell_type": "code",
   "source": [
    "print(arr.dtype)\n",
    "print(arr2.dtype)"
   ],
   "id": "26329b303202312e",
   "outputs": [
    {
     "name": "stdout",
     "output_type": "stream",
     "text": [
      "int64\n",
      "int64\n"
     ]
    }
   ],
   "execution_count": 9
  },
  {
   "metadata": {
    "ExecuteTime": {
     "end_time": "2024-09-25T08:02:30.454164Z",
     "start_time": "2024-09-25T08:02:30.446832Z"
    }
   },
   "cell_type": "code",
   "source": [
    "zeros_array = np.zeros((2, 3))\n",
    "print(zeros_array.shape)\n",
    "print(zeros_array)"
   ],
   "id": "17f7539f469efcdc",
   "outputs": [
    {
     "name": "stdout",
     "output_type": "stream",
     "text": [
      "(2, 3)\n",
      "[[0. 0. 0.]\n",
      " [0. 0. 0.]]\n"
     ]
    }
   ],
   "execution_count": 10
  },
  {
   "metadata": {
    "ExecuteTime": {
     "end_time": "2024-09-25T08:03:45.464113Z",
     "start_time": "2024-09-25T08:03:45.459389Z"
    }
   },
   "cell_type": "code",
   "source": [
    "rng_arr = np.arange(10)\n",
    "rng_arr2 = np.arange(2, 10)\n",
    "rng_arr3 = np.arange(2, 10, 2)"
   ],
   "id": "2c501f4ee7adcef6",
   "outputs": [],
   "execution_count": 11
  },
  {
   "metadata": {
    "ExecuteTime": {
     "end_time": "2024-09-25T08:03:53.044529Z",
     "start_time": "2024-09-25T08:03:53.038528Z"
    }
   },
   "cell_type": "code",
   "source": "print(rng_arr)",
   "id": "5e9b97467c226e30",
   "outputs": [
    {
     "name": "stdout",
     "output_type": "stream",
     "text": [
      "[0 1 2 3 4 5 6 7 8 9]\n"
     ]
    }
   ],
   "execution_count": 12
  },
  {
   "metadata": {
    "ExecuteTime": {
     "end_time": "2024-09-25T08:03:57.711797Z",
     "start_time": "2024-09-25T08:03:57.704536Z"
    }
   },
   "cell_type": "code",
   "source": "print(rng_arr2)",
   "id": "3b4ef8cac63d3f09",
   "outputs": [
    {
     "name": "stdout",
     "output_type": "stream",
     "text": [
      "[2 3 4 5 6 7 8 9]\n"
     ]
    }
   ],
   "execution_count": 13
  },
  {
   "metadata": {
    "ExecuteTime": {
     "end_time": "2024-09-25T08:04:02.117467Z",
     "start_time": "2024-09-25T08:04:02.110450Z"
    }
   },
   "cell_type": "code",
   "source": "print(rng_arr3)",
   "id": "8ec1f2a58a433f95",
   "outputs": [
    {
     "name": "stdout",
     "output_type": "stream",
     "text": [
      "[2 4 6 8]\n"
     ]
    }
   ],
   "execution_count": 14
  },
  {
   "metadata": {
    "ExecuteTime": {
     "end_time": "2024-09-25T08:04:33.329036Z",
     "start_time": "2024-09-25T08:04:33.319990Z"
    }
   },
   "cell_type": "code",
   "source": "print(type(rng_arr))",
   "id": "6727319a8f89540a",
   "outputs": [
    {
     "name": "stdout",
     "output_type": "stream",
     "text": [
      "<class 'numpy.ndarray'>\n"
     ]
    }
   ],
   "execution_count": 15
  },
  {
   "metadata": {
    "ExecuteTime": {
     "end_time": "2024-09-25T08:07:06.980878Z",
     "start_time": "2024-09-25T08:07:06.954254Z"
    }
   },
   "cell_type": "code",
   "source": [
    "arr = np.random.rand()\n",
    "arr1 = np.random.rand(5)\n",
    "arr2 = np.random.rand(2, 3)\n",
    "arr3 = np.random.rand(2, 3, 2)"
   ],
   "id": "13494cd5e93f9cc8",
   "outputs": [],
   "execution_count": 16
  },
  {
   "metadata": {
    "ExecuteTime": {
     "end_time": "2024-09-25T08:07:13.498261Z",
     "start_time": "2024-09-25T08:07:13.494115Z"
    }
   },
   "cell_type": "code",
   "source": "print(arr)",
   "id": "f4ef381b3e07bd51",
   "outputs": [
    {
     "name": "stdout",
     "output_type": "stream",
     "text": [
      "0.5621226904999649\n"
     ]
    }
   ],
   "execution_count": 17
  },
  {
   "metadata": {
    "ExecuteTime": {
     "end_time": "2024-09-25T08:07:22.593290Z",
     "start_time": "2024-09-25T08:07:22.587031Z"
    }
   },
   "cell_type": "code",
   "source": "print(arr1)",
   "id": "46963d9e4ede913",
   "outputs": [
    {
     "name": "stdout",
     "output_type": "stream",
     "text": [
      "[0.31471501 0.94608476 0.10050754 0.9265967  0.01767236]\n"
     ]
    }
   ],
   "execution_count": 18
  },
  {
   "metadata": {
    "ExecuteTime": {
     "end_time": "2024-09-25T08:07:27.560095Z",
     "start_time": "2024-09-25T08:07:27.549099Z"
    }
   },
   "cell_type": "code",
   "source": "print(arr2)",
   "id": "594b1a1aa8717ae",
   "outputs": [
    {
     "name": "stdout",
     "output_type": "stream",
     "text": [
      "[[0.56524485 0.06318013 0.26124923]\n",
      " [0.39125255 0.81530131 0.13377836]]\n"
     ]
    }
   ],
   "execution_count": 19
  },
  {
   "metadata": {
    "ExecuteTime": {
     "end_time": "2024-09-25T08:07:38.227702Z",
     "start_time": "2024-09-25T08:07:38.222798Z"
    }
   },
   "cell_type": "code",
   "source": "print(arr3)",
   "id": "6746d91f011d9aef",
   "outputs": [
    {
     "name": "stdout",
     "output_type": "stream",
     "text": [
      "[[[0.61450063 0.32938904]\n",
      "  [0.31117514 0.05824851]\n",
      "  [0.21357279 0.24831652]]\n",
      "\n",
      " [[0.49313242 0.87395587]\n",
      "  [0.65333153 0.90115873]\n",
      "  [0.92956755 0.81406744]]]\n"
     ]
    }
   ],
   "execution_count": 20
  },
  {
   "metadata": {
    "ExecuteTime": {
     "end_time": "2024-09-25T08:07:53.414405Z",
     "start_time": "2024-09-25T08:07:53.402221Z"
    }
   },
   "cell_type": "code",
   "source": "print(type(arr3))",
   "id": "39f1369485a5c87c",
   "outputs": [
    {
     "name": "stdout",
     "output_type": "stream",
     "text": [
      "<class 'numpy.ndarray'>\n"
     ]
    }
   ],
   "execution_count": 21
  },
  {
   "metadata": {
    "ExecuteTime": {
     "end_time": "2024-09-25T08:09:30.312278Z",
     "start_time": "2024-09-25T08:09:30.305583Z"
    }
   },
   "cell_type": "code",
   "source": "",
   "id": "be7c1e6e7d8f72d0",
   "outputs": [],
   "execution_count": null
  },
  {
   "metadata": {
    "ExecuteTime": {
     "end_time": "2024-09-25T08:15:06.882402Z",
     "start_time": "2024-09-25T08:15:06.877093Z"
    }
   },
   "cell_type": "code",
   "source": [
    "arr3 = np.array([[[1, 2, 3], [4, 5, 6]], [[7, 8, 9], [10, 11, 12]]])\n",
    "print(arr3)"
   ],
   "id": "de76437e36dbb115",
   "outputs": [
    {
     "name": "stdout",
     "output_type": "stream",
     "text": [
      "[[[ 1  2  3]\n",
      "  [ 4  5  6]]\n",
      "\n",
      " [[ 7  8  9]\n",
      "  [10 11 12]]]\n"
     ]
    }
   ],
   "execution_count": 22
  },
  {
   "metadata": {
    "ExecuteTime": {
     "end_time": "2024-09-25T08:15:38.456678Z",
     "start_time": "2024-09-25T08:15:38.447698Z"
    }
   },
   "cell_type": "code",
   "source": "print(arr3[1, 1, 2])",
   "id": "2018bc6e032a777",
   "outputs": [
    {
     "name": "stdout",
     "output_type": "stream",
     "text": [
      "12\n"
     ]
    }
   ],
   "execution_count": 23
  },
  {
   "metadata": {
    "ExecuteTime": {
     "end_time": "2024-09-25T08:17:17.499075Z",
     "start_time": "2024-09-25T08:17:17.491860Z"
    }
   },
   "cell_type": "code",
   "source": [
    "arr1 = np.array([1, 2, 3, 4, 5, 6, 7, 8])\n",
    "arr2 = np.array([9, 10, 11, 12, 13, 14, 15, 16])\n",
    "\n",
    "sum_arr = arr1 + arr2\n",
    "sub_arr = arr2 - arr1\n",
    "multi_arr = arr1 * arr2"
   ],
   "id": "6804b85b097eaa52",
   "outputs": [],
   "execution_count": 24
  },
  {
   "metadata": {
    "ExecuteTime": {
     "end_time": "2024-09-25T08:17:24.727557Z",
     "start_time": "2024-09-25T08:17:24.717717Z"
    }
   },
   "cell_type": "code",
   "source": "print(sum_arr)",
   "id": "cf6eb9dabc87e0b1",
   "outputs": [
    {
     "name": "stdout",
     "output_type": "stream",
     "text": [
      "[10 12 14 16 18 20 22 24]\n"
     ]
    }
   ],
   "execution_count": 25
  },
  {
   "metadata": {
    "ExecuteTime": {
     "end_time": "2024-09-25T08:17:28.137969Z",
     "start_time": "2024-09-25T08:17:28.133665Z"
    }
   },
   "cell_type": "code",
   "source": "print(sub_arr)",
   "id": "6b024a8fbc81a2b8",
   "outputs": [
    {
     "name": "stdout",
     "output_type": "stream",
     "text": [
      "[8 8 8 8 8 8 8 8]\n"
     ]
    }
   ],
   "execution_count": 26
  },
  {
   "metadata": {
    "ExecuteTime": {
     "end_time": "2024-09-25T08:17:31.744421Z",
     "start_time": "2024-09-25T08:17:31.734857Z"
    }
   },
   "cell_type": "code",
   "source": "print(multi_arr)",
   "id": "36b134d53af4638a",
   "outputs": [
    {
     "name": "stdout",
     "output_type": "stream",
     "text": [
      "[  9  20  33  48  65  84 105 128]\n"
     ]
    }
   ],
   "execution_count": 27
  },
  {
   "metadata": {
    "ExecuteTime": {
     "end_time": "2024-09-25T08:18:50.468432Z",
     "start_time": "2024-09-25T08:18:50.461063Z"
    }
   },
   "cell_type": "code",
   "source": [
    "arr = np.array([10, 20, 30, 40, 50, 60, 70, 80])\n",
    "np.mean(arr)"
   ],
   "id": "589c81eb0475e00a",
   "outputs": [
    {
     "data": {
      "text/plain": [
       "np.float64(45.0)"
      ]
     },
     "execution_count": 31,
     "metadata": {},
     "output_type": "execute_result"
    }
   ],
   "execution_count": 31
  },
  {
   "metadata": {
    "ExecuteTime": {
     "end_time": "2024-09-25T08:18:51.814442Z",
     "start_time": "2024-09-25T08:18:51.803575Z"
    }
   },
   "cell_type": "code",
   "source": "np.median(arr)",
   "id": "70f46ef70278a70d",
   "outputs": [
    {
     "data": {
      "text/plain": [
       "np.float64(45.0)"
      ]
     },
     "execution_count": 32,
     "metadata": {},
     "output_type": "execute_result"
    }
   ],
   "execution_count": 32
  },
  {
   "metadata": {
    "ExecuteTime": {
     "end_time": "2024-09-25T08:19:01.189359Z",
     "start_time": "2024-09-25T08:19:01.176842Z"
    }
   },
   "cell_type": "code",
   "source": "np.std(arr)",
   "id": "ab84868ef113c445",
   "outputs": [
    {
     "data": {
      "text/plain": [
       "np.float64(22.9128784747792)"
      ]
     },
     "execution_count": 33,
     "metadata": {},
     "output_type": "execute_result"
    }
   ],
   "execution_count": 33
  },
  {
   "metadata": {
    "ExecuteTime": {
     "end_time": "2024-09-25T08:19:12.996449Z",
     "start_time": "2024-09-25T08:19:12.994340Z"
    }
   },
   "cell_type": "code",
   "source": "",
   "id": "19584ecc1831cdea",
   "outputs": [],
   "execution_count": null
  },
  {
   "metadata": {
    "ExecuteTime": {
     "end_time": "2024-09-25T08:20:15.534073Z",
     "start_time": "2024-09-25T08:20:15.525315Z"
    }
   },
   "cell_type": "code",
   "source": [
    "arr = np.array([1, 2, 3, 4, 5, 6, 7, 8])\n",
    "print(arr)"
   ],
   "id": "31e275b8bb61dea3",
   "outputs": [
    {
     "name": "stdout",
     "output_type": "stream",
     "text": [
      "[1 2 3 4 5 6 7 8]\n"
     ]
    }
   ],
   "execution_count": 38
  },
  {
   "metadata": {
    "ExecuteTime": {
     "end_time": "2024-09-25T08:20:18.342394Z",
     "start_time": "2024-09-25T08:20:18.337651Z"
    }
   },
   "cell_type": "code",
   "source": [
    "arr = arr.reshape((2, 4))\n",
    "print(arr)"
   ],
   "id": "cf0507b7b1a41115",
   "outputs": [
    {
     "name": "stdout",
     "output_type": "stream",
     "text": [
      "[[1 2 3 4]\n",
      " [5 6 7 8]]\n"
     ]
    }
   ],
   "execution_count": 39
  },
  {
   "metadata": {
    "ExecuteTime": {
     "end_time": "2024-09-25T08:20:34.725998Z",
     "start_time": "2024-09-25T08:20:34.718180Z"
    }
   },
   "cell_type": "code",
   "source": [
    "arr = arr.reshape((2, 2, 2))\n",
    "arr"
   ],
   "id": "ef118749e5edad3c",
   "outputs": [
    {
     "data": {
      "text/plain": [
       "array([[[1, 2],\n",
       "        [3, 4]],\n",
       "\n",
       "       [[5, 6],\n",
       "        [7, 8]]])"
      ]
     },
     "execution_count": 40,
     "metadata": {},
     "output_type": "execute_result"
    }
   ],
   "execution_count": 40
  },
  {
   "metadata": {
    "ExecuteTime": {
     "end_time": "2024-09-25T08:22:23.904153Z",
     "start_time": "2024-09-25T08:22:23.898943Z"
    }
   },
   "cell_type": "code",
   "source": [
    "arr = arr.reshape(2, 4)\n",
    "print(arr)"
   ],
   "id": "98d50be599e786f4",
   "outputs": [
    {
     "name": "stdout",
     "output_type": "stream",
     "text": [
      "[[1 2 3 4]\n",
      " [5 6 7 8]]\n"
     ]
    }
   ],
   "execution_count": 45
  },
  {
   "metadata": {
    "ExecuteTime": {
     "end_time": "2024-09-25T08:22:25.238919Z",
     "start_time": "2024-09-25T08:22:25.232823Z"
    }
   },
   "cell_type": "code",
   "source": [
    "arr = arr.transpose()\n",
    "arr"
   ],
   "id": "466560872a53768e",
   "outputs": [
    {
     "data": {
      "text/plain": [
       "array([[1, 5],\n",
       "       [2, 6],\n",
       "       [3, 7],\n",
       "       [4, 8]])"
      ]
     },
     "execution_count": 46,
     "metadata": {},
     "output_type": "execute_result"
    }
   ],
   "execution_count": 46
  },
  {
   "metadata": {},
   "cell_type": "code",
   "outputs": [],
   "execution_count": null,
   "source": "",
   "id": "4db2f6c8356bd0d5"
  }
 ],
 "metadata": {
  "kernelspec": {
   "display_name": "Python 3",
   "language": "python",
   "name": "python3"
  },
  "language_info": {
   "codemirror_mode": {
    "name": "ipython",
    "version": 2
   },
   "file_extension": ".py",
   "mimetype": "text/x-python",
   "name": "python",
   "nbconvert_exporter": "python",
   "pygments_lexer": "ipython2",
   "version": "2.7.6"
  }
 },
 "nbformat": 4,
 "nbformat_minor": 5
}
