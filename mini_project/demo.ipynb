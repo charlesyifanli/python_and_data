{
 "cells": [
  {
   "cell_type": "code",
   "id": "initial_id",
   "metadata": {
    "collapsed": true,
    "ExecuteTime": {
     "end_time": "2024-10-15T11:51:56.245930Z",
     "start_time": "2024-10-15T11:51:51.347722Z"
    }
   },
   "source": [
    "from data_analysis import Analysis\n",
    "from data_inspection import Inspection\n",
    "from data_clean import Clean\n",
    "from sentiment_analysis import Sentiment\n",
    "import pandas as pd"
   ],
   "outputs": [],
   "execution_count": 1
  },
  {
   "metadata": {
    "ExecuteTime": {
     "end_time": "2024-10-15T11:51:56.254145Z",
     "start_time": "2024-10-15T11:51:56.245930Z"
    }
   },
   "cell_type": "code",
   "source": [
    "class Robot:\n",
    "    def __init__(self):\n",
    "        self.df = None\n",
    "        self.column_types = None\n",
    "\n",
    "    def load_csv(self, file_path):\n",
    "        file_path = './heart_attack_prediction_dataset.csv' if not file_path else file_path\n",
    "        self.df = pd.read_csv(file_path)"
   ],
   "id": "94211e4cf5fcbddf",
   "outputs": [],
   "execution_count": 2
  },
  {
   "metadata": {
    "ExecuteTime": {
     "end_time": "2024-10-15T11:51:56.386805Z",
     "start_time": "2024-10-15T11:51:56.314778Z"
    }
   },
   "cell_type": "code",
   "source": [
    "## load data\n",
    "robot = Robot()\n",
    "robot.load_csv('')\n",
    "\n",
    "## data cleaning preparation\n",
    "clean = Clean(robot.df)\n",
    "robot.df = clean.process()\n",
    "\n",
    "## data inspection preparation\n",
    "inspection = Inspection(robot.df)\n",
    "robot.column_types = inspection.list_column_types()\n",
    "\n",
    "## data analysis preparation\n",
    "analysis = Analysis(robot.df, robot.column_types)\n",
    "\n",
    "## sentiment analysis preparation\n",
    "sentiment = Sentiment(robot.df)\n",
    "\n",
    "##\n",
    "inspection.calculate_and_show()"
   ],
   "id": "ed49cdb8ca28f430",
   "outputs": [
    {
     "name": "stdout",
     "output_type": "stream",
     "text": [
      "                        Column Name                 Type           Mean                 Mode Median           Std  Kurtosis  Skewness\n",
      "0                        Patient ID              nominal             NA              AAA9246     NA            NA        NA        NA\n",
      "1                               Age             interval      53.707977                   NA     NA     21.249509 -1.213755  0.028498\n",
      "2                               Sex  non-numeric ordinal             NA                 Male     NA            NA        NA        NA\n",
      "3                       Cholesterol             interval     259.877211                   NA     NA     80.863276 -1.180246 -0.000955\n",
      "4                    Blood Pressure              nominal             NA               101/93     NA            NA        NA        NA\n",
      "5                        Heart Rate             interval      75.021682                   NA     NA     20.550948  -1.21118 -0.003227\n",
      "6                          Diabetes      numeric ordinal             NA                   NA    1.0      0.476271 -1.591215 -0.639647\n",
      "7                    Family History      numeric ordinal             NA                   NA    0.0      0.499979 -1.999668   0.02808\n",
      "8                           Smoking      numeric ordinal             NA                   NA    1.0      0.304186  4.812041 -2.609778\n",
      "9                           Obesity      numeric ordinal             NA                   NA    1.0      0.500026 -2.000424 -0.005707\n",
      "10              Alcohol Consumption      numeric ordinal             NA                   NA    1.0      0.490313 -1.840281 -0.400174\n",
      "11          Exercise Hours Per Week             interval      10.014284                   NA     NA      5.783745 -1.203342 -0.016387\n",
      "12                             Diet  non-numeric ordinal             NA              Healthy     NA            NA        NA        NA\n",
      "13          Previous Heart Problems      numeric ordinal             NA                   NA    0.0      0.500011 -2.000179  0.016664\n",
      "14                   Medication Use      numeric ordinal             NA                   NA    0.0      0.500026 -2.000413   0.00662\n",
      "15                     Stress Level             interval       5.469702                   NA     NA      2.859622 -1.225439  0.008389\n",
      "16          Sedentary Hours Per Day             interval        5.99369                   NA     NA      3.466359 -1.193479  0.017974\n",
      "17                           Income             interval  158263.181901                   NA     NA  80575.190806 -1.181923  0.021792\n",
      "18                              BMI             interval      28.891446                   NA     NA      6.319181 -1.187977  0.035996\n",
      "19                    Triglycerides             interval     417.677051                   NA     NA    223.748137   -1.1978 -0.001915\n",
      "20  Physical Activity Days Per Week      numeric ordinal             NA                   NA    3.0      2.282687 -1.229552  0.017822\n",
      "21              Sleep Hours Per Day      numeric ordinal             NA                   NA    7.0      1.988473 -1.232354  0.000357\n",
      "22                          Country              nominal             NA              Germany     NA            NA        NA        NA\n",
      "23                        Continent  non-numeric ordinal             NA                 Asia     NA            NA        NA        NA\n",
      "24                       Hemisphere  non-numeric ordinal             NA  Northern Hemisphere     NA            NA        NA        NA\n",
      "25                Heart Attack Risk      numeric ordinal             NA                   NA    0.0      0.479502  -1.65046  0.591538\n"
     ]
    }
   ],
   "execution_count": 3
  },
  {
   "metadata": {
    "ExecuteTime": {
     "end_time": "2024-10-15T11:51:56.468652Z",
     "start_time": "2024-10-15T11:51:56.465897Z"
    }
   },
   "cell_type": "code",
   "source": "",
   "id": "ad9f1b95346a6ad7",
   "outputs": [],
   "execution_count": null
  }
 ],
 "metadata": {
  "kernelspec": {
   "display_name": "Python 3",
   "language": "python",
   "name": "python3"
  },
  "language_info": {
   "codemirror_mode": {
    "name": "ipython",
    "version": 2
   },
   "file_extension": ".py",
   "mimetype": "text/x-python",
   "name": "python",
   "nbconvert_exporter": "python",
   "pygments_lexer": "ipython2",
   "version": "2.7.6"
  }
 },
 "nbformat": 4,
 "nbformat_minor": 5
}
