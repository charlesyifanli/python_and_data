{
 "cells": [
  {
   "metadata": {},
   "cell_type": "markdown",
   "source": "## Read data, preview, and preprocess",
   "id": "55d3995eac3c6293"
  },
  {
   "metadata": {
    "collapsed": true,
    "ExecuteTime": {
     "end_time": "2024-10-11T14:04:32.898454Z",
     "start_time": "2024-10-11T14:04:32.886247Z"
    }
   },
   "cell_type": "code",
   "source": [
    "from DataAnalysis import DataAnalysis\n",
    "import numpy as np\n",
    "import pandas as pd\n",
    "import matplotlib.pyplot as plt\n",
    "import seaborn as sns\n",
    "from pandas.core.interchange.dataframe_protocol import DataFrame\n",
    "from scipy import stats"
   ],
   "id": "initial_id",
   "outputs": [],
   "execution_count": 1
  },
  {
   "metadata": {
    "ExecuteTime": {
     "end_time": "2024-10-11T14:04:32.984472Z",
     "start_time": "2024-10-11T14:04:32.917558Z"
    }
   },
   "cell_type": "code",
   "source": [
    "df = pd.read_csv('heart_attack_prediction_dataset.csv')\n",
    "print(df.isna().sum())"
   ],
   "id": "adb7a6f7a7b7117f",
   "outputs": [
    {
     "name": "stdout",
     "output_type": "stream",
     "text": [
      "Patient ID                         0\n",
      "Age                                0\n",
      "Sex                                0\n",
      "Cholesterol                        0\n",
      "Blood Pressure                     0\n",
      "Heart Rate                         0\n",
      "Diabetes                           0\n",
      "Family History                     0\n",
      "Smoking                            0\n",
      "Obesity                            0\n",
      "Alcohol Consumption                0\n",
      "Exercise Hours Per Week            0\n",
      "Diet                               0\n",
      "Previous Heart Problems            0\n",
      "Medication Use                     0\n",
      "Stress Level                       0\n",
      "Sedentary Hours Per Day            0\n",
      "Income                             0\n",
      "BMI                                0\n",
      "Triglycerides                      0\n",
      "Physical Activity Days Per Week    0\n",
      "Sleep Hours Per Day                0\n",
      "Country                            0\n",
      "Continent                          0\n",
      "Hemisphere                         0\n",
      "Heart Attack Risk                  0\n",
      "dtype: int64\n"
     ]
    }
   ],
   "execution_count": 2
  },
  {
   "metadata": {
    "ExecuteTime": {
     "end_time": "2024-10-11T14:04:33.137509Z",
     "start_time": "2024-10-11T14:04:33.131972Z"
    }
   },
   "cell_type": "code",
   "source": "analysis = DataAnalysis()",
   "id": "cb34446a5b99daf6",
   "outputs": [],
   "execution_count": 3
  },
  {
   "metadata": {
    "ExecuteTime": {
     "end_time": "2024-10-11T14:04:58.583302Z",
     "start_time": "2024-10-11T14:04:58.575467Z"
    }
   },
   "cell_type": "code",
   "source": "demo = analysis.check_normality(df['Heart Rate'])",
   "id": "9119e22ebdc9089d",
   "outputs": [],
   "execution_count": 4
  },
  {
   "metadata": {
    "ExecuteTime": {
     "end_time": "2024-10-11T14:05:02.431749Z",
     "start_time": "2024-10-11T14:05:02.424965Z"
    }
   },
   "cell_type": "code",
   "source": "demo",
   "id": "dc2602bed1b71858",
   "outputs": [
    {
     "data": {
      "text/plain": [
       "{'test': 'Anderson-Darling',\n",
       " 'statistic': np.float64(102.29183776167338),\n",
       " 'p_value': 0.0,\n",
       " 'is_normal': False}"
      ]
     },
     "execution_count": 5,
     "metadata": {},
     "output_type": "execute_result"
    }
   ],
   "execution_count": 5
  },
  {
   "metadata": {},
   "cell_type": "code",
   "outputs": [],
   "execution_count": null,
   "source": "",
   "id": "bf9552323b86d8c7"
  }
 ],
 "metadata": {
  "kernelspec": {
   "display_name": "Python 3",
   "language": "python",
   "name": "python3"
  },
  "language_info": {
   "codemirror_mode": {
    "name": "ipython",
    "version": 2
   },
   "file_extension": ".py",
   "mimetype": "text/x-python",
   "name": "python",
   "nbconvert_exporter": "python",
   "pygments_lexer": "ipython2",
   "version": "2.7.6"
  }
 },
 "nbformat": 4,
 "nbformat_minor": 5
}
