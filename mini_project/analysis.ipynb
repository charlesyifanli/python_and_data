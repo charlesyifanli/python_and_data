{
 "cells": [
  {
   "metadata": {
    "collapsed": true,
    "ExecuteTime": {
     "end_time": "2024-10-12T05:16:17.868767Z",
     "start_time": "2024-10-12T05:16:17.847042Z"
    }
   },
   "cell_type": "code",
   "source": [
    "from DataAnalysis import DataAnalysis\n",
    "import numpy as np\n",
    "import pandas as pd\n",
    "import matplotlib.pyplot as plt\n",
    "import seaborn as sns\n",
    "from pandas.core.interchange.dataframe_protocol import DataFrame\n",
    "from scipy import stats"
   ],
   "id": "initial_id",
   "outputs": [],
   "execution_count": 1
  },
  {
   "metadata": {},
   "cell_type": "markdown",
   "source": "## Load data and preprocess",
   "id": "55d3995eac3c6293"
  },
  {
   "metadata": {
    "ExecuteTime": {
     "end_time": "2024-10-12T05:16:17.945645Z",
     "start_time": "2024-10-12T05:16:17.898549Z"
    }
   },
   "cell_type": "code",
   "source": [
    "df = pd.read_csv('heart_attack_prediction_dataset.csv')\n",
    "df.head()"
   ],
   "id": "2937854613c67b0e",
   "outputs": [
    {
     "data": {
      "text/plain": [
       "  Patient ID  Age     Sex  Cholesterol Blood Pressure  Heart Rate  Diabetes  \\\n",
       "0    BMW7812   67    Male          208         158/88          72         0   \n",
       "1    CZE1114   21    Male          389         165/93          98         1   \n",
       "2    BNI9906   21  Female          324         174/99          72         1   \n",
       "3    JLN3497   84    Male          383        163/100          73         1   \n",
       "4    GFO8847   66    Male          318          91/88          93         1   \n",
       "\n",
       "   Family History  Smoking  Obesity  ...  Sedentary Hours Per Day  Income  \\\n",
       "0               0        1        0  ...                 6.615001  261404   \n",
       "1               1        1        1  ...                 4.963459  285768   \n",
       "2               0        0        0  ...                 9.463426  235282   \n",
       "3               1        1        0  ...                 7.648981  125640   \n",
       "4               1        1        1  ...                 1.514821  160555   \n",
       "\n",
       "         BMI  Triglycerides  Physical Activity Days Per Week  \\\n",
       "0  31.251233            286                                0   \n",
       "1  27.194973            235                                1   \n",
       "2  28.176571            587                                4   \n",
       "3  36.464704            378                                3   \n",
       "4  21.809144            231                                1   \n",
       "\n",
       "   Sleep Hours Per Day    Country      Continent           Hemisphere  \\\n",
       "0                    6  Argentina  South America  Southern Hemisphere   \n",
       "1                    7     Canada  North America  Northern Hemisphere   \n",
       "2                    4     France         Europe  Northern Hemisphere   \n",
       "3                    4     Canada  North America  Northern Hemisphere   \n",
       "4                    5   Thailand           Asia  Northern Hemisphere   \n",
       "\n",
       "   Heart Attack Risk  \n",
       "0                  0  \n",
       "1                  0  \n",
       "2                  0  \n",
       "3                  0  \n",
       "4                  0  \n",
       "\n",
       "[5 rows x 26 columns]"
      ],
      "text/html": [
       "<div>\n",
       "<style scoped>\n",
       "    .dataframe tbody tr th:only-of-type {\n",
       "        vertical-align: middle;\n",
       "    }\n",
       "\n",
       "    .dataframe tbody tr th {\n",
       "        vertical-align: top;\n",
       "    }\n",
       "\n",
       "    .dataframe thead th {\n",
       "        text-align: right;\n",
       "    }\n",
       "</style>\n",
       "<table border=\"1\" class=\"dataframe\">\n",
       "  <thead>\n",
       "    <tr style=\"text-align: right;\">\n",
       "      <th></th>\n",
       "      <th>Patient ID</th>\n",
       "      <th>Age</th>\n",
       "      <th>Sex</th>\n",
       "      <th>Cholesterol</th>\n",
       "      <th>Blood Pressure</th>\n",
       "      <th>Heart Rate</th>\n",
       "      <th>Diabetes</th>\n",
       "      <th>Family History</th>\n",
       "      <th>Smoking</th>\n",
       "      <th>Obesity</th>\n",
       "      <th>...</th>\n",
       "      <th>Sedentary Hours Per Day</th>\n",
       "      <th>Income</th>\n",
       "      <th>BMI</th>\n",
       "      <th>Triglycerides</th>\n",
       "      <th>Physical Activity Days Per Week</th>\n",
       "      <th>Sleep Hours Per Day</th>\n",
       "      <th>Country</th>\n",
       "      <th>Continent</th>\n",
       "      <th>Hemisphere</th>\n",
       "      <th>Heart Attack Risk</th>\n",
       "    </tr>\n",
       "  </thead>\n",
       "  <tbody>\n",
       "    <tr>\n",
       "      <th>0</th>\n",
       "      <td>BMW7812</td>\n",
       "      <td>67</td>\n",
       "      <td>Male</td>\n",
       "      <td>208</td>\n",
       "      <td>158/88</td>\n",
       "      <td>72</td>\n",
       "      <td>0</td>\n",
       "      <td>0</td>\n",
       "      <td>1</td>\n",
       "      <td>0</td>\n",
       "      <td>...</td>\n",
       "      <td>6.615001</td>\n",
       "      <td>261404</td>\n",
       "      <td>31.251233</td>\n",
       "      <td>286</td>\n",
       "      <td>0</td>\n",
       "      <td>6</td>\n",
       "      <td>Argentina</td>\n",
       "      <td>South America</td>\n",
       "      <td>Southern Hemisphere</td>\n",
       "      <td>0</td>\n",
       "    </tr>\n",
       "    <tr>\n",
       "      <th>1</th>\n",
       "      <td>CZE1114</td>\n",
       "      <td>21</td>\n",
       "      <td>Male</td>\n",
       "      <td>389</td>\n",
       "      <td>165/93</td>\n",
       "      <td>98</td>\n",
       "      <td>1</td>\n",
       "      <td>1</td>\n",
       "      <td>1</td>\n",
       "      <td>1</td>\n",
       "      <td>...</td>\n",
       "      <td>4.963459</td>\n",
       "      <td>285768</td>\n",
       "      <td>27.194973</td>\n",
       "      <td>235</td>\n",
       "      <td>1</td>\n",
       "      <td>7</td>\n",
       "      <td>Canada</td>\n",
       "      <td>North America</td>\n",
       "      <td>Northern Hemisphere</td>\n",
       "      <td>0</td>\n",
       "    </tr>\n",
       "    <tr>\n",
       "      <th>2</th>\n",
       "      <td>BNI9906</td>\n",
       "      <td>21</td>\n",
       "      <td>Female</td>\n",
       "      <td>324</td>\n",
       "      <td>174/99</td>\n",
       "      <td>72</td>\n",
       "      <td>1</td>\n",
       "      <td>0</td>\n",
       "      <td>0</td>\n",
       "      <td>0</td>\n",
       "      <td>...</td>\n",
       "      <td>9.463426</td>\n",
       "      <td>235282</td>\n",
       "      <td>28.176571</td>\n",
       "      <td>587</td>\n",
       "      <td>4</td>\n",
       "      <td>4</td>\n",
       "      <td>France</td>\n",
       "      <td>Europe</td>\n",
       "      <td>Northern Hemisphere</td>\n",
       "      <td>0</td>\n",
       "    </tr>\n",
       "    <tr>\n",
       "      <th>3</th>\n",
       "      <td>JLN3497</td>\n",
       "      <td>84</td>\n",
       "      <td>Male</td>\n",
       "      <td>383</td>\n",
       "      <td>163/100</td>\n",
       "      <td>73</td>\n",
       "      <td>1</td>\n",
       "      <td>1</td>\n",
       "      <td>1</td>\n",
       "      <td>0</td>\n",
       "      <td>...</td>\n",
       "      <td>7.648981</td>\n",
       "      <td>125640</td>\n",
       "      <td>36.464704</td>\n",
       "      <td>378</td>\n",
       "      <td>3</td>\n",
       "      <td>4</td>\n",
       "      <td>Canada</td>\n",
       "      <td>North America</td>\n",
       "      <td>Northern Hemisphere</td>\n",
       "      <td>0</td>\n",
       "    </tr>\n",
       "    <tr>\n",
       "      <th>4</th>\n",
       "      <td>GFO8847</td>\n",
       "      <td>66</td>\n",
       "      <td>Male</td>\n",
       "      <td>318</td>\n",
       "      <td>91/88</td>\n",
       "      <td>93</td>\n",
       "      <td>1</td>\n",
       "      <td>1</td>\n",
       "      <td>1</td>\n",
       "      <td>1</td>\n",
       "      <td>...</td>\n",
       "      <td>1.514821</td>\n",
       "      <td>160555</td>\n",
       "      <td>21.809144</td>\n",
       "      <td>231</td>\n",
       "      <td>1</td>\n",
       "      <td>5</td>\n",
       "      <td>Thailand</td>\n",
       "      <td>Asia</td>\n",
       "      <td>Northern Hemisphere</td>\n",
       "      <td>0</td>\n",
       "    </tr>\n",
       "  </tbody>\n",
       "</table>\n",
       "<p>5 rows × 26 columns</p>\n",
       "</div>"
      ]
     },
     "execution_count": 2,
     "metadata": {},
     "output_type": "execute_result"
    }
   ],
   "execution_count": 2
  },
  {
   "metadata": {
    "ExecuteTime": {
     "end_time": "2024-10-12T05:16:18.389326Z",
     "start_time": "2024-10-12T05:16:18.354180Z"
    }
   },
   "cell_type": "code",
   "source": [
    "df['Blood Pressure'] = df['Blood Pressure'].str.split('/').apply(tuple)\n",
    "df['Blood Mean'] = df['Blood Pressure'].apply(lambda x: (int(x[0]) + int(x[1])) / 2)\n",
    "df.head()"
   ],
   "id": "999b9bef5d8d0e7a",
   "outputs": [
    {
     "data": {
      "text/plain": [
       "  Patient ID  Age     Sex  Cholesterol Blood Pressure  Heart Rate  Diabetes  \\\n",
       "0    BMW7812   67    Male          208      (158, 88)          72         0   \n",
       "1    CZE1114   21    Male          389      (165, 93)          98         1   \n",
       "2    BNI9906   21  Female          324      (174, 99)          72         1   \n",
       "3    JLN3497   84    Male          383     (163, 100)          73         1   \n",
       "4    GFO8847   66    Male          318       (91, 88)          93         1   \n",
       "\n",
       "   Family History  Smoking  Obesity  ...  Income        BMI Triglycerides  \\\n",
       "0               0        1        0  ...  261404  31.251233           286   \n",
       "1               1        1        1  ...  285768  27.194973           235   \n",
       "2               0        0        0  ...  235282  28.176571           587   \n",
       "3               1        1        0  ...  125640  36.464704           378   \n",
       "4               1        1        1  ...  160555  21.809144           231   \n",
       "\n",
       "   Physical Activity Days Per Week  Sleep Hours Per Day    Country  \\\n",
       "0                                0                    6  Argentina   \n",
       "1                                1                    7     Canada   \n",
       "2                                4                    4     France   \n",
       "3                                3                    4     Canada   \n",
       "4                                1                    5   Thailand   \n",
       "\n",
       "       Continent           Hemisphere  Heart Attack Risk  Blood Mean  \n",
       "0  South America  Southern Hemisphere                  0       123.0  \n",
       "1  North America  Northern Hemisphere                  0       129.0  \n",
       "2         Europe  Northern Hemisphere                  0       136.5  \n",
       "3  North America  Northern Hemisphere                  0       131.5  \n",
       "4           Asia  Northern Hemisphere                  0        89.5  \n",
       "\n",
       "[5 rows x 27 columns]"
      ],
      "text/html": [
       "<div>\n",
       "<style scoped>\n",
       "    .dataframe tbody tr th:only-of-type {\n",
       "        vertical-align: middle;\n",
       "    }\n",
       "\n",
       "    .dataframe tbody tr th {\n",
       "        vertical-align: top;\n",
       "    }\n",
       "\n",
       "    .dataframe thead th {\n",
       "        text-align: right;\n",
       "    }\n",
       "</style>\n",
       "<table border=\"1\" class=\"dataframe\">\n",
       "  <thead>\n",
       "    <tr style=\"text-align: right;\">\n",
       "      <th></th>\n",
       "      <th>Patient ID</th>\n",
       "      <th>Age</th>\n",
       "      <th>Sex</th>\n",
       "      <th>Cholesterol</th>\n",
       "      <th>Blood Pressure</th>\n",
       "      <th>Heart Rate</th>\n",
       "      <th>Diabetes</th>\n",
       "      <th>Family History</th>\n",
       "      <th>Smoking</th>\n",
       "      <th>Obesity</th>\n",
       "      <th>...</th>\n",
       "      <th>Income</th>\n",
       "      <th>BMI</th>\n",
       "      <th>Triglycerides</th>\n",
       "      <th>Physical Activity Days Per Week</th>\n",
       "      <th>Sleep Hours Per Day</th>\n",
       "      <th>Country</th>\n",
       "      <th>Continent</th>\n",
       "      <th>Hemisphere</th>\n",
       "      <th>Heart Attack Risk</th>\n",
       "      <th>Blood Mean</th>\n",
       "    </tr>\n",
       "  </thead>\n",
       "  <tbody>\n",
       "    <tr>\n",
       "      <th>0</th>\n",
       "      <td>BMW7812</td>\n",
       "      <td>67</td>\n",
       "      <td>Male</td>\n",
       "      <td>208</td>\n",
       "      <td>(158, 88)</td>\n",
       "      <td>72</td>\n",
       "      <td>0</td>\n",
       "      <td>0</td>\n",
       "      <td>1</td>\n",
       "      <td>0</td>\n",
       "      <td>...</td>\n",
       "      <td>261404</td>\n",
       "      <td>31.251233</td>\n",
       "      <td>286</td>\n",
       "      <td>0</td>\n",
       "      <td>6</td>\n",
       "      <td>Argentina</td>\n",
       "      <td>South America</td>\n",
       "      <td>Southern Hemisphere</td>\n",
       "      <td>0</td>\n",
       "      <td>123.0</td>\n",
       "    </tr>\n",
       "    <tr>\n",
       "      <th>1</th>\n",
       "      <td>CZE1114</td>\n",
       "      <td>21</td>\n",
       "      <td>Male</td>\n",
       "      <td>389</td>\n",
       "      <td>(165, 93)</td>\n",
       "      <td>98</td>\n",
       "      <td>1</td>\n",
       "      <td>1</td>\n",
       "      <td>1</td>\n",
       "      <td>1</td>\n",
       "      <td>...</td>\n",
       "      <td>285768</td>\n",
       "      <td>27.194973</td>\n",
       "      <td>235</td>\n",
       "      <td>1</td>\n",
       "      <td>7</td>\n",
       "      <td>Canada</td>\n",
       "      <td>North America</td>\n",
       "      <td>Northern Hemisphere</td>\n",
       "      <td>0</td>\n",
       "      <td>129.0</td>\n",
       "    </tr>\n",
       "    <tr>\n",
       "      <th>2</th>\n",
       "      <td>BNI9906</td>\n",
       "      <td>21</td>\n",
       "      <td>Female</td>\n",
       "      <td>324</td>\n",
       "      <td>(174, 99)</td>\n",
       "      <td>72</td>\n",
       "      <td>1</td>\n",
       "      <td>0</td>\n",
       "      <td>0</td>\n",
       "      <td>0</td>\n",
       "      <td>...</td>\n",
       "      <td>235282</td>\n",
       "      <td>28.176571</td>\n",
       "      <td>587</td>\n",
       "      <td>4</td>\n",
       "      <td>4</td>\n",
       "      <td>France</td>\n",
       "      <td>Europe</td>\n",
       "      <td>Northern Hemisphere</td>\n",
       "      <td>0</td>\n",
       "      <td>136.5</td>\n",
       "    </tr>\n",
       "    <tr>\n",
       "      <th>3</th>\n",
       "      <td>JLN3497</td>\n",
       "      <td>84</td>\n",
       "      <td>Male</td>\n",
       "      <td>383</td>\n",
       "      <td>(163, 100)</td>\n",
       "      <td>73</td>\n",
       "      <td>1</td>\n",
       "      <td>1</td>\n",
       "      <td>1</td>\n",
       "      <td>0</td>\n",
       "      <td>...</td>\n",
       "      <td>125640</td>\n",
       "      <td>36.464704</td>\n",
       "      <td>378</td>\n",
       "      <td>3</td>\n",
       "      <td>4</td>\n",
       "      <td>Canada</td>\n",
       "      <td>North America</td>\n",
       "      <td>Northern Hemisphere</td>\n",
       "      <td>0</td>\n",
       "      <td>131.5</td>\n",
       "    </tr>\n",
       "    <tr>\n",
       "      <th>4</th>\n",
       "      <td>GFO8847</td>\n",
       "      <td>66</td>\n",
       "      <td>Male</td>\n",
       "      <td>318</td>\n",
       "      <td>(91, 88)</td>\n",
       "      <td>93</td>\n",
       "      <td>1</td>\n",
       "      <td>1</td>\n",
       "      <td>1</td>\n",
       "      <td>1</td>\n",
       "      <td>...</td>\n",
       "      <td>160555</td>\n",
       "      <td>21.809144</td>\n",
       "      <td>231</td>\n",
       "      <td>1</td>\n",
       "      <td>5</td>\n",
       "      <td>Thailand</td>\n",
       "      <td>Asia</td>\n",
       "      <td>Northern Hemisphere</td>\n",
       "      <td>0</td>\n",
       "      <td>89.5</td>\n",
       "    </tr>\n",
       "  </tbody>\n",
       "</table>\n",
       "<p>5 rows × 27 columns</p>\n",
       "</div>"
      ]
     },
     "execution_count": 3,
     "metadata": {},
     "output_type": "execute_result"
    }
   ],
   "execution_count": 3
  },
  {
   "metadata": {
    "ExecuteTime": {
     "end_time": "2024-10-12T05:16:18.440679Z",
     "start_time": "2024-10-12T05:16:18.429219Z"
    }
   },
   "cell_type": "code",
   "source": "print(df.isna().sum())",
   "id": "cd5c0753ab54d65a",
   "outputs": [
    {
     "name": "stdout",
     "output_type": "stream",
     "text": [
      "Patient ID                         0\n",
      "Age                                0\n",
      "Sex                                0\n",
      "Cholesterol                        0\n",
      "Blood Pressure                     0\n",
      "Heart Rate                         0\n",
      "Diabetes                           0\n",
      "Family History                     0\n",
      "Smoking                            0\n",
      "Obesity                            0\n",
      "Alcohol Consumption                0\n",
      "Exercise Hours Per Week            0\n",
      "Diet                               0\n",
      "Previous Heart Problems            0\n",
      "Medication Use                     0\n",
      "Stress Level                       0\n",
      "Sedentary Hours Per Day            0\n",
      "Income                             0\n",
      "BMI                                0\n",
      "Triglycerides                      0\n",
      "Physical Activity Days Per Week    0\n",
      "Sleep Hours Per Day                0\n",
      "Country                            0\n",
      "Continent                          0\n",
      "Hemisphere                         0\n",
      "Heart Attack Risk                  0\n",
      "Blood Mean                         0\n",
      "dtype: int64\n"
     ]
    }
   ],
   "execution_count": 4
  },
  {
   "metadata": {
    "ExecuteTime": {
     "end_time": "2024-10-12T05:16:18.627572Z",
     "start_time": "2024-10-12T05:16:18.610340Z"
    }
   },
   "cell_type": "code",
   "source": "print(df.nunique())",
   "id": "ccce37a35a70f52e",
   "outputs": [
    {
     "name": "stdout",
     "output_type": "stream",
     "text": [
      "Patient ID                         8763\n",
      "Age                                  73\n",
      "Sex                                   2\n",
      "Cholesterol                         281\n",
      "Blood Pressure                     3915\n",
      "Heart Rate                           71\n",
      "Diabetes                              2\n",
      "Family History                        2\n",
      "Smoking                               2\n",
      "Obesity                               2\n",
      "Alcohol Consumption                   2\n",
      "Exercise Hours Per Week            8763\n",
      "Diet                                  3\n",
      "Previous Heart Problems               2\n",
      "Medication Use                        2\n",
      "Stress Level                         10\n",
      "Sedentary Hours Per Day            8763\n",
      "Income                             8615\n",
      "BMI                                8763\n",
      "Triglycerides                       771\n",
      "Physical Activity Days Per Week       8\n",
      "Sleep Hours Per Day                   7\n",
      "Country                              20\n",
      "Continent                             6\n",
      "Hemisphere                            2\n",
      "Heart Attack Risk                     2\n",
      "Blood Mean                          140\n",
      "dtype: int64\n"
     ]
    }
   ],
   "execution_count": 5
  },
  {
   "metadata": {
    "ExecuteTime": {
     "end_time": "2024-10-12T05:16:18.798586Z",
     "start_time": "2024-10-12T05:16:18.776292Z"
    }
   },
   "cell_type": "code",
   "source": [
    "category_data = list()\n",
    "interval_data = list()\n",
    "for col in df.columns:\n",
    "    if df[col].nunique() < 30:\n",
    "        category_data.append(col)\n",
    "    else:\n",
    "        interval_data.append(col)\n",
    "print(f'category: {category_data}\\ninterval: {interval_data}')"
   ],
   "id": "5d8d1a4acd2d674f",
   "outputs": [
    {
     "name": "stdout",
     "output_type": "stream",
     "text": [
      "category: ['Sex', 'Diabetes', 'Family History', 'Smoking', 'Obesity', 'Alcohol Consumption', 'Diet', 'Previous Heart Problems', 'Medication Use', 'Stress Level', 'Physical Activity Days Per Week', 'Sleep Hours Per Day', 'Country', 'Continent', 'Hemisphere', 'Heart Attack Risk']\n",
      "interval: ['Patient ID', 'Age', 'Cholesterol', 'Blood Pressure', 'Heart Rate', 'Exercise Hours Per Week', 'Sedentary Hours Per Day', 'Income', 'BMI', 'Triglycerides', 'Blood Mean']\n"
     ]
    }
   ],
   "execution_count": 6
  },
  {
   "metadata": {},
   "cell_type": "markdown",
   "source": "## Some anova possibility",
   "id": "fde4d5b149205817"
  },
  {
   "metadata": {},
   "cell_type": "markdown",
   "source": [
    "01 Diet (Healthy, Average, Unhealthy) vs. Cholesterol\n",
    "\n",
    "1. H0: There is no significant difference in the mean cholesterol level across different diet categories.\n",
    "2. Ha: There is a significant difference in the mean cholesterol level across different diet categories.\n",
    "\n",
    "Res: fail to reject the h0 "
   ],
   "id": "6a8c4daf14fa5287"
  },
  {
   "metadata": {
    "ExecuteTime": {
     "end_time": "2024-10-12T05:16:18.961139Z",
     "start_time": "2024-10-12T05:16:18.952256Z"
    }
   },
   "cell_type": "code",
   "source": [
    "res = DataAnalysis.check_normality(df['Cholesterol'])\n",
    "res"
   ],
   "id": "deba81eaf6cfdc9",
   "outputs": [
    {
     "data": {
      "text/plain": [
       "{'test': 'Anderson-Darling',\n",
       " 'statistic': np.float64(91.34459292230349),\n",
       " 'p_value': 0.0,\n",
       " 'is_normal': False}"
      ]
     },
     "execution_count": 7,
     "metadata": {},
     "output_type": "execute_result"
    }
   ],
   "execution_count": 7
  },
  {
   "metadata": {
    "ExecuteTime": {
     "end_time": "2024-10-12T05:16:19.382213Z",
     "start_time": "2024-10-12T05:16:19.032909Z"
    }
   },
   "cell_type": "code",
   "source": [
    "res = DataAnalysis.anova_kruskal_t_mann_test(df['Diet'].unique(), df['Cholesterol'], False)\n",
    "res"
   ],
   "id": "7d10bb5c0145d75",
   "outputs": [
    {
     "data": {
      "text/plain": [
       "{'test': 'Kruskal-Wallis',\n",
       " 'statistic': np.float64(8762.000000000002),\n",
       " 'p_value': np.float64(0.49799089453512324),\n",
       " 'is_significant': False}"
      ]
     },
     "execution_count": 8,
     "metadata": {},
     "output_type": "execute_result"
    }
   ],
   "execution_count": 8
  },
  {
   "metadata": {},
   "cell_type": "markdown",
   "source": [
    "02 Diet (Healthy, Average, Unhealthy) vs. Blood Pressure\n",
    "\n",
    "1. H0: There is no significant difference in the mean blood pressure across different diet categories.\n",
    "2. Ha: There is a significant difference in the mean blood pressure across different diet categories.\n",
    "\n",
    "Res: fail to reject the h0"
   ],
   "id": "d2b2e24fac6dceba"
  },
  {
   "metadata": {
    "ExecuteTime": {
     "end_time": "2024-10-12T05:16:19.416381Z",
     "start_time": "2024-10-12T05:16:19.405553Z"
    }
   },
   "cell_type": "code",
   "source": [
    "res = DataAnalysis.check_normality(df['Blood Mean'])\n",
    "res"
   ],
   "id": "ffd743eadc1b07eb",
   "outputs": [
    {
     "data": {
      "text/plain": [
       "{'test': 'Anderson-Darling',\n",
       " 'statistic': np.float64(21.96986686017226),\n",
       " 'p_value': 0.0,\n",
       " 'is_normal': False}"
      ]
     },
     "execution_count": 9,
     "metadata": {},
     "output_type": "execute_result"
    }
   ],
   "execution_count": 9
  },
  {
   "metadata": {
    "ExecuteTime": {
     "end_time": "2024-10-12T05:16:19.817398Z",
     "start_time": "2024-10-12T05:16:19.462453Z"
    }
   },
   "cell_type": "code",
   "source": [
    "res = DataAnalysis.anova_kruskal_t_mann_test(df['Diet'].unique(), df['Blood Mean'])\n",
    "res"
   ],
   "id": "3665030c10d50135",
   "outputs": [
    {
     "data": {
      "text/plain": [
       "{'test': 'Kruskal-Wallis',\n",
       " 'statistic': np.float64(8761.999999999998),\n",
       " 'p_value': np.float64(0.4979908945351342),\n",
       " 'is_significant': False}"
      ]
     },
     "execution_count": 10,
     "metadata": {},
     "output_type": "execute_result"
    }
   ],
   "execution_count": 10
  },
  {
   "metadata": {},
   "cell_type": "markdown",
   "source": [
    "03 Continent (Africa, Asia, Europe, North America, South America) vs. Heart Rate\n",
    "\n",
    "1. H0: There is no significant difference in the mean heart rate across continents.\n",
    "2. Ha: There is a significant difference in the mean heart rate across continents.\n",
    "\n",
    "Res: reject the h0"
   ],
   "id": "a00cc54858f89c6"
  },
  {
   "metadata": {
    "ExecuteTime": {
     "end_time": "2024-10-12T05:16:19.938617Z",
     "start_time": "2024-10-12T05:16:19.924724Z"
    }
   },
   "cell_type": "code",
   "source": [
    "res = DataAnalysis.check_normality(df['Heart Rate'])\n",
    "res"
   ],
   "id": "a05285e99782611a",
   "outputs": [
    {
     "data": {
      "text/plain": [
       "{'test': 'Anderson-Darling',\n",
       " 'statistic': np.float64(102.29183776167338),\n",
       " 'p_value': 0.0,\n",
       " 'is_normal': False}"
      ]
     },
     "execution_count": 11,
     "metadata": {},
     "output_type": "execute_result"
    }
   ],
   "execution_count": 11
  },
  {
   "metadata": {
    "ExecuteTime": {
     "end_time": "2024-10-12T05:16:20.444146Z",
     "start_time": "2024-10-12T05:16:20.092928Z"
    }
   },
   "cell_type": "code",
   "source": [
    "res = DataAnalysis.anova_kruskal_t_mann_test(df['Continent'].unique(), df['BMI'])\n",
    "res"
   ],
   "id": "c9252a2a05aca150",
   "outputs": [
    {
     "data": {
      "text/plain": [
       "{'test': 'Kruskal-Wallis',\n",
       " 'statistic': np.float64(8762.0),\n",
       " 'p_value': np.float64(0.49799089453512874),\n",
       " 'is_significant': False}"
      ]
     },
     "execution_count": 12,
     "metadata": {},
     "output_type": "execute_result"
    }
   ],
   "execution_count": 12
  },
  {
   "metadata": {
    "ExecuteTime": {
     "end_time": "2024-10-12T05:16:20.788897Z",
     "start_time": "2024-10-12T05:16:20.785478Z"
    }
   },
   "cell_type": "code",
   "source": "",
   "id": "24342cae19e1d9cd",
   "outputs": [],
   "execution_count": null
  }
 ],
 "metadata": {
  "kernelspec": {
   "display_name": "Python 3",
   "language": "python",
   "name": "python3"
  },
  "language_info": {
   "codemirror_mode": {
    "name": "ipython",
    "version": 2
   },
   "file_extension": ".py",
   "mimetype": "text/x-python",
   "name": "python",
   "nbconvert_exporter": "python",
   "pygments_lexer": "ipython2",
   "version": "2.7.6"
  }
 },
 "nbformat": 4,
 "nbformat_minor": 5
}
