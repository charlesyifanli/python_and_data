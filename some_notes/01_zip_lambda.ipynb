{
 "cells": [
  {
   "metadata": {},
   "cell_type": "markdown",
   "source": "## lambda",
   "id": "e4d5737e22ff0c20"
  },
  {
   "metadata": {
    "ExecuteTime": {
     "end_time": "2024-09-18T08:07:14.383293Z",
     "start_time": "2024-09-18T08:07:14.363279Z"
    }
   },
   "cell_type": "code",
   "source": [
    "add = lambda x, y: x + y\n",
    "print(add(1, 2))"
   ],
   "id": "23b96a1d96315e24",
   "outputs": [
    {
     "name": "stdout",
     "output_type": "stream",
     "text": [
      "3\n"
     ]
    }
   ],
   "execution_count": 1
  },
  {
   "metadata": {
    "ExecuteTime": {
     "end_time": "2024-09-18T08:07:14.539776Z",
     "start_time": "2024-09-18T08:07:14.476030Z"
    }
   },
   "cell_type": "code",
   "source": [
    "names = ['Alice', 'Bob', 'Charlie']\n",
    "grades = [85, 95, 90]\n",
    "\n",
    "zipped_list = list(zip(names, grades))\n",
    "print(zipped_list)\n",
    "\n",
    "sorted_list = sorted(zipped_list, key=lambda x: x[1], reverse=True)\n",
    "print(sorted_list)"
   ],
   "id": "5ca4f31c0cd69ad1",
   "outputs": [
    {
     "name": "stdout",
     "output_type": "stream",
     "text": [
      "[('Alice', 85), ('Bob', 95), ('Charlie', 90)]\n",
      "[('Bob', 95), ('Charlie', 90), ('Alice', 85)]\n"
     ]
    }
   ],
   "execution_count": 2
  },
  {
   "metadata": {
    "ExecuteTime": {
     "end_time": "2024-09-18T08:07:14.988268Z",
     "start_time": "2024-09-18T08:07:14.980280Z"
    }
   },
   "cell_type": "code",
   "source": [
    "demo = [(1, 2), (1, 3), (1, 6), (2, 5)]\n",
    "print(sorted(demo, key=lambda x: (x[0], x[1]), reverse=True))"
   ],
   "id": "969b22cec6f1db5d",
   "outputs": [
    {
     "name": "stdout",
     "output_type": "stream",
     "text": [
      "[(2, 5), (1, 6), (1, 3), (1, 2)]\n"
     ]
    }
   ],
   "execution_count": 3
  },
  {
   "metadata": {
    "ExecuteTime": {
     "end_time": "2024-09-18T08:07:15.265786Z",
     "start_time": "2024-09-18T08:07:15.257260Z"
    }
   },
   "cell_type": "code",
   "source": [
    "from functools import cmp_to_key\n",
    "\n",
    "demo = [3, 30, 34, 5, 9]\n",
    "demo.sort(key=cmp_to_key(lambda a, b: -1 if int(str(a) + str(b)) < int(str(b) + str(a)) else 1), reverse=True)\n",
    "print(demo)\n",
    "# sorted和sort的lambda只接受一个参数lambda x:...所以lambda a,b:...需要cmp_to_key"
   ],
   "id": "df6d6d191bb9c60c",
   "outputs": [
    {
     "name": "stdout",
     "output_type": "stream",
     "text": [
      "[9, 5, 34, 3, 30]\n"
     ]
    }
   ],
   "execution_count": 4
  },
  {
   "metadata": {
    "ExecuteTime": {
     "end_time": "2024-09-18T08:07:15.616729Z",
     "start_time": "2024-09-18T08:07:15.610656Z"
    }
   },
   "cell_type": "code",
   "source": [
    "demo = ['1', '30', '34', '511', '2222']\n",
    "demo.sort(key=len, reverse=True)\n",
    "print(demo)"
   ],
   "id": "145573715dd87bbd",
   "outputs": [
    {
     "name": "stdout",
     "output_type": "stream",
     "text": [
      "['2222', '511', '30', '34', '1']\n"
     ]
    }
   ],
   "execution_count": 5
  },
  {
   "metadata": {
    "ExecuteTime": {
     "end_time": "2024-09-18T08:07:15.882061Z",
     "start_time": "2024-09-18T08:07:15.877597Z"
    }
   },
   "cell_type": "code",
   "source": "",
   "id": "241f01ee5ad2a43e",
   "outputs": [],
   "execution_count": null
  }
 ],
 "metadata": {
  "kernelspec": {
   "display_name": "Python 3",
   "language": "python",
   "name": "python3"
  },
  "language_info": {
   "codemirror_mode": {
    "name": "ipython",
    "version": 2
   },
   "file_extension": ".py",
   "mimetype": "text/x-python",
   "name": "python",
   "nbconvert_exporter": "python",
   "pygments_lexer": "ipython2",
   "version": "2.7.6"
  }
 },
 "nbformat": 4,
 "nbformat_minor": 5
}
