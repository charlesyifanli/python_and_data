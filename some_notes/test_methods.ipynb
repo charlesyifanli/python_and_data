{
 "cells": [
  {
   "metadata": {},
   "cell_type": "markdown",
   "source": [
    "### Normality test:\n",
    "\n",
    "1. Shapiro-Wilk Test: Suitable for small or medium size data, usually less than 2,000 data items\n",
    "2. Kolmogorov-Smirnov Test: Suitable for larger data, but can be very sensitive to slight deviations\n",
    "3. Anderson-Darling Test: Extends Kolmogorov-Smirnov Test, and gives more weight to the tails\n",
    "\n",
    "You will be using Shapiro-Wilk Test (S-W Test) for your mini-project mostly\n",
    "But for over 2,000 data items, use Q-Q plot and Anderson-Darling Test (A-D Test)\n"
   ],
   "id": "c6fd0200bbfd5e40"
  },
  {
   "metadata": {},
   "cell_type": "markdown",
   "source": [
    "### Anova test (related):\n",
    "\n",
    "1. **t 检验**：当你有两个组，且数据服从正态分布，比较均值时使用。\n",
    "2. **ANOVA**：当你有三个或更多组，且数据服从正态分布，比较均值时使用。\n",
    "3. **Kruskal-Wallis 检验**：当你有三个或更多组，且数据不服从正态分布或存在异常值，比较中位数时使用。\n",
    "4. **Mann-Whitney U 检验**：当你有两个组，且数据不服从正态分布或存在异常值，比较中位数时使用。\n",
    "\n",
    "简言之，t 检验和 ANOVA 适用于正态数据，而 Mann-Whitney U 检验和 Kruskal-Wallis 检验是它们的非参数替代方法，用于非正态数据。"
   ],
   "id": "85cb8a9d1cdb8128"
  },
  {
   "metadata": {},
   "cell_type": "markdown",
   "source": [
    "### Chi square test:\n",
    "- **卡方检验**：category\n",
    "  - 当研究对象是分类数据（例如性别、投票偏好等），使用卡方检验。\n",
    "\n",
    "- **t检验**：continuous\n",
    "  - 当比较两个组（例如治疗组和对照组）的均值时使用 t 检验。\n",
    "\n",
    "- **ANOVA**：continuous\n",
    "  - 当比较三个或更多组（例如不同剂量的药物对健康的影响）时使用 ANOVA。\n"
   ],
   "id": "c82db7b9b451acc0"
  },
  {
   "metadata": {
    "ExecuteTime": {
     "end_time": "2024-10-14T03:32:12.270070Z",
     "start_time": "2024-10-14T03:32:12.263719Z"
    }
   },
   "cell_type": "code",
   "source": "",
   "id": "2cb376968bf5f479",
   "outputs": [],
   "execution_count": null
  }
 ],
 "metadata": {
  "kernelspec": {
   "display_name": "Python 3",
   "language": "python",
   "name": "python3"
  },
  "language_info": {
   "codemirror_mode": {
    "name": "ipython",
    "version": 2
   },
   "file_extension": ".py",
   "mimetype": "text/x-python",
   "name": "python",
   "nbconvert_exporter": "python",
   "pygments_lexer": "ipython2",
   "version": "2.7.6"
  }
 },
 "nbformat": 4,
 "nbformat_minor": 5
}
