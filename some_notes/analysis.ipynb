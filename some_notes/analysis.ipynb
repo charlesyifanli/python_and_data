{
 "cells": [
  {
   "metadata": {},
   "cell_type": "markdown",
   "source": [
    "## skewness\n",
    "\n",
    "1. 偏度是通过平均数和中位数的差异来衡量的，众数通常与偏度的判断关系较小。\n",
    "\n",
    "2. Positive skewness (right-skewed): Mean通常受较大值的影响向右偏移. mean > median; Skewness value is > 0\n",
    "\n",
    "3. Negative skewness (left): Mean通常受较大值的影响向左偏移. mean < median; Skewness value is < 0\n",
    "\n",
    "4. Zero skewness (symmetrical): Normally distributed; Skewness value is around or equal to 0\n",
    "\n",
    "5. uniformly distributed: mean == median\n"
   ],
   "id": "e13f9a1eb1d4ae7c"
  },
  {
   "metadata": {},
   "cell_type": "markdown",
   "source": [
    "## Kurtosis\n",
    "\n",
    "1. Leptokurtic (High kurtosis): Kurtosis value > 3\n",
    "\n",
    "2. Platykurtic (Low kurtosis) : Kurtosis value < 3\n",
    "\n",
    "3. Mesokurtic (Normal kurtosis): Kurtosis value around 3\n"
   ],
   "id": "c01c29cc5bea5c0f"
  },
  {
   "metadata": {},
   "cell_type": "code",
   "outputs": [],
   "execution_count": null,
   "source": "",
   "id": "7299106e90051edc"
  }
 ],
 "metadata": {
  "kernelspec": {
   "display_name": "Python 3",
   "language": "python",
   "name": "python3"
  },
  "language_info": {
   "codemirror_mode": {
    "name": "ipython",
    "version": 2
   },
   "file_extension": ".py",
   "mimetype": "text/x-python",
   "name": "python",
   "nbconvert_exporter": "python",
   "pygments_lexer": "ipython2",
   "version": "2.7.6"
  }
 },
 "nbformat": 4,
 "nbformat_minor": 5
}
