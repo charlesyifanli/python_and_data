{
 "cells": [
  {
   "cell_type": "code",
   "metadata": {
    "ExecuteTime": {
     "end_time": "2024-09-09T05:51:58.808620Z",
     "start_time": "2024-09-09T05:51:58.792640Z"
    }
   },
   "source": [
    "from pandas.conftest import names\n",
    "\n",
    "# The following will be helpful in you practice exercise\n",
    "\n",
    "\n",
    "string_list = ['A', 'B', 'C', 'D']\n",
    "num_list = [22, 56, 10, 31]\n",
    "\n",
    "paired_list = list(zip(string_list, num_list))\n",
    "print(paired_list)  # OUTPUT: [('A', 22), ('B', 56), ('C', 10), ('D', 31)]\n",
    "\n",
    "num_string_list = [(num, str_) for str_, num in paired_list]\n",
    "print(num_string_list)  # OUTPUT: [(22, 'A'), (56, 'B'), (10, 'C'), (31, 'D')]\n",
    "\n",
    "sorted_num_string_list = sorted(num_string_list, reverse=True)\n",
    "print(sorted_num_string_list)  # OUTPUT: [(56, 'B'), (31, 'D'), (22, 'A'), (10, 'C')]\n",
    "\n",
    "string_num_list = [(str_, num) for num, str_ in sorted_num_string_list]\n",
    "print(string_num_list)  # OUTPUT: [('B', 56), ('D', 31), ('A', 22), ('C', 10)]\n",
    "\n",
    "top_two_list = string_num_list[:2]\n",
    "for str_, num in top_two_list:\n",
    "    print(f'{str_} - {num}')  # OUTPUT: B - 56, D - 31"
   ],
   "outputs": [
    {
     "name": "stdout",
     "output_type": "stream",
     "text": [
      "[('A', 22), ('B', 56), ('C', 10), ('D', 31)]\n",
      "[(22, 'A'), (56, 'B'), (10, 'C'), (31, 'D')]\n",
      "[(56, 'B'), (31, 'D'), (22, 'A'), (10, 'C')]\n",
      "[('B', 56), ('D', 31), ('A', 22), ('C', 10)]\n",
      "B - 56\n",
      "D - 31\n"
     ]
    }
   ],
   "execution_count": 1
  },
  {
   "cell_type": "markdown",
   "metadata": {},
   "source": [
    "For the practice exercise, you will write a small program that will accept a list of student names and grades, and allow you to view them and perform basic operations on them.\n",
    "\n",
    "REQUIREMENTS:\n",
    "1. Accept a list of 10 names from the user. Each name must be separated by a comma \n",
    "2. Similarly, accept a list of 10 grades (0 - 5). Each grade must be separated by a comma\n",
    "    2.1. Grades must be stored as integers after accepting them as inputs. (HINT: Use typecasting)\n",
    "3. Store in a variable both the names and the grades together. (HINT: Use zip())\n",
    "4. Display to the user the different options that they can choose from to interact with the program\n",
    "    4.1. First option is to view the student with the highest grade.\n",
    "    4.2. Second option is to view top three students with the highest grade (HINT: Use sorted())\n",
    "    4.3. Third option is to view the students with the lowest grade\n",
    "    4.4. Fourth option is to get the total number of students that failed\n",
    "    4.5. Quit the program\n",
    "5. Use only the methods you have learned so far, including list methods and list comprehension. "
   ]
  },
  {
   "cell_type": "code",
   "metadata": {
    "ExecuteTime": {
     "end_time": "2024-09-09T06:32:27.320258Z",
     "start_time": "2024-09-09T06:32:05.313683Z"
    }
   },
   "source": [
    "# Write your program here\n",
    "name_list = list(input('Please enter 10 names seperated by the comma:').split(','))\n",
    "\n",
    "grade_list = [int(x) for x in list(input('Please enter 10 grades(0-5) seperated by the comma:').split(','))]\n",
    "\n",
    "name_grade = list(zip(name_list, grade_list))\n",
    "\n",
    "sorted_name_grade = sorted(name_grade, key=lambda x: x[1], reverse=True)\n",
    "\n",
    "while True:\n",
    "    print(\n",
    "        '1. view the student with the highest grade\\n2. view top three students with the highest grade\\n3. view the students with the lowest grade\\n4. get the total number of students that failed\\n5. Quit the program')\n",
    "    option = int(input('Please enter chosen number:'))\n",
    "    match option:\n",
    "        case 1:\n",
    "            print('The student with the highest grade >> ', end='')\n",
    "            print(f'Name: {sorted_name_grade[0][0]}; Grade: {sorted_name_grade[0][1]}\\n-----')\n",
    "            continue\n",
    "        case 2:\n",
    "            print('The top three students with the highest grade >> ', end='')\n",
    "            for name, grade in sorted_name_grade[:3]:\n",
    "                print(f'(Name: {name}; Grade: {grade}) ', end='')\n",
    "            print('\\n-----')\n",
    "            continue\n",
    "        case 3:\n",
    "            print('The student with the lowest grade >> ', end='')\n",
    "            print(f'Name: {sorted_name_grade[-1][0]}; Grade: {sorted_name_grade[-1][1]}\\n-----')\n",
    "            continue\n",
    "        case 4:\n",
    "            print('The total number of students that failed >> ', end='')\n",
    "            num = 0\n",
    "            for _, grade in sorted_name_grade:\n",
    "                if grade < 3:\n",
    "                    num += 1\n",
    "            print(f'Totally {num} students failed\\n-----')\n",
    "            continue\n",
    "        case 5:\n",
    "            print('Goodbye')\n",
    "            break\n"
   ],
   "outputs": [
    {
     "name": "stdout",
     "output_type": "stream",
     "text": [
      "1. view the student with the highest grade\n",
      "2. view top three students with the highest grade\n",
      "3. view the students with the lowest grade\n",
      "4. get the total number of students that failed\n",
      "5. Quit the program\n",
      "Name: charles; Grade: 5\n",
      "-----\n",
      "1. view the student with the highest grade\n",
      "2. view top three students with the highest grade\n",
      "3. view the students with the lowest grade\n",
      "4. get the total number of students that failed\n",
      "5. Quit the program\n",
      "Name: charles; Grade: 5\n",
      "Name: kimi; Grade: 4\n",
      "Name: rocky; Grade: 3\n",
      "-----\n",
      "1. view the student with the highest grade\n",
      "2. view top three students with the highest grade\n",
      "3. view the students with the lowest grade\n",
      "4. get the total number of students that failed\n",
      "5. Quit the program\n",
      "Name: allen; Grade: 1\n",
      "-----\n",
      "1. view the student with the highest grade\n",
      "2. view top three students with the highest grade\n",
      "3. view the students with the lowest grade\n",
      "4. get the total number of students that failed\n",
      "5. Quit the program\n",
      "Totally 2 students failed\n",
      "-----\n",
      "1. view the student with the highest grade\n",
      "2. view top three students with the highest grade\n",
      "3. view the students with the lowest grade\n",
      "4. get the total number of students that failed\n",
      "5. Quit the program\n",
      "Goodbye\n"
     ]
    }
   ],
   "execution_count": 11
  },
  {
   "metadata": {},
   "cell_type": "code",
   "outputs": [],
   "execution_count": null,
   "source": ""
  }
 ],
 "metadata": {
  "kernelspec": {
   "display_name": "Python 3",
   "language": "python",
   "name": "python3"
  },
  "language_info": {
   "codemirror_mode": {
    "name": "ipython",
    "version": 3
   },
   "file_extension": ".py",
   "mimetype": "text/x-python",
   "name": "python",
   "nbconvert_exporter": "python",
   "pygments_lexer": "ipython3",
   "version": "3.11.5"
  }
 },
 "nbformat": 4,
 "nbformat_minor": 2
}
