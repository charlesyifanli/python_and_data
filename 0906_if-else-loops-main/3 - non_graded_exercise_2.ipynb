{
 "cells": [
  {
   "cell_type": "markdown",
   "metadata": {},
   "source": [
    "Write a simple game with the following requirements:\n",
    "\n",
    "1. Print a welcome message that says \"Welcome to Hangman\"\n",
    "2. Store a list of different words that can be used in the game. When the game starts, pick one word randomly. For now, use a list of only single words. \n",
    "3. Display that random word to the user, but display it only as '_' (underscores). e.g., if the word is 'Alice', then only _ _ _ _ _ should be displayed. \n",
    "3. Keep asking the user to guess the word one letter at a time until either the user guesses it correctly, or they run out of total 10 attempts. \n",
    "    3.1. Print how many attempts are left\n",
    "    3.2. Print the current state of the guessed word\n",
    "    3.3. Ask the user enter a single letter\n",
    "    3.4 Every time the user enters something, check that the input is only alphabet and not numbers or special characters. If the user enters such a character, tell the user \"Invalid Character\" and ask the user to try again. \n",
    "    3.5. Keep track of all the letters that the user has entered while playing the game\n",
    "    3.6. If the user enters a letter that was already entered before, inform the user. \n",
    "    3.7. Every time the user makes an incorrect guess, the number of total attempts must be decreased by 1. \n",
    "    3.8. Every time the user makes a correct guess, inform the user that it was correct, fill the word with that letter and continue. For example, if the user enters 'i' when trying to guess the word 'Alice', display to the user _ _ i _ _\n",
    "    3.9 If the entire word has been guessed correctly, display the message \"Awesome! You guessed the word correctly\".\n",
    "4. After the game ends, display \"Thank you for playing. See you next time\" if the user was able to guess the word correctly. Otherwise, display \"Thank you for playing. Better luck next time\" if the user could not guess the word and the number of total attempts is 0. \n",
    "\n",
    "After your have finished writing the program and it works flawlessly, you can COMMIT and then PUSH your program to your GitHub acccount. Then copy that repository link and submit it to \"Non-graded Exercise #2: If-else and Loops\" submission box\n",
    "\n",
    "*** If you still have time and want to try something more, try using a list of multiple words that may have numbers and even special characters. For example, \"Oh, my God!\""
   ]
  },
  {
   "metadata": {
    "ExecuteTime": {
     "end_time": "2024-09-06T07:53:45.187539Z",
     "start_time": "2024-09-06T07:53:25.479275Z"
    }
   },
   "cell_type": "code",
   "source": [
    "import random\n",
    "\n",
    "def welcome_message():\n",
    "    print(\"Welcome to Hangman!\")\n",
    "\n",
    "\n",
    "def get_random_word():\n",
    "    words = ['apple', 'banana', 'grapes', 'orange', 'mango']\n",
    "    return random.choice(words).lower()\n",
    "\n",
    "\n",
    "def display_word(word, correct_guesses):\n",
    "    display = \"\"\n",
    "    for letter in word:\n",
    "        if letter in correct_guesses:\n",
    "            display += letter + \" \"\n",
    "        else:\n",
    "            display += \"_ \"\n",
    "    print(\"Current word: \", display.strip())\n",
    "\n",
    "\n",
    "def is_valid_guess(guess, guessed_letters):\n",
    "    if not guess.isalpha() or len(guess) != 1:\n",
    "        print(\"Invalid Character. Please enter a single alphabet letter.\")\n",
    "        return False\n",
    "    elif guess in guessed_letters:\n",
    "        print(f\"You already guessed '{guess}'. Try another letter.\")\n",
    "        return False\n",
    "    return True\n",
    "\n",
    "\n",
    "def play_hangman():\n",
    "    welcome_message()\n",
    "\n",
    "    word = get_random_word()\n",
    "    correct_guesses = []\n",
    "    guessed_letters = []\n",
    "    attempts = 10\n",
    "    word_guessed = False\n",
    "\n",
    "    print(\"\\nLet's start the game!\")\n",
    "    display_word(word, correct_guesses)\n",
    "\n",
    "    while attempts > 0 and not word_guessed:\n",
    "        print(f\"\\nYou have {attempts} attempts left.\")\n",
    "\n",
    "        guess = input(\"Enter a single letter: \").lower()\n",
    "\n",
    "        if not is_valid_guess(guess, guessed_letters):\n",
    "            continue\n",
    "\n",
    "        guessed_letters.append(guess)\n",
    "\n",
    "        if guess in word:\n",
    "            print(f\"Good guess! '{guess}' is in the word.\")\n",
    "            correct_guesses.append(guess)\n",
    "        else:\n",
    "            print(f\"Oops! '{guess}' is not in the word.\")\n",
    "            attempts -= 1\n",
    "\n",
    "        display_word(word, correct_guesses)\n",
    "\n",
    "        if all(letter in correct_guesses for letter in word):\n",
    "            word_guessed = True\n",
    "\n",
    "    if word_guessed:\n",
    "        print(\"\\nAwesome! You guessed the word correctly.\")\n",
    "        print(\"Thank you for playing. See you next time!\")\n",
    "    else:\n",
    "        print(f\"\\nSorry, you ran out of attempts. The word was '{word}'.\")\n",
    "        print(\"Thank you for playing. Better luck next time!\")\n",
    "\n",
    "\n",
    "# Run the game\n",
    "play_hangman()\n"
   ],
   "outputs": [
    {
     "name": "stdout",
     "output_type": "stream",
     "text": [
      "Welcome to Hangman!\n",
      "\n",
      "Let's start the game!\n",
      "Current word:  _ _ _ _ _\n",
      "\n",
      "You have 10 attempts left.\n",
      "Good guess! 'a' is in the word.\n",
      "Current word:  a _ _ _ _\n",
      "\n",
      "You have 10 attempts left.\n",
      "Good guess! 'p' is in the word.\n",
      "Current word:  a p p _ _\n",
      "\n",
      "You have 10 attempts left.\n",
      "Good guess! 'l' is in the word.\n",
      "Current word:  a p p l _\n",
      "\n",
      "You have 10 attempts left.\n",
      "Good guess! 'e' is in the word.\n",
      "Current word:  a p p l e\n",
      "\n",
      "Awesome! You guessed the word correctly.\n",
      "Thank you for playing. See you next time!\n"
     ]
    }
   ],
   "execution_count": 1
  },
  {
   "cell_type": "code",
   "metadata": {
    "ExecuteTime": {
     "end_time": "2024-09-06T07:53:45.248496Z",
     "start_time": "2024-09-06T07:53:45.243267Z"
    }
   },
   "source": "",
   "outputs": [],
   "execution_count": null
  }
 ],
 "metadata": {
  "kernelspec": {
   "display_name": "Python 3",
   "language": "python",
   "name": "python3"
  },
  "language_info": {
   "codemirror_mode": {
    "name": "ipython",
    "version": 3
   },
   "file_extension": ".py",
   "mimetype": "text/x-python",
   "name": "python",
   "nbconvert_exporter": "python",
   "pygments_lexer": "ipython3",
   "version": "3.11.5"
  }
 },
 "nbformat": 4,
 "nbformat_minor": 2
}
