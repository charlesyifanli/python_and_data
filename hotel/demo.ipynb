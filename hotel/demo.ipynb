{
 "cells": [
  {
   "metadata": {
    "ExecuteTime": {
     "end_time": "2024-09-27T07:00:55.519619Z",
     "start_time": "2024-09-27T07:00:55.511084Z"
    }
   },
   "cell_type": "code",
   "source": [
    "import numpy as np\n",
    "import pandas as pd\n",
    "from matplotlib import pyplot as plt\n",
    "import seaborn as sns"
   ],
   "id": "a20b852f970a7a2d",
   "outputs": [],
   "execution_count": 1
  },
  {
   "metadata": {
    "ExecuteTime": {
     "end_time": "2024-09-27T07:00:56.217269Z",
     "start_time": "2024-09-27T07:00:55.557498Z"
    }
   },
   "cell_type": "code",
   "source": [
    "df = pd.read_csv('./Datafiniti_Hotel_Reviews_Jun19.csv')\n",
    "df.columns"
   ],
   "id": "1d8ee4d01de1843e",
   "outputs": [
    {
     "data": {
      "text/plain": [
       "Index(['id', 'dateAdded', 'dateUpdated', 'address', 'categories',\n",
       "       'primaryCategories', 'city', 'country', 'keys', 'latitude', 'longitude',\n",
       "       'name', 'postalCode', 'province', 'reviews.date', 'reviews.dateAdded',\n",
       "       'reviews.dateSeen', 'reviews.rating', 'reviews.sourceURLs',\n",
       "       'reviews.text', 'reviews.title', 'reviews.userCity',\n",
       "       'reviews.userProvince', 'reviews.username', 'sourceURLs', 'websites'],\n",
       "      dtype='object')"
      ]
     },
     "execution_count": 2,
     "metadata": {},
     "output_type": "execute_result"
    }
   ],
   "execution_count": 2
  },
  {
   "metadata": {
    "ExecuteTime": {
     "end_time": "2024-09-27T07:00:56.393192Z",
     "start_time": "2024-09-27T07:00:56.378502Z"
    }
   },
   "cell_type": "code",
   "source": "df.isna().sum()",
   "id": "9a06912e9e88b9c5",
   "outputs": [
    {
     "data": {
      "text/plain": [
       "id                          0\n",
       "dateAdded                   0\n",
       "dateUpdated                 0\n",
       "address                     0\n",
       "categories                  0\n",
       "primaryCategories           0\n",
       "city                        0\n",
       "country                     0\n",
       "keys                        0\n",
       "latitude                    0\n",
       "longitude                   0\n",
       "name                        0\n",
       "postalCode                  0\n",
       "province                    0\n",
       "reviews.date                0\n",
       "reviews.dateAdded       10000\n",
       "reviews.dateSeen            0\n",
       "reviews.rating              0\n",
       "reviews.sourceURLs          0\n",
       "reviews.text                0\n",
       "reviews.title               1\n",
       "reviews.userCity            0\n",
       "reviews.userProvince        2\n",
       "reviews.username            0\n",
       "sourceURLs                  0\n",
       "websites                    0\n",
       "dtype: int64"
      ]
     },
     "execution_count": 3,
     "metadata": {},
     "output_type": "execute_result"
    }
   ],
   "execution_count": 3
  },
  {
   "metadata": {
    "ExecuteTime": {
     "end_time": "2024-09-27T07:00:56.446143Z",
     "start_time": "2024-09-27T07:00:56.442541Z"
    }
   },
   "cell_type": "code",
   "source": "",
   "id": "b7375f882f3c224",
   "outputs": [],
   "execution_count": null
  }
 ],
 "metadata": {
  "kernelspec": {
   "display_name": "Python 3",
   "language": "python",
   "name": "python3"
  },
  "language_info": {
   "codemirror_mode": {
    "name": "ipython",
    "version": 2
   },
   "file_extension": ".py",
   "mimetype": "text/x-python",
   "name": "python",
   "nbconvert_exporter": "python",
   "pygments_lexer": "ipython2",
   "version": "2.7.6"
  }
 },
 "nbformat": 4,
 "nbformat_minor": 5
}
