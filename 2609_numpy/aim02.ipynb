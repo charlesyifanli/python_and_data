{
 "cells": [
  {
   "metadata": {},
   "cell_type": "markdown",
   "source": "Using only pandas and numpy respectively, load the dataset, calculate mean 'Sleep Duration', 'Systolic Blood Pressure', 'Diastolic Blood Pressure', 'Heart Rate' and 'Daily Steps'.",
   "id": "f0f5709a4fd545cb"
  },
  {
   "metadata": {
    "ExecuteTime": {
     "end_time": "2024-09-26T07:38:27.705276Z",
     "start_time": "2024-09-26T07:38:27.698878Z"
    }
   },
   "cell_type": "code",
   "source": "import pandas as pd",
   "id": "193e85d9b4ba0026",
   "outputs": [],
   "execution_count": 1
  },
  {
   "metadata": {
    "ExecuteTime": {
     "end_time": "2024-09-26T07:38:27.724763Z",
     "start_time": "2024-09-26T07:38:27.714139Z"
    }
   },
   "cell_type": "code",
   "source": [
    "df = pd.read_csv('./sleep_health.csv')\n",
    "df.columns"
   ],
   "id": "12d634d2831a2d40",
   "outputs": [
    {
     "data": {
      "text/plain": [
       "Index(['Person ID', 'Gender', 'Age', 'Occupation', 'Sleep Duration',\n",
       "       'Quality of Sleep', 'Physical Activity Level', 'Stress Level',\n",
       "       'BMI Category', 'Systolic blood pressure', 'Diastolic blood pressure',\n",
       "       'Heart Rate', 'Daily Steps', 'Sleep Disorder'],\n",
       "      dtype='object')"
      ]
     },
     "execution_count": 2,
     "metadata": {},
     "output_type": "execute_result"
    }
   ],
   "execution_count": 2
  },
  {
   "metadata": {
    "ExecuteTime": {
     "end_time": "2024-09-26T07:38:27.916535Z",
     "start_time": "2024-09-26T07:38:27.911215Z"
    }
   },
   "cell_type": "code",
   "source": [
    "print(f'sleep_duration_mean: {df[\"Sleep Duration\"].mean()}\\n'\n",
    "      f'systolic_blood_pressure_mean: {df[\"Systolic blood pressure\"].mean()}\\n'\n",
    "      f'diastolic_blood_pressure_mean: {df[\"Diastolic blood pressure\"].mean()}\\n'\n",
    "      f'heart_rate_mean: {df[\"Heart Rate\"].mean()}\\n'\n",
    "      f'daily_steps_mean: {df[\"Daily Steps\"].mean()}')"
   ],
   "id": "8aa6fcecb0181cf6",
   "outputs": [
    {
     "name": "stdout",
     "output_type": "stream",
     "text": [
      "sleep_duration_mean: 7.132085561497325\n",
      "systolic_blood_pressure_mean: 128.55347593582889\n",
      "diastolic_blood_pressure_mean: 84.64973262032086\n",
      "heart_rate_mean: 70.16577540106952\n",
      "daily_steps_mean: 6816.844919786096\n"
     ]
    }
   ],
   "execution_count": 3
  },
  {
   "metadata": {
    "ExecuteTime": {
     "end_time": "2024-09-26T07:38:28.056001Z",
     "start_time": "2024-09-26T07:38:28.052745Z"
    }
   },
   "cell_type": "code",
   "source": "import numpy as np",
   "id": "e79f29ac8ed20b4b",
   "outputs": [],
   "execution_count": 4
  },
  {
   "metadata": {
    "ExecuteTime": {
     "end_time": "2024-09-26T07:38:28.152071Z",
     "start_time": "2024-09-26T07:38:28.138275Z"
    }
   },
   "cell_type": "code",
   "source": [
    "nd = np.genfromtxt('./sleep_health.csv', delimiter=',', skip_header=0, dtype=None, encoding='utf-8', names=True)\n",
    "nd.dtype.names"
   ],
   "id": "104f24040f2c6533",
   "outputs": [
    {
     "data": {
      "text/plain": [
       "('Person_ID',\n",
       " 'Gender',\n",
       " 'Age',\n",
       " 'Occupation',\n",
       " 'Sleep_Duration',\n",
       " 'Quality_of_Sleep',\n",
       " 'Physical_Activity_Level',\n",
       " 'Stress_Level',\n",
       " 'BMI_Category',\n",
       " 'Systolic_blood_pressure',\n",
       " 'Diastolic_blood_pressure',\n",
       " 'Heart_Rate',\n",
       " 'Daily_Steps',\n",
       " 'Sleep_Disorder')"
      ]
     },
     "execution_count": 5,
     "metadata": {},
     "output_type": "execute_result"
    }
   ],
   "execution_count": 5
  },
  {
   "metadata": {
    "ExecuteTime": {
     "end_time": "2024-09-26T07:38:28.399505Z",
     "start_time": "2024-09-26T07:38:28.393650Z"
    }
   },
   "cell_type": "code",
   "source": [
    "print(f'sleep_duration_mean: {np.mean(nd[\"Sleep_Duration\"])}\\n'\n",
    "      f'systolic_blood_pressure_mean: {np.mean(nd[\"Systolic_blood_pressure\"])}\\n'\n",
    "      f'diastolic_blood_pressure_mean: {np.mean(nd[\"Diastolic_blood_pressure\"])}\\n'\n",
    "      f'heart_rate_mean: {np.mean(nd[\"Heart_Rate\"])}\\n'\n",
    "      f'daily_steps_mean: {np.mean(nd[\"Daily_Steps\"])}')"
   ],
   "id": "d75fdade3a796df7",
   "outputs": [
    {
     "name": "stdout",
     "output_type": "stream",
     "text": [
      "sleep_duration_mean: 7.132085561497325\n",
      "systolic_blood_pressure_mean: 128.55347593582889\n",
      "diastolic_blood_pressure_mean: 84.64973262032086\n",
      "heart_rate_mean: 70.16577540106952\n",
      "daily_steps_mean: 6816.844919786096\n"
     ]
    }
   ],
   "execution_count": 6
  },
  {
   "metadata": {},
   "cell_type": "markdown",
   "source": [
    "Using only pandas and numpy respectively, first calculate correlation (across only the numerical variables), and then separate correlation between...\n",
    "    Sleep duration and Age\n",
    "    Sleep duration and Heart rate\n",
    "    Sleep duration and Daily steps"
   ],
   "id": "4600fed592609655"
  },
  {
   "metadata": {
    "ExecuteTime": {
     "end_time": "2024-09-26T07:44:46.546613Z",
     "start_time": "2024-09-26T07:44:46.531103Z"
    }
   },
   "cell_type": "code",
   "source": [
    "number_df = df.select_dtypes(include=['number'])\n",
    "\n",
    "correlation_matrix = number_df.corr()\n",
    "print(type(correlation_matrix))\n",
    "correlation_matrix"
   ],
   "id": "fe35f444fe724432",
   "outputs": [
    {
     "name": "stdout",
     "output_type": "stream",
     "text": [
      "<class 'pandas.core.frame.DataFrame'>\n"
     ]
    },
    {
     "data": {
      "text/plain": [
       "                          Person ID       Age  Sleep Duration  \\\n",
       "Person ID                  1.000000  0.990516        0.296305   \n",
       "Age                        0.990516  1.000000        0.344709   \n",
       "Sleep Duration             0.296305  0.344709        1.000000   \n",
       "Quality of Sleep           0.431612  0.473734        0.883213   \n",
       "Physical Activity Level    0.149882  0.178993        0.212360   \n",
       "Stress Level              -0.394287 -0.422344       -0.811023   \n",
       "Systolic blood pressure    0.611551  0.605878       -0.180406   \n",
       "Diastolic blood pressure   0.590670  0.593839       -0.166570   \n",
       "Heart Rate                -0.225467 -0.225606       -0.516455   \n",
       "Daily Steps                0.043844  0.057973       -0.039533   \n",
       "\n",
       "                          Quality of Sleep  Physical Activity Level  \\\n",
       "Person ID                         0.431612                 0.149882   \n",
       "Age                               0.473734                 0.178993   \n",
       "Sleep Duration                    0.883213                 0.212360   \n",
       "Quality of Sleep                  1.000000                 0.192896   \n",
       "Physical Activity Level           0.192896                 1.000000   \n",
       "Stress Level                     -0.898752                -0.034134   \n",
       "Systolic blood pressure          -0.121632                 0.265416   \n",
       "Diastolic blood pressure         -0.110151                 0.382651   \n",
       "Heart Rate                       -0.659865                 0.136971   \n",
       "Daily Steps                       0.016791                 0.772723   \n",
       "\n",
       "                          Stress Level  Systolic blood pressure  \\\n",
       "Person ID                    -0.394287                 0.611551   \n",
       "Age                          -0.422344                 0.605878   \n",
       "Sleep Duration               -0.811023                -0.180406   \n",
       "Quality of Sleep             -0.898752                -0.121632   \n",
       "Physical Activity Level      -0.034134                 0.265416   \n",
       "Stress Level                  1.000000                 0.102818   \n",
       "Systolic blood pressure       0.102818                 1.000000   \n",
       "Diastolic blood pressure      0.091811                 0.972885   \n",
       "Heart Rate                    0.670026                 0.294143   \n",
       "Daily Steps                   0.186829                 0.103342   \n",
       "\n",
       "                          Diastolic blood pressure  Heart Rate  Daily Steps  \n",
       "Person ID                                 0.590670   -0.225467     0.043844  \n",
       "Age                                       0.593839   -0.225606     0.057973  \n",
       "Sleep Duration                           -0.166570   -0.516455    -0.039533  \n",
       "Quality of Sleep                         -0.110151   -0.659865     0.016791  \n",
       "Physical Activity Level                   0.382651    0.136971     0.772723  \n",
       "Stress Level                              0.091811    0.670026     0.186829  \n",
       "Systolic blood pressure                   0.972885    0.294143     0.103342  \n",
       "Diastolic blood pressure                  1.000000    0.271092     0.241986  \n",
       "Heart Rate                                0.271092    1.000000    -0.030309  \n",
       "Daily Steps                               0.241986   -0.030309     1.000000  "
      ],
      "text/html": [
       "<div>\n",
       "<style scoped>\n",
       "    .dataframe tbody tr th:only-of-type {\n",
       "        vertical-align: middle;\n",
       "    }\n",
       "\n",
       "    .dataframe tbody tr th {\n",
       "        vertical-align: top;\n",
       "    }\n",
       "\n",
       "    .dataframe thead th {\n",
       "        text-align: right;\n",
       "    }\n",
       "</style>\n",
       "<table border=\"1\" class=\"dataframe\">\n",
       "  <thead>\n",
       "    <tr style=\"text-align: right;\">\n",
       "      <th></th>\n",
       "      <th>Person ID</th>\n",
       "      <th>Age</th>\n",
       "      <th>Sleep Duration</th>\n",
       "      <th>Quality of Sleep</th>\n",
       "      <th>Physical Activity Level</th>\n",
       "      <th>Stress Level</th>\n",
       "      <th>Systolic blood pressure</th>\n",
       "      <th>Diastolic blood pressure</th>\n",
       "      <th>Heart Rate</th>\n",
       "      <th>Daily Steps</th>\n",
       "    </tr>\n",
       "  </thead>\n",
       "  <tbody>\n",
       "    <tr>\n",
       "      <th>Person ID</th>\n",
       "      <td>1.000000</td>\n",
       "      <td>0.990516</td>\n",
       "      <td>0.296305</td>\n",
       "      <td>0.431612</td>\n",
       "      <td>0.149882</td>\n",
       "      <td>-0.394287</td>\n",
       "      <td>0.611551</td>\n",
       "      <td>0.590670</td>\n",
       "      <td>-0.225467</td>\n",
       "      <td>0.043844</td>\n",
       "    </tr>\n",
       "    <tr>\n",
       "      <th>Age</th>\n",
       "      <td>0.990516</td>\n",
       "      <td>1.000000</td>\n",
       "      <td>0.344709</td>\n",
       "      <td>0.473734</td>\n",
       "      <td>0.178993</td>\n",
       "      <td>-0.422344</td>\n",
       "      <td>0.605878</td>\n",
       "      <td>0.593839</td>\n",
       "      <td>-0.225606</td>\n",
       "      <td>0.057973</td>\n",
       "    </tr>\n",
       "    <tr>\n",
       "      <th>Sleep Duration</th>\n",
       "      <td>0.296305</td>\n",
       "      <td>0.344709</td>\n",
       "      <td>1.000000</td>\n",
       "      <td>0.883213</td>\n",
       "      <td>0.212360</td>\n",
       "      <td>-0.811023</td>\n",
       "      <td>-0.180406</td>\n",
       "      <td>-0.166570</td>\n",
       "      <td>-0.516455</td>\n",
       "      <td>-0.039533</td>\n",
       "    </tr>\n",
       "    <tr>\n",
       "      <th>Quality of Sleep</th>\n",
       "      <td>0.431612</td>\n",
       "      <td>0.473734</td>\n",
       "      <td>0.883213</td>\n",
       "      <td>1.000000</td>\n",
       "      <td>0.192896</td>\n",
       "      <td>-0.898752</td>\n",
       "      <td>-0.121632</td>\n",
       "      <td>-0.110151</td>\n",
       "      <td>-0.659865</td>\n",
       "      <td>0.016791</td>\n",
       "    </tr>\n",
       "    <tr>\n",
       "      <th>Physical Activity Level</th>\n",
       "      <td>0.149882</td>\n",
       "      <td>0.178993</td>\n",
       "      <td>0.212360</td>\n",
       "      <td>0.192896</td>\n",
       "      <td>1.000000</td>\n",
       "      <td>-0.034134</td>\n",
       "      <td>0.265416</td>\n",
       "      <td>0.382651</td>\n",
       "      <td>0.136971</td>\n",
       "      <td>0.772723</td>\n",
       "    </tr>\n",
       "    <tr>\n",
       "      <th>Stress Level</th>\n",
       "      <td>-0.394287</td>\n",
       "      <td>-0.422344</td>\n",
       "      <td>-0.811023</td>\n",
       "      <td>-0.898752</td>\n",
       "      <td>-0.034134</td>\n",
       "      <td>1.000000</td>\n",
       "      <td>0.102818</td>\n",
       "      <td>0.091811</td>\n",
       "      <td>0.670026</td>\n",
       "      <td>0.186829</td>\n",
       "    </tr>\n",
       "    <tr>\n",
       "      <th>Systolic blood pressure</th>\n",
       "      <td>0.611551</td>\n",
       "      <td>0.605878</td>\n",
       "      <td>-0.180406</td>\n",
       "      <td>-0.121632</td>\n",
       "      <td>0.265416</td>\n",
       "      <td>0.102818</td>\n",
       "      <td>1.000000</td>\n",
       "      <td>0.972885</td>\n",
       "      <td>0.294143</td>\n",
       "      <td>0.103342</td>\n",
       "    </tr>\n",
       "    <tr>\n",
       "      <th>Diastolic blood pressure</th>\n",
       "      <td>0.590670</td>\n",
       "      <td>0.593839</td>\n",
       "      <td>-0.166570</td>\n",
       "      <td>-0.110151</td>\n",
       "      <td>0.382651</td>\n",
       "      <td>0.091811</td>\n",
       "      <td>0.972885</td>\n",
       "      <td>1.000000</td>\n",
       "      <td>0.271092</td>\n",
       "      <td>0.241986</td>\n",
       "    </tr>\n",
       "    <tr>\n",
       "      <th>Heart Rate</th>\n",
       "      <td>-0.225467</td>\n",
       "      <td>-0.225606</td>\n",
       "      <td>-0.516455</td>\n",
       "      <td>-0.659865</td>\n",
       "      <td>0.136971</td>\n",
       "      <td>0.670026</td>\n",
       "      <td>0.294143</td>\n",
       "      <td>0.271092</td>\n",
       "      <td>1.000000</td>\n",
       "      <td>-0.030309</td>\n",
       "    </tr>\n",
       "    <tr>\n",
       "      <th>Daily Steps</th>\n",
       "      <td>0.043844</td>\n",
       "      <td>0.057973</td>\n",
       "      <td>-0.039533</td>\n",
       "      <td>0.016791</td>\n",
       "      <td>0.772723</td>\n",
       "      <td>0.186829</td>\n",
       "      <td>0.103342</td>\n",
       "      <td>0.241986</td>\n",
       "      <td>-0.030309</td>\n",
       "      <td>1.000000</td>\n",
       "    </tr>\n",
       "  </tbody>\n",
       "</table>\n",
       "</div>"
      ]
     },
     "execution_count": 10,
     "metadata": {},
     "output_type": "execute_result"
    }
   ],
   "execution_count": 10
  },
  {
   "metadata": {
    "ExecuteTime": {
     "end_time": "2024-09-26T07:44:52.438756Z",
     "start_time": "2024-09-26T07:44:52.434015Z"
    }
   },
   "cell_type": "code",
   "source": [
    "print(f'Correlation between Sleep Duration and Age: {correlation_matrix.loc[\"Sleep Duration\", \"Age\"]}')\n",
    "print(f'Correlation between Sleep Duration and Heart Rate: {correlation_matrix.loc[\"Sleep Duration\", \"Heart Rate\"]}')\n",
    "print(f'Correlation between Sleep Duration and Steps: {correlation_matrix.loc[\"Sleep Duration\", \"Daily Steps\"]}')"
   ],
   "id": "de0c53803f9fb8f",
   "outputs": [
    {
     "name": "stdout",
     "output_type": "stream",
     "text": [
      "Correlation between Sleep Duration and Age: 0.3447093581647443\n",
      "Correlation between Sleep Duration and Heart Rate: -0.516454888517144\n",
      "Correlation between Sleep Duration and Steps: -0.039532537675731685\n"
     ]
    }
   ],
   "execution_count": 11
  },
  {
   "metadata": {
    "ExecuteTime": {
     "end_time": "2024-09-26T07:45:23.893186Z",
     "start_time": "2024-09-26T07:45:23.883488Z"
    }
   },
   "cell_type": "code",
   "source": [
    "correlation_matrix = np.corrcoef([nd['Sleep_Duration'], nd['Age'], nd['Heart_Rate'], nd['Daily_Steps']])\n",
    "\n",
    "print(type(correlation_matrix))\n",
    "correlation_matrix"
   ],
   "id": "8fdebcb5825bbebd",
   "outputs": [
    {
     "name": "stdout",
     "output_type": "stream",
     "text": [
      "<class 'numpy.ndarray'>\n"
     ]
    },
    {
     "data": {
      "text/plain": [
       "array([[ 1.        ,  0.34470936, -0.51645489, -0.03953254],\n",
       "       [ 0.34470936,  1.        , -0.22560619,  0.0579734 ],\n",
       "       [-0.51645489, -0.22560619,  1.        , -0.03030858],\n",
       "       [-0.03953254,  0.0579734 , -0.03030858,  1.        ]])"
      ]
     },
     "execution_count": 13,
     "metadata": {},
     "output_type": "execute_result"
    }
   ],
   "execution_count": 13
  },
  {
   "metadata": {
    "ExecuteTime": {
     "end_time": "2024-09-26T07:46:05.818562Z",
     "start_time": "2024-09-26T07:46:05.813706Z"
    }
   },
   "cell_type": "code",
   "source": [
    "print(f'Correlation between Sleep Duration and Age: {correlation_matrix[0, 1]}')\n",
    "print(f'Correlation between Sleep Duration and Heart Rate: {correlation_matrix[0, 2]}')\n",
    "print(f'Correlation between Sleep Duration and Steps: {correlation_matrix[0, 3]}')"
   ],
   "id": "b0e05fd7b349e620",
   "outputs": [
    {
     "name": "stdout",
     "output_type": "stream",
     "text": [
      "Correlation between Sleep Duration and Age: 0.34470935816474424\n",
      "Correlation between Sleep Duration and Heart Rate: -0.5164548885171424\n",
      "Correlation between Sleep Duration and Steps: -0.039532537675732504\n"
     ]
    }
   ],
   "execution_count": 14
  },
  {
   "metadata": {},
   "cell_type": "markdown",
   "source": "Using only pandas and numpy respectively, calculate standard deviation for 'Sleep Duration'.",
   "id": "ed2d48e6727ad243"
  },
  {
   "metadata": {
    "ExecuteTime": {
     "end_time": "2024-09-26T07:38:29.012839Z",
     "start_time": "2024-09-26T07:38:29.009421Z"
    }
   },
   "cell_type": "code",
   "source": "",
   "id": "fcf2e4883a630997",
   "outputs": [],
   "execution_count": null
  },
  {
   "metadata": {
    "ExecuteTime": {
     "end_time": "2024-09-26T07:38:29.080608Z",
     "start_time": "2024-09-26T07:38:29.077943Z"
    }
   },
   "cell_type": "code",
   "source": "",
   "id": "51e22db33b2ca8d5",
   "outputs": [],
   "execution_count": null
  },
  {
   "metadata": {
    "ExecuteTime": {
     "end_time": "2024-09-26T07:38:29.157170Z",
     "start_time": "2024-09-26T07:38:29.154535Z"
    }
   },
   "cell_type": "code",
   "source": "",
   "id": "bc7f48ea356f694a",
   "outputs": [],
   "execution_count": null
  }
 ],
 "metadata": {
  "kernelspec": {
   "display_name": "Python 3",
   "language": "python",
   "name": "python3"
  },
  "language_info": {
   "codemirror_mode": {
    "name": "ipython",
    "version": 2
   },
   "file_extension": ".py",
   "mimetype": "text/x-python",
   "name": "python",
   "nbconvert_exporter": "python",
   "pygments_lexer": "ipython2",
   "version": "2.7.6"
  }
 },
 "nbformat": 4,
 "nbformat_minor": 5
}
