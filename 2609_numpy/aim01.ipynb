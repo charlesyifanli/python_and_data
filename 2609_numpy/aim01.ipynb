{
 "cells": [
  {
   "metadata": {},
   "cell_type": "markdown",
   "source": "Generate a dataset of 1 million random data items between 1 and 100 items using only pandas\n",
   "id": "b3dc6272ce2792fa"
  },
  {
   "metadata": {
    "ExecuteTime": {
     "end_time": "2024-09-26T07:06:25.922712Z",
     "start_time": "2024-09-26T07:06:25.920266Z"
    }
   },
   "cell_type": "code",
   "source": "import pandas as pd",
   "id": "a84d3cca96bbeb86",
   "outputs": [],
   "execution_count": 1
  },
  {
   "metadata": {
    "ExecuteTime": {
     "end_time": "2024-09-26T07:06:29.652539Z",
     "start_time": "2024-09-26T07:06:29.649138Z"
    }
   },
   "cell_type": "code",
   "source": "data_size = 1_000_000",
   "id": "2be7bc73b7073f89",
   "outputs": [],
   "execution_count": 2
  },
  {
   "metadata": {
    "ExecuteTime": {
     "end_time": "2024-09-26T07:10:58.608868Z",
     "start_time": "2024-09-26T07:10:58.567426Z"
    }
   },
   "cell_type": "code",
   "source": [
    "series = pd.Series(pd.Series(range(1, 101)).sample(data_size, replace=True).values)\n",
    "df = pd.DataFrame(series, columns=['RandomNumbers'])\n",
    "\n",
    "df.head()"
   ],
   "id": "8a7e354772cf0c03",
   "outputs": [
    {
     "data": {
      "text/plain": [
       "   RandomNumbers\n",
       "0             86\n",
       "1             44\n",
       "2             56\n",
       "3             33\n",
       "4             49"
      ],
      "text/html": [
       "<div>\n",
       "<style scoped>\n",
       "    .dataframe tbody tr th:only-of-type {\n",
       "        vertical-align: middle;\n",
       "    }\n",
       "\n",
       "    .dataframe tbody tr th {\n",
       "        vertical-align: top;\n",
       "    }\n",
       "\n",
       "    .dataframe thead th {\n",
       "        text-align: right;\n",
       "    }\n",
       "</style>\n",
       "<table border=\"1\" class=\"dataframe\">\n",
       "  <thead>\n",
       "    <tr style=\"text-align: right;\">\n",
       "      <th></th>\n",
       "      <th>RandomNumbers</th>\n",
       "    </tr>\n",
       "  </thead>\n",
       "  <tbody>\n",
       "    <tr>\n",
       "      <th>0</th>\n",
       "      <td>86</td>\n",
       "    </tr>\n",
       "    <tr>\n",
       "      <th>1</th>\n",
       "      <td>44</td>\n",
       "    </tr>\n",
       "    <tr>\n",
       "      <th>2</th>\n",
       "      <td>56</td>\n",
       "    </tr>\n",
       "    <tr>\n",
       "      <th>3</th>\n",
       "      <td>33</td>\n",
       "    </tr>\n",
       "    <tr>\n",
       "      <th>4</th>\n",
       "      <td>49</td>\n",
       "    </tr>\n",
       "  </tbody>\n",
       "</table>\n",
       "</div>"
      ]
     },
     "execution_count": 3,
     "metadata": {},
     "output_type": "execute_result"
    }
   ],
   "execution_count": 3
  },
  {
   "metadata": {},
   "cell_type": "markdown",
   "source": "Generate a dataset of 1 million random data items between 1 and 100 using only NumPy",
   "id": "ba2e8de5655b9c47"
  },
  {
   "metadata": {
    "ExecuteTime": {
     "end_time": "2024-09-26T07:11:19.857064Z",
     "start_time": "2024-09-26T07:11:19.853446Z"
    }
   },
   "cell_type": "code",
   "source": "import numpy as np",
   "id": "bb06419d5e55919",
   "outputs": [],
   "execution_count": 4
  },
  {
   "metadata": {
    "ExecuteTime": {
     "end_time": "2024-09-26T07:18:25.635742Z",
     "start_time": "2024-09-26T07:18:25.622743Z"
    }
   },
   "cell_type": "code",
   "source": [
    "np.random.seed(42)\n",
    "ndarray = np.random.randint(1, 101, size=data_size)\n",
    "\n",
    "ndarray"
   ],
   "id": "ef3ffcb590fff096",
   "outputs": [
    {
     "data": {
      "text/plain": [
       "array([52, 93, 15, ..., 62, 78, 53], dtype=int32)"
      ]
     },
     "execution_count": 11,
     "metadata": {},
     "output_type": "execute_result"
    }
   ],
   "execution_count": 11
  },
  {
   "metadata": {},
   "cell_type": "code",
   "outputs": [],
   "execution_count": null,
   "source": "",
   "id": "cb44bf03c7400058"
  }
 ],
 "metadata": {
  "kernelspec": {
   "display_name": "Python 3",
   "language": "python",
   "name": "python3"
  },
  "language_info": {
   "codemirror_mode": {
    "name": "ipython",
    "version": 2
   },
   "file_extension": ".py",
   "mimetype": "text/x-python",
   "name": "python",
   "nbconvert_exporter": "python",
   "pygments_lexer": "ipython2",
   "version": "2.7.6"
  }
 },
 "nbformat": 4,
 "nbformat_minor": 5
}
