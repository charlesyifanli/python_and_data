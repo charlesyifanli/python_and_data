{
 "cells": [
  {
   "cell_type": "markdown",
   "metadata": {},
   "source": [
    "1. Ask user to enter a string and check that it is made up only alphabets:"
   ]
  },
  {
   "cell_type": "code",
   "metadata": {
    "ExecuteTime": {
     "end_time": "2024-09-06T07:06:15.784900Z",
     "start_time": "2024-09-06T07:06:13.634377Z"
    }
   },
   "source": [
    "input_words = input(\"Please enter your username\")\n",
    "print(input_words)\n",
    "\n",
    "if input_words.isalpha():\n",
    "    print('Your name is valid')\n",
    "else:\n",
    "    print('Invalid username')"
   ],
   "outputs": [
    {
     "name": "stdout",
     "output_type": "stream",
     "text": [
      "cac\n",
      "Your name is valid\n"
     ]
    }
   ],
   "execution_count": 2
  },
  {
   "cell_type": "markdown",
   "metadata": {},
   "source": [
    "2. Now, make sure that the string is made up of both alphabets and numbers:\n",
    "\n",
    "TRY using isalnum() function and then entering only alhpabets in the string and see what happens."
   ]
  },
  {
   "cell_type": "code",
   "metadata": {
    "ExecuteTime": {
     "end_time": "2024-09-06T07:07:07.281958Z",
     "start_time": "2024-09-06T07:07:04.047635Z"
    }
   },
   "source": [
    "input_words = input(\"Please enter your username\")\n",
    "print(input_words)\n",
    "\n",
    "flag = True\n",
    "if not input_words.isalnum():\n",
    "    flag = False\n",
    "\n",
    "alpha_existence = 0\n",
    "number_existence = 0\n",
    "\n",
    "for x in input_words:\n",
    "    if x.isalpha():\n",
    "        alpha_existence += 1\n",
    "        continue\n",
    "    elif x.isdigit():\n",
    "        number_existence += 1\n",
    "        continue\n",
    "\n",
    "if flag and alpha_existence > 0 and number_existence > 0:\n",
    "    print('Your name is valid')\n",
    "else:\n",
    "    print('Invalid username')"
   ],
   "outputs": [
    {
     "name": "stdout",
     "output_type": "stream",
     "text": [
      "caca1\n",
      "Your name is valid\n"
     ]
    }
   ],
   "execution_count": 3
  },
  {
   "cell_type": "markdown",
   "metadata": {},
   "source": [
    "3. Now, make sure that the string is made up of both alphabets and at least one number:\n"
   ]
  },
  {
   "cell_type": "code",
   "metadata": {
    "ExecuteTime": {
     "end_time": "2024-09-06T07:07:16.126240Z",
     "start_time": "2024-09-06T07:07:10.870612Z"
    }
   },
   "source": [
    "input_words = input(\"Please enter your username\")\n",
    "print(input_words)\n",
    "\n",
    "flag = True\n",
    "alpha_existence = 0\n",
    "number_existence = 0\n",
    "\n",
    "for x in input_words:\n",
    "    if x.isalpha():\n",
    "        alpha_existence += 1\n",
    "        continue\n",
    "    elif x.isdigit():\n",
    "        number_existence += 1\n",
    "        continue\n",
    "    else:\n",
    "        flag = False\n",
    "\n",
    "if flag and alpha_existence > 0 and number_existence > 0:\n",
    "    print('Your name is valid')\n",
    "else:\n",
    "    print('Invalid username')"
   ],
   "outputs": [
    {
     "name": "stdout",
     "output_type": "stream",
     "text": [
      "hello1\n",
      "Your name is valid\n"
     ]
    }
   ],
   "execution_count": 4
  },
  {
   "cell_type": "markdown",
   "metadata": {},
   "source": [
    "4. Now, make sure that the string is made up of both alphabets, at least one number, and at least one special character:"
   ]
  },
  {
   "cell_type": "code",
   "metadata": {
    "ExecuteTime": {
     "end_time": "2024-09-06T07:07:25.696594Z",
     "start_time": "2024-09-06T07:07:21.672150Z"
    }
   },
   "source": [
    "input_words = input(\"Please enter your username\")\n",
    "print(input_words)\n",
    "\n",
    "alpha_existence = 0\n",
    "number_existence = 0\n",
    "special_character = 0\n",
    "\n",
    "for x in input_words:\n",
    "    if x.isalpha():\n",
    "        alpha_existence += 1\n",
    "        continue\n",
    "    elif x.isdigit():\n",
    "        number_existence += 1\n",
    "        continue\n",
    "    else:\n",
    "        special_character += 1\n",
    "\n",
    "if alpha_existence > 0 and number_existence > 0 and special_character > 0:\n",
    "    print('Your name is valid')\n",
    "else:\n",
    "    print('Invalid username')"
   ],
   "outputs": [
    {
     "name": "stdout",
     "output_type": "stream",
     "text": [
      "cac12;\n",
      "Your name is valid\n"
     ]
    }
   ],
   "execution_count": 5
  },
  {
   "cell_type": "markdown",
   "metadata": {},
   "source": [
    "5. Now, modify the above code so that if the user enters an invalid string, the program should ask the user to enter another string again, and keep asking until a valid string has been entered."
   ]
  },
  {
   "cell_type": "code",
   "metadata": {
    "ExecuteTime": {
     "end_time": "2024-09-06T07:05:59.719242Z",
     "start_time": "2024-09-06T07:05:41.368521Z"
    }
   },
   "source": [
    "while True:\n",
    "    input_words = input(\"Please enter your username\")\n",
    "    print(f'Your username is {input_words}')\n",
    "\n",
    "    alpha_existence = 0\n",
    "    number_existence = 0\n",
    "    special_character = 0\n",
    "\n",
    "    for x in input_words:\n",
    "        if x.isalpha():\n",
    "            alpha_existence += 1\n",
    "        elif x.isdigit():\n",
    "            number_existence += 1\n",
    "        else:\n",
    "            special_character += 1\n",
    "\n",
    "    if alpha_existence > 0 and number_existence > 0 and special_character > 0:\n",
    "        print('Your name is valid')\n",
    "        break\n",
    "    else:\n",
    "        print(\"Invalid name\")\n",
    "        continue    "
   ],
   "outputs": [
    {
     "name": "stdout",
     "output_type": "stream",
     "text": [
      "Your username is chaev\n",
      "Invalid name\n",
      "Your username is hello\n",
      "Invalid name\n",
      "Your username is 123\n",
      "Invalid name\n",
      "Your username is caec123\n",
      "Invalid name\n",
      "Your username is ca12'\n",
      "Your name is valid\n"
     ]
    }
   ],
   "execution_count": 1
  }
 ],
 "metadata": {
  "kernelspec": {
   "display_name": "Python 3",
   "language": "python",
   "name": "python3"
  },
  "language_info": {
   "codemirror_mode": {
    "name": "ipython",
    "version": 3
   },
   "file_extension": ".py",
   "mimetype": "text/x-python",
   "name": "python",
   "nbconvert_exporter": "python",
   "pygments_lexer": "ipython3",
   "version": "3.11.5"
  }
 },
 "nbformat": 4,
 "nbformat_minor": 2
}
