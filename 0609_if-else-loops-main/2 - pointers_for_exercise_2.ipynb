{
 "cells": [
  {
   "cell_type": "markdown",
   "metadata": {},
   "source": [
    "enumerate() method: "
   ]
  },
  {
   "cell_type": "code",
   "metadata": {
    "ExecuteTime": {
     "end_time": "2024-09-06T07:17:59.718444Z",
     "start_time": "2024-09-06T07:17:59.709599Z"
    }
   },
   "source": [
    "str1 = \"Howl's Moving Castle\"\n",
    "\n",
    "for idx, val in enumerate(str1):\n",
    "    print(idx, val)\n"
   ],
   "outputs": [
    {
     "name": "stdout",
     "output_type": "stream",
     "text": [
      "0 H\n",
      "1 o\n",
      "2 w\n",
      "3 l\n",
      "4 '\n",
      "5 s\n",
      "6  \n",
      "7 M\n",
      "8 o\n",
      "9 v\n",
      "10 i\n",
      "11 n\n",
      "12 g\n",
      "13  \n",
      "14 C\n",
      "15 a\n",
      "16 s\n",
      "17 t\n",
      "18 l\n",
      "19 e\n"
     ]
    }
   ],
   "execution_count": 1
  },
  {
   "cell_type": "markdown",
   "metadata": {},
   "source": [
    "join() method:"
   ]
  },
  {
   "cell_type": "code",
   "metadata": {
    "ExecuteTime": {
     "end_time": "2024-09-06T07:18:00.084863Z",
     "start_time": "2024-09-06T07:18:00.076381Z"
    }
   },
   "source": [
    "some_list = ['Baa', 'baa', 'black', 'sheep']\n",
    "\n",
    "string1 = ' '.join(some_list)\n",
    "\n",
    "string2 = ','.join(some_list)\n",
    "\n",
    "print(f'string1 >> {string1}')\n",
    "\n",
    "print(f'string2 >> {string2}')\n"
   ],
   "outputs": [
    {
     "name": "stdout",
     "output_type": "stream",
     "text": [
      "string1 >> Baa baa black sheep\n",
      "string2 >> Baa,baa,black,sheep\n"
     ]
    }
   ],
   "execution_count": 2
  },
  {
   "cell_type": "markdown",
   "metadata": {},
   "source": [
    "random() method:"
   ]
  },
  {
   "cell_type": "code",
   "metadata": {
    "ExecuteTime": {
     "end_time": "2024-09-06T07:18:00.274360Z",
     "start_time": "2024-09-06T07:18:00.260259Z"
    }
   },
   "source": [
    "import random as rd\n",
    "\n",
    "some_list = ['Baa', 'baa', 'black', 'sheep']\n",
    "\n",
    "for i in range(3):\n",
    "    idx = rd.randint(0, 3)\n",
    "    print(f'key:{idx} >> value:{some_list[idx]}')\n"
   ],
   "outputs": [
    {
     "name": "stdout",
     "output_type": "stream",
     "text": [
      "key:2 >> value:black\n",
      "key:0 >> value:Baa\n",
      "key:0 >> value:Baa\n"
     ]
    }
   ],
   "execution_count": 3
  },
  {
   "metadata": {
    "ExecuteTime": {
     "end_time": "2024-09-06T07:18:00.495752Z",
     "start_time": "2024-09-06T07:18:00.484478Z"
    }
   },
   "cell_type": "code",
   "source": "",
   "outputs": [],
   "execution_count": null
  }
 ],
 "metadata": {
  "kernelspec": {
   "display_name": "Python 3",
   "language": "python",
   "name": "python3"
  },
  "language_info": {
   "codemirror_mode": {
    "name": "ipython",
    "version": 3
   },
   "file_extension": ".py",
   "mimetype": "text/x-python",
   "name": "python",
   "nbconvert_exporter": "python",
   "pygments_lexer": "ipython3",
   "version": "3.11.5"
  }
 },
 "nbformat": 4,
 "nbformat_minor": 2
}
