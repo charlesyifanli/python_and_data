{
 "cells": [
  {
   "metadata": {},
   "cell_type": "markdown",
   "source": "## Get the webpage",
   "id": "efff6011d137da68"
  },
  {
   "cell_type": "code",
   "id": "initial_id",
   "metadata": {
    "collapsed": true,
    "ExecuteTime": {
     "end_time": "2024-09-10T10:40:59.440681Z",
     "start_time": "2024-09-10T10:40:59.145108Z"
    }
   },
   "source": "import requests",
   "outputs": [],
   "execution_count": 1
  },
  {
   "metadata": {
    "ExecuteTime": {
     "end_time": "2024-09-10T10:41:00.733966Z",
     "start_time": "2024-09-10T10:40:59.440681Z"
    }
   },
   "cell_type": "code",
   "source": [
    "res = requests.get('https://pandas.pydata.org/docs/user_guide/10min.html')\n",
    "res.status_code"
   ],
   "id": "8187147cbe16b2c8",
   "outputs": [
    {
     "data": {
      "text/plain": [
       "200"
      ]
     },
     "execution_count": 2,
     "metadata": {},
     "output_type": "execute_result"
    }
   ],
   "execution_count": 2
  },
  {
   "metadata": {
    "ExecuteTime": {
     "end_time": "2024-09-10T10:41:00.891624Z",
     "start_time": "2024-09-10T10:41:00.884856Z"
    }
   },
   "cell_type": "code",
   "source": [
    "content = res.text\n",
    "content[:1000]"
   ],
   "id": "3cd0049791179f00",
   "outputs": [
    {
     "data": {
      "text/plain": [
       "'\\n<!DOCTYPE html>\\n<html lang=\"en\" data-content_root=\"../\">\\n<head>\\n<meta charset=\"utf-8\" />\\n<meta name=\"viewport\" content=\"width=device-width, initial-scale=1.0\" /><meta name=\"viewport\" content=\"width=device-width, initial-scale=1\" />\\n<title>10 minutes to pandas &#8212; pandas 2.2.2 documentation</title>\\n<script data-cfasync=\"false\">\\n    document.documentElement.dataset.mode = localStorage.getItem(\"mode\") || \"\";\\n    document.documentElement.dataset.theme = localStorage.getItem(\"theme\") || \"light\";\\n  </script>\\n\\n<link href=\"../_static/styles/theme.css?digest=5b4479735964841361fd\" rel=\"stylesheet\" />\\n<link href=\"../_static/styles/bootstrap.css?digest=5b4479735964841361fd\" rel=\"stylesheet\" />\\n<link href=\"../_static/styles/pydata-sphinx-theme.css?digest=5b4479735964841361fd\" rel=\"stylesheet\" />\\n<link href=\"../_static/vendor/fontawesome/6.1.2/css/all.min.css?digest=5b4479735964841361fd\" rel=\"stylesheet\" />\\n<link rel=\"preload\" as=\"font\" type=\"font/woff2\" crossorigin href=\"../_static/vendor/font'"
      ]
     },
     "execution_count": 3,
     "metadata": {},
     "output_type": "execute_result"
    }
   ],
   "execution_count": 3
  },
  {
   "metadata": {},
   "cell_type": "markdown",
   "source": "## split the words",
   "id": "ac387368043fd762"
  },
  {
   "metadata": {
    "ExecuteTime": {
     "end_time": "2024-09-10T10:41:00.910500Z",
     "start_time": "2024-09-10T10:41:00.903427Z"
    }
   },
   "cell_type": "code",
   "source": "import re",
   "id": "49311e0e3426dca4",
   "outputs": [],
   "execution_count": 4
  },
  {
   "metadata": {
    "ExecuteTime": {
     "end_time": "2024-09-10T10:41:00.973886Z",
     "start_time": "2024-09-10T10:41:00.968676Z"
    }
   },
   "cell_type": "code",
   "source": "content = content.lower()",
   "id": "8e3bd764425f609a",
   "outputs": [],
   "execution_count": 5
  },
  {
   "metadata": {
    "ExecuteTime": {
     "end_time": "2024-09-10T10:41:00.997923Z",
     "start_time": "2024-09-10T10:41:00.985259Z"
    }
   },
   "cell_type": "code",
   "source": [
    "words = re.findall(r'\\w+', content)\n",
    "\n",
    "words = [x for x in words if len(x) >= 2 and not str(x).isdigit()]"
   ],
   "id": "5471fd9c60e972e0",
   "outputs": [],
   "execution_count": 6
  },
  {
   "metadata": {
    "ExecuteTime": {
     "end_time": "2024-09-10T10:41:01.043639Z",
     "start_time": "2024-09-10T10:41:01.032657Z"
    }
   },
   "cell_type": "code",
   "source": "print(words[:100])",
   "id": "a8dbb57bd1d4c1c2",
   "outputs": [
    {
     "name": "stdout",
     "output_type": "stream",
     "text": [
      "['doctype', 'html', 'html', 'lang', 'en', 'data', 'content_root', 'head', 'meta', 'charset', 'utf', 'meta', 'name', 'viewport', 'content', 'width', 'device', 'width', 'initial', 'scale', 'meta', 'name', 'viewport', 'content', 'width', 'device', 'width', 'initial', 'scale', 'title', 'minutes', 'to', 'pandas', 'pandas', 'documentation', 'title', 'script', 'data', 'cfasync', 'false', 'document', 'documentelement', 'dataset', 'mode', 'localstorage', 'getitem', 'mode', 'document', 'documentelement', 'dataset', 'theme', 'localstorage', 'getitem', 'theme', 'light', 'script', 'link', 'href', '_static', 'styles', 'theme', 'css', 'digest', '5b4479735964841361fd', 'rel', 'stylesheet', 'link', 'href', '_static', 'styles', 'bootstrap', 'css', 'digest', '5b4479735964841361fd', 'rel', 'stylesheet', 'link', 'href', '_static', 'styles', 'pydata', 'sphinx', 'theme', 'css', 'digest', '5b4479735964841361fd', 'rel', 'stylesheet', 'link', 'href', '_static', 'vendor', 'fontawesome', 'css', 'all', 'min', 'css', 'digest', '5b4479735964841361fd', 'rel']\n"
     ]
    }
   ],
   "execution_count": 7
  },
  {
   "metadata": {},
   "cell_type": "markdown",
   "source": "## construct dataframe",
   "id": "93858eda3c4da956"
  },
  {
   "metadata": {
    "ExecuteTime": {
     "end_time": "2024-09-10T10:41:01.549844Z",
     "start_time": "2024-09-10T10:41:01.080625Z"
    }
   },
   "cell_type": "code",
   "source": "import pandas as pd",
   "id": "573a4a0adb8b7a02",
   "outputs": [],
   "execution_count": 8
  },
  {
   "metadata": {
    "ExecuteTime": {
     "end_time": "2024-09-10T10:41:01.573084Z",
     "start_time": "2024-09-10T10:41:01.559386Z"
    }
   },
   "cell_type": "code",
   "source": [
    "df = pd.DataFrame(words, columns=['Words'])\n",
    "df.head()"
   ],
   "id": "14e52bea6e3f2423",
   "outputs": [
    {
     "data": {
      "text/plain": [
       "     Words\n",
       "0  doctype\n",
       "1     html\n",
       "2     html\n",
       "3     lang\n",
       "4       en"
      ],
      "text/html": [
       "<div>\n",
       "<style scoped>\n",
       "    .dataframe tbody tr th:only-of-type {\n",
       "        vertical-align: middle;\n",
       "    }\n",
       "\n",
       "    .dataframe tbody tr th {\n",
       "        vertical-align: top;\n",
       "    }\n",
       "\n",
       "    .dataframe thead th {\n",
       "        text-align: right;\n",
       "    }\n",
       "</style>\n",
       "<table border=\"1\" class=\"dataframe\">\n",
       "  <thead>\n",
       "    <tr style=\"text-align: right;\">\n",
       "      <th></th>\n",
       "      <th>Words</th>\n",
       "    </tr>\n",
       "  </thead>\n",
       "  <tbody>\n",
       "    <tr>\n",
       "      <th>0</th>\n",
       "      <td>doctype</td>\n",
       "    </tr>\n",
       "    <tr>\n",
       "      <th>1</th>\n",
       "      <td>html</td>\n",
       "    </tr>\n",
       "    <tr>\n",
       "      <th>2</th>\n",
       "      <td>html</td>\n",
       "    </tr>\n",
       "    <tr>\n",
       "      <th>3</th>\n",
       "      <td>lang</td>\n",
       "    </tr>\n",
       "    <tr>\n",
       "      <th>4</th>\n",
       "      <td>en</td>\n",
       "    </tr>\n",
       "  </tbody>\n",
       "</table>\n",
       "</div>"
      ]
     },
     "execution_count": 9,
     "metadata": {},
     "output_type": "execute_result"
    }
   ],
   "execution_count": 9
  },
  {
   "metadata": {
    "ExecuteTime": {
     "end_time": "2024-09-10T10:41:01.643327Z",
     "start_time": "2024-09-10T10:41:01.632280Z"
    }
   },
   "cell_type": "code",
   "source": [
    "df = df['Words'].value_counts().reset_index()\n",
    "df.head()"
   ],
   "id": "26fc015ca686f476",
   "outputs": [
    {
     "data": {
      "text/plain": [
       "   Words  count\n",
       "0   span   5248\n",
       "1  class   3245\n",
       "2     go    494\n",
       "3    div    434\n",
       "4   quot    386"
      ],
      "text/html": [
       "<div>\n",
       "<style scoped>\n",
       "    .dataframe tbody tr th:only-of-type {\n",
       "        vertical-align: middle;\n",
       "    }\n",
       "\n",
       "    .dataframe tbody tr th {\n",
       "        vertical-align: top;\n",
       "    }\n",
       "\n",
       "    .dataframe thead th {\n",
       "        text-align: right;\n",
       "    }\n",
       "</style>\n",
       "<table border=\"1\" class=\"dataframe\">\n",
       "  <thead>\n",
       "    <tr style=\"text-align: right;\">\n",
       "      <th></th>\n",
       "      <th>Words</th>\n",
       "      <th>count</th>\n",
       "    </tr>\n",
       "  </thead>\n",
       "  <tbody>\n",
       "    <tr>\n",
       "      <th>0</th>\n",
       "      <td>span</td>\n",
       "      <td>5248</td>\n",
       "    </tr>\n",
       "    <tr>\n",
       "      <th>1</th>\n",
       "      <td>class</td>\n",
       "      <td>3245</td>\n",
       "    </tr>\n",
       "    <tr>\n",
       "      <th>2</th>\n",
       "      <td>go</td>\n",
       "      <td>494</td>\n",
       "    </tr>\n",
       "    <tr>\n",
       "      <th>3</th>\n",
       "      <td>div</td>\n",
       "      <td>434</td>\n",
       "    </tr>\n",
       "    <tr>\n",
       "      <th>4</th>\n",
       "      <td>quot</td>\n",
       "      <td>386</td>\n",
       "    </tr>\n",
       "  </tbody>\n",
       "</table>\n",
       "</div>"
      ]
     },
     "execution_count": 10,
     "metadata": {},
     "output_type": "execute_result"
    }
   ],
   "execution_count": 10
  },
  {
   "metadata": {},
   "cell_type": "markdown",
   "source": "## read english dictionary ",
   "id": "c9537a15c485747c"
  },
  {
   "metadata": {
    "ExecuteTime": {
     "end_time": "2024-09-10T10:41:10.958932Z",
     "start_time": "2024-09-10T10:41:01.697543Z"
    }
   },
   "cell_type": "code",
   "source": "df_dict = pd.read_csv('./stardict.csv')",
   "id": "eb8ce5866db61428",
   "outputs": [
    {
     "name": "stderr",
     "output_type": "stream",
     "text": [
      "C:\\Users\\Charles\\AppData\\Local\\Temp\\ipykernel_13888\\315520184.py:1: DtypeWarning: Columns (11) have mixed types. Specify dtype option on import or set low_memory=False.\n",
      "  df_dict = pd.read_csv('./stardict.csv')\n"
     ]
    }
   ],
   "execution_count": 11
  },
  {
   "metadata": {
    "ExecuteTime": {
     "end_time": "2024-09-10T10:41:11.029837Z",
     "start_time": "2024-09-10T10:41:11.017778Z"
    }
   },
   "cell_type": "code",
   "source": "df_dict.shape",
   "id": "e5f2e8ea4a40b4c",
   "outputs": [
    {
     "data": {
      "text/plain": [
       "(3402564, 13)"
      ]
     },
     "execution_count": 12,
     "metadata": {},
     "output_type": "execute_result"
    }
   ],
   "execution_count": 12
  },
  {
   "metadata": {
    "ExecuteTime": {
     "end_time": "2024-09-10T10:41:11.344277Z",
     "start_time": "2024-09-10T10:41:11.314812Z"
    }
   },
   "cell_type": "code",
   "source": "df_dict.head()",
   "id": "ece7b0a936bae779",
   "outputs": [
    {
     "data": {
      "text/plain": [
       "            word phonetic definition  \\\n",
       "0             'a       eɪ        NaN   \n",
       "1       'A' game      NaN        NaN   \n",
       "2     'Abbāsīyah      NaN        NaN   \n",
       "3   'Abd al Kūrī      NaN        NaN   \n",
       "4  'Abd al Mājid      NaN        NaN   \n",
       "\n",
       "                                         translation  pos  collins  oxford  \\\n",
       "0  na. 一\\nn. 英文字母表的第一字母；【乐】A音\\nart. 冠以不定冠词主要表示类别\\...  NaN      NaN     NaN   \n",
       "1                                    [网络] 游戏；一个游戏；一局  NaN      NaN     NaN   \n",
       "2                                    [地名] 阿巴西耶 ( 埃 )  NaN      NaN     NaN   \n",
       "3                                [地名] 阿卜杜勒库里岛 ( 也门 )  NaN      NaN     NaN   \n",
       "4                                [地名] 阿卜杜勒马吉德 ( 苏丹 )  NaN      NaN     NaN   \n",
       "\n",
       "   tag  bnc  frq exchange detail  audio  \n",
       "0  NaN  NaN  NaN      NaN    NaN    NaN  \n",
       "1  NaN  NaN  NaN      NaN    NaN    NaN  \n",
       "2  NaN  NaN  NaN      NaN    NaN    NaN  \n",
       "3  NaN  NaN  NaN      NaN    NaN    NaN  \n",
       "4  NaN  NaN  NaN      NaN    NaN    NaN  "
      ],
      "text/html": [
       "<div>\n",
       "<style scoped>\n",
       "    .dataframe tbody tr th:only-of-type {\n",
       "        vertical-align: middle;\n",
       "    }\n",
       "\n",
       "    .dataframe tbody tr th {\n",
       "        vertical-align: top;\n",
       "    }\n",
       "\n",
       "    .dataframe thead th {\n",
       "        text-align: right;\n",
       "    }\n",
       "</style>\n",
       "<table border=\"1\" class=\"dataframe\">\n",
       "  <thead>\n",
       "    <tr style=\"text-align: right;\">\n",
       "      <th></th>\n",
       "      <th>word</th>\n",
       "      <th>phonetic</th>\n",
       "      <th>definition</th>\n",
       "      <th>translation</th>\n",
       "      <th>pos</th>\n",
       "      <th>collins</th>\n",
       "      <th>oxford</th>\n",
       "      <th>tag</th>\n",
       "      <th>bnc</th>\n",
       "      <th>frq</th>\n",
       "      <th>exchange</th>\n",
       "      <th>detail</th>\n",
       "      <th>audio</th>\n",
       "    </tr>\n",
       "  </thead>\n",
       "  <tbody>\n",
       "    <tr>\n",
       "      <th>0</th>\n",
       "      <td>'a</td>\n",
       "      <td>eɪ</td>\n",
       "      <td>NaN</td>\n",
       "      <td>na. 一\\nn. 英文字母表的第一字母；【乐】A音\\nart. 冠以不定冠词主要表示类别\\...</td>\n",
       "      <td>NaN</td>\n",
       "      <td>NaN</td>\n",
       "      <td>NaN</td>\n",
       "      <td>NaN</td>\n",
       "      <td>NaN</td>\n",
       "      <td>NaN</td>\n",
       "      <td>NaN</td>\n",
       "      <td>NaN</td>\n",
       "      <td>NaN</td>\n",
       "    </tr>\n",
       "    <tr>\n",
       "      <th>1</th>\n",
       "      <td>'A' game</td>\n",
       "      <td>NaN</td>\n",
       "      <td>NaN</td>\n",
       "      <td>[网络] 游戏；一个游戏；一局</td>\n",
       "      <td>NaN</td>\n",
       "      <td>NaN</td>\n",
       "      <td>NaN</td>\n",
       "      <td>NaN</td>\n",
       "      <td>NaN</td>\n",
       "      <td>NaN</td>\n",
       "      <td>NaN</td>\n",
       "      <td>NaN</td>\n",
       "      <td>NaN</td>\n",
       "    </tr>\n",
       "    <tr>\n",
       "      <th>2</th>\n",
       "      <td>'Abbāsīyah</td>\n",
       "      <td>NaN</td>\n",
       "      <td>NaN</td>\n",
       "      <td>[地名] 阿巴西耶 ( 埃 )</td>\n",
       "      <td>NaN</td>\n",
       "      <td>NaN</td>\n",
       "      <td>NaN</td>\n",
       "      <td>NaN</td>\n",
       "      <td>NaN</td>\n",
       "      <td>NaN</td>\n",
       "      <td>NaN</td>\n",
       "      <td>NaN</td>\n",
       "      <td>NaN</td>\n",
       "    </tr>\n",
       "    <tr>\n",
       "      <th>3</th>\n",
       "      <td>'Abd al Kūrī</td>\n",
       "      <td>NaN</td>\n",
       "      <td>NaN</td>\n",
       "      <td>[地名] 阿卜杜勒库里岛 ( 也门 )</td>\n",
       "      <td>NaN</td>\n",
       "      <td>NaN</td>\n",
       "      <td>NaN</td>\n",
       "      <td>NaN</td>\n",
       "      <td>NaN</td>\n",
       "      <td>NaN</td>\n",
       "      <td>NaN</td>\n",
       "      <td>NaN</td>\n",
       "      <td>NaN</td>\n",
       "    </tr>\n",
       "    <tr>\n",
       "      <th>4</th>\n",
       "      <td>'Abd al Mājid</td>\n",
       "      <td>NaN</td>\n",
       "      <td>NaN</td>\n",
       "      <td>[地名] 阿卜杜勒马吉德 ( 苏丹 )</td>\n",
       "      <td>NaN</td>\n",
       "      <td>NaN</td>\n",
       "      <td>NaN</td>\n",
       "      <td>NaN</td>\n",
       "      <td>NaN</td>\n",
       "      <td>NaN</td>\n",
       "      <td>NaN</td>\n",
       "      <td>NaN</td>\n",
       "      <td>NaN</td>\n",
       "    </tr>\n",
       "  </tbody>\n",
       "</table>\n",
       "</div>"
      ]
     },
     "execution_count": 13,
     "metadata": {},
     "output_type": "execute_result"
    }
   ],
   "execution_count": 13
  },
  {
   "metadata": {
    "ExecuteTime": {
     "end_time": "2024-09-10T10:41:11.704961Z",
     "start_time": "2024-09-10T10:41:11.550435Z"
    }
   },
   "cell_type": "code",
   "source": [
    "df_dict = df_dict[['word', 'translation']]\n",
    "df_dict.head()"
   ],
   "id": "df2f7a139a0e00de",
   "outputs": [
    {
     "data": {
      "text/plain": [
       "            word                                        translation\n",
       "0             'a  na. 一\\nn. 英文字母表的第一字母；【乐】A音\\nart. 冠以不定冠词主要表示类别\\...\n",
       "1       'A' game                                    [网络] 游戏；一个游戏；一局\n",
       "2     'Abbāsīyah                                    [地名] 阿巴西耶 ( 埃 )\n",
       "3   'Abd al Kūrī                                [地名] 阿卜杜勒库里岛 ( 也门 )\n",
       "4  'Abd al Mājid                                [地名] 阿卜杜勒马吉德 ( 苏丹 )"
      ],
      "text/html": [
       "<div>\n",
       "<style scoped>\n",
       "    .dataframe tbody tr th:only-of-type {\n",
       "        vertical-align: middle;\n",
       "    }\n",
       "\n",
       "    .dataframe tbody tr th {\n",
       "        vertical-align: top;\n",
       "    }\n",
       "\n",
       "    .dataframe thead th {\n",
       "        text-align: right;\n",
       "    }\n",
       "</style>\n",
       "<table border=\"1\" class=\"dataframe\">\n",
       "  <thead>\n",
       "    <tr style=\"text-align: right;\">\n",
       "      <th></th>\n",
       "      <th>word</th>\n",
       "      <th>translation</th>\n",
       "    </tr>\n",
       "  </thead>\n",
       "  <tbody>\n",
       "    <tr>\n",
       "      <th>0</th>\n",
       "      <td>'a</td>\n",
       "      <td>na. 一\\nn. 英文字母表的第一字母；【乐】A音\\nart. 冠以不定冠词主要表示类别\\...</td>\n",
       "    </tr>\n",
       "    <tr>\n",
       "      <th>1</th>\n",
       "      <td>'A' game</td>\n",
       "      <td>[网络] 游戏；一个游戏；一局</td>\n",
       "    </tr>\n",
       "    <tr>\n",
       "      <th>2</th>\n",
       "      <td>'Abbāsīyah</td>\n",
       "      <td>[地名] 阿巴西耶 ( 埃 )</td>\n",
       "    </tr>\n",
       "    <tr>\n",
       "      <th>3</th>\n",
       "      <td>'Abd al Kūrī</td>\n",
       "      <td>[地名] 阿卜杜勒库里岛 ( 也门 )</td>\n",
       "    </tr>\n",
       "    <tr>\n",
       "      <th>4</th>\n",
       "      <td>'Abd al Mājid</td>\n",
       "      <td>[地名] 阿卜杜勒马吉德 ( 苏丹 )</td>\n",
       "    </tr>\n",
       "  </tbody>\n",
       "</table>\n",
       "</div>"
      ]
     },
     "execution_count": 14,
     "metadata": {},
     "output_type": "execute_result"
    }
   ],
   "execution_count": 14
  },
  {
   "metadata": {},
   "cell_type": "markdown",
   "source": "## connect the data ",
   "id": "3462a340b2ee1acc"
  },
  {
   "metadata": {
    "ExecuteTime": {
     "end_time": "2024-09-10T10:43:20.300360Z",
     "start_time": "2024-09-10T10:43:18.471999Z"
    }
   },
   "cell_type": "code",
   "source": "df_merge = pd.merge(left=df, right=df_dict, left_on='Words', right_on='word', how='inner')",
   "id": "f160af2246dd804e",
   "outputs": [],
   "execution_count": 15
  },
  {
   "metadata": {
    "ExecuteTime": {
     "end_time": "2024-09-10T10:43:28.441882Z",
     "start_time": "2024-09-10T10:43:28.426458Z"
    }
   },
   "cell_type": "code",
   "source": "df_merge.head()",
   "id": "5b0ea9f9f7e13940",
   "outputs": [
    {
     "data": {
      "text/plain": [
       "   Words  count   word                                        translation\n",
       "0   span   5248   span    n. 指距, 全长, 跨距, 一段时间, 小范围\\nvt. 以手指测量, 跨越, 架设, 持续\n",
       "1  class   3245  class        n. 班级, 阶级, 种类, 课\\nvt. 分类\\n[计] 类别; 类; 种类; 类程\n",
       "2     go    494     go  vi. 去, 走, 达到, 运转, 查阅, 消失, 结束, 放弃, 花费, 流传, 趋于, ...\n",
       "3    div    434    div                      abbr. 分开（divide）；区分（division）\n",
       "4   quot    386   quot                                   n. 引用语；开价, 报价；行市"
      ],
      "text/html": [
       "<div>\n",
       "<style scoped>\n",
       "    .dataframe tbody tr th:only-of-type {\n",
       "        vertical-align: middle;\n",
       "    }\n",
       "\n",
       "    .dataframe tbody tr th {\n",
       "        vertical-align: top;\n",
       "    }\n",
       "\n",
       "    .dataframe thead th {\n",
       "        text-align: right;\n",
       "    }\n",
       "</style>\n",
       "<table border=\"1\" class=\"dataframe\">\n",
       "  <thead>\n",
       "    <tr style=\"text-align: right;\">\n",
       "      <th></th>\n",
       "      <th>Words</th>\n",
       "      <th>count</th>\n",
       "      <th>word</th>\n",
       "      <th>translation</th>\n",
       "    </tr>\n",
       "  </thead>\n",
       "  <tbody>\n",
       "    <tr>\n",
       "      <th>0</th>\n",
       "      <td>span</td>\n",
       "      <td>5248</td>\n",
       "      <td>span</td>\n",
       "      <td>n. 指距, 全长, 跨距, 一段时间, 小范围\\nvt. 以手指测量, 跨越, 架设, 持续</td>\n",
       "    </tr>\n",
       "    <tr>\n",
       "      <th>1</th>\n",
       "      <td>class</td>\n",
       "      <td>3245</td>\n",
       "      <td>class</td>\n",
       "      <td>n. 班级, 阶级, 种类, 课\\nvt. 分类\\n[计] 类别; 类; 种类; 类程</td>\n",
       "    </tr>\n",
       "    <tr>\n",
       "      <th>2</th>\n",
       "      <td>go</td>\n",
       "      <td>494</td>\n",
       "      <td>go</td>\n",
       "      <td>vi. 去, 走, 达到, 运转, 查阅, 消失, 结束, 放弃, 花费, 流传, 趋于, ...</td>\n",
       "    </tr>\n",
       "    <tr>\n",
       "      <th>3</th>\n",
       "      <td>div</td>\n",
       "      <td>434</td>\n",
       "      <td>div</td>\n",
       "      <td>abbr. 分开（divide）；区分（division）</td>\n",
       "    </tr>\n",
       "    <tr>\n",
       "      <th>4</th>\n",
       "      <td>quot</td>\n",
       "      <td>386</td>\n",
       "      <td>quot</td>\n",
       "      <td>n. 引用语；开价, 报价；行市</td>\n",
       "    </tr>\n",
       "  </tbody>\n",
       "</table>\n",
       "</div>"
      ]
     },
     "execution_count": 16,
     "metadata": {},
     "output_type": "execute_result"
    }
   ],
   "execution_count": 16
  },
  {
   "metadata": {},
   "cell_type": "markdown",
   "source": "## export dictionary",
   "id": "f901f758a92da837"
  },
  {
   "metadata": {
    "ExecuteTime": {
     "end_time": "2024-09-10T11:14:50.160940Z",
     "start_time": "2024-09-10T11:14:43.531451Z"
    }
   },
   "cell_type": "code",
   "source": "data = pd.read_csv('./stardict.csv')",
   "id": "f2423c28f61e80d4",
   "outputs": [
    {
     "name": "stderr",
     "output_type": "stream",
     "text": [
      "C:\\Users\\Charles\\AppData\\Local\\Temp\\ipykernel_13888\\3135992511.py:1: DtypeWarning: Columns (11) have mixed types. Specify dtype option on import or set low_memory=False.\n",
      "  data = pd.read_csv('./stardict.csv')\n"
     ]
    }
   ],
   "execution_count": 17
  },
  {
   "metadata": {
    "ExecuteTime": {
     "end_time": "2024-09-10T11:15:03.528813Z",
     "start_time": "2024-09-10T11:15:03.513558Z"
    }
   },
   "cell_type": "code",
   "source": "print(data)",
   "id": "855f59d754087c20",
   "outputs": [
    {
     "name": "stdout",
     "output_type": "stream",
     "text": [
      "                  word phonetic definition  \\\n",
      "0                   'a       eɪ        NaN   \n",
      "1             'A' game      NaN        NaN   \n",
      "2           'Abbāsīyah      NaN        NaN   \n",
      "3         'Abd al Kūrī      NaN        NaN   \n",
      "4        'Abd al Mājid      NaN        NaN   \n",
      "...                ...      ...        ...   \n",
      "3402559          Zūzan      NaN        NaN   \n",
      "3402560         Zǎbala      NaN        NaN   \n",
      "3402561        Zǎbrani      NaN        NaN   \n",
      "3402562       Zǎbrǎtǎu      NaN        NaN   \n",
      "3402563        Zǔrnevo      NaN        NaN   \n",
      "\n",
      "                                               translation  pos  collins  \\\n",
      "0        na. 一\\nn. 英文字母表的第一字母；【乐】A音\\nart. 冠以不定冠词主要表示类别\\...  NaN      NaN   \n",
      "1                                          [网络] 游戏；一个游戏；一局  NaN      NaN   \n",
      "2                                          [地名] 阿巴西耶 ( 埃 )  NaN      NaN   \n",
      "3                                      [地名] 阿卜杜勒库里岛 ( 也门 )  NaN      NaN   \n",
      "4                                      [地名] 阿卜杜勒马吉德 ( 苏丹 )  NaN      NaN   \n",
      "...                                                    ...  ...      ...   \n",
      "3402559                                     [地名] 祖赞 ( 伊朗 )  NaN      NaN   \n",
      "3402560                                     [地名] 泽巴拉 ( 罗 )  NaN      NaN   \n",
      "3402561                                    [地名] 泽布拉尼 ( 罗 )  NaN      NaN   \n",
      "3402562                                   [地名] 泽布勒特乌 ( 罗 )  NaN      NaN   \n",
      "3402563                                    [地名] 泽尔内沃 ( 保 )  NaN      NaN   \n",
      "\n",
      "         oxford  tag  bnc  frq exchange detail  audio  \n",
      "0           NaN  NaN  NaN  NaN      NaN    NaN    NaN  \n",
      "1           NaN  NaN  NaN  NaN      NaN    NaN    NaN  \n",
      "2           NaN  NaN  NaN  NaN      NaN    NaN    NaN  \n",
      "3           NaN  NaN  NaN  NaN      NaN    NaN    NaN  \n",
      "4           NaN  NaN  NaN  NaN      NaN    NaN    NaN  \n",
      "...         ...  ...  ...  ...      ...    ...    ...  \n",
      "3402559     NaN  NaN  NaN  NaN      NaN    NaN    NaN  \n",
      "3402560     NaN  NaN  NaN  NaN      NaN    NaN    NaN  \n",
      "3402561     NaN  NaN  NaN  NaN      NaN    NaN    NaN  \n",
      "3402562     NaN  NaN  NaN  NaN      NaN    NaN    NaN  \n",
      "3402563     NaN  NaN  NaN  NaN      NaN    NaN    NaN  \n",
      "\n",
      "[3402564 rows x 13 columns]\n"
     ]
    }
   ],
   "execution_count": 18
  },
  {
   "metadata": {
    "ExecuteTime": {
     "end_time": "2024-09-10T11:15:24.352071Z",
     "start_time": "2024-09-10T11:15:24.338056Z"
    }
   },
   "cell_type": "code",
   "source": "data.head(100)",
   "id": "7092b9534e20dc9d",
   "outputs": [
    {
     "data": {
      "text/plain": [
       "             word phonetic definition  \\\n",
       "0              'a       eɪ        NaN   \n",
       "1        'A' game      NaN        NaN   \n",
       "2      'Abbāsīyah      NaN        NaN   \n",
       "3    'Abd al Kūrī      NaN        NaN   \n",
       "4   'Abd al Mājid      NaN        NaN   \n",
       "..            ...      ...        ...   \n",
       "95       'Amrīyah      NaN        NaN   \n",
       "96           'ams      NaN        NaN   \n",
       "97      'Amādīyah      NaN        NaN   \n",
       "98      'Amīnābād      NaN        NaN   \n",
       "99          'Amūd      NaN        NaN   \n",
       "\n",
       "                                          translation  pos  collins  oxford  \\\n",
       "0   na. 一\\nn. 英文字母表的第一字母；【乐】A音\\nart. 冠以不定冠词主要表示类别\\...  NaN      NaN     NaN   \n",
       "1                                     [网络] 游戏；一个游戏；一局  NaN      NaN     NaN   \n",
       "2                                     [地名] 阿巴西耶 ( 埃 )  NaN      NaN     NaN   \n",
       "3                                 [地名] 阿卜杜勒库里岛 ( 也门 )  NaN      NaN     NaN   \n",
       "4                                 [地名] 阿卜杜勒马吉德 ( 苏丹 )  NaN      NaN     NaN   \n",
       "..                                                ...  ...      ...     ...   \n",
       "95                                   [地名] 阿姆里耶 ( 苏丹 )  NaN      NaN     NaN   \n",
       "96  n. 美国数学学会\\n[网络] 阿姆斯特丹(Amsterdam)；阿尔法磁谱仪(Alpha ...  NaN      NaN     NaN   \n",
       "97                                   [地名] 阿马迪耶 ( 伊拉 )  NaN      NaN     NaN   \n",
       "98                                  [地名] 阿明阿巴德 ( 伊朗 )  NaN      NaN     NaN   \n",
       "99                                    [地名] 阿穆德 ( 苏丹 )  NaN      NaN     NaN   \n",
       "\n",
       "    tag  bnc  frq exchange detail  audio  \n",
       "0   NaN  NaN  NaN      NaN    NaN    NaN  \n",
       "1   NaN  NaN  NaN      NaN    NaN    NaN  \n",
       "2   NaN  NaN  NaN      NaN    NaN    NaN  \n",
       "3   NaN  NaN  NaN      NaN    NaN    NaN  \n",
       "4   NaN  NaN  NaN      NaN    NaN    NaN  \n",
       "..  ...  ...  ...      ...    ...    ...  \n",
       "95  NaN  NaN  NaN      NaN    NaN    NaN  \n",
       "96  NaN  NaN  NaN      NaN    NaN    NaN  \n",
       "97  NaN  NaN  NaN      NaN    NaN    NaN  \n",
       "98  NaN  NaN  NaN      NaN    NaN    NaN  \n",
       "99  NaN  NaN  NaN      NaN    NaN    NaN  \n",
       "\n",
       "[100 rows x 13 columns]"
      ],
      "text/html": [
       "<div>\n",
       "<style scoped>\n",
       "    .dataframe tbody tr th:only-of-type {\n",
       "        vertical-align: middle;\n",
       "    }\n",
       "\n",
       "    .dataframe tbody tr th {\n",
       "        vertical-align: top;\n",
       "    }\n",
       "\n",
       "    .dataframe thead th {\n",
       "        text-align: right;\n",
       "    }\n",
       "</style>\n",
       "<table border=\"1\" class=\"dataframe\">\n",
       "  <thead>\n",
       "    <tr style=\"text-align: right;\">\n",
       "      <th></th>\n",
       "      <th>word</th>\n",
       "      <th>phonetic</th>\n",
       "      <th>definition</th>\n",
       "      <th>translation</th>\n",
       "      <th>pos</th>\n",
       "      <th>collins</th>\n",
       "      <th>oxford</th>\n",
       "      <th>tag</th>\n",
       "      <th>bnc</th>\n",
       "      <th>frq</th>\n",
       "      <th>exchange</th>\n",
       "      <th>detail</th>\n",
       "      <th>audio</th>\n",
       "    </tr>\n",
       "  </thead>\n",
       "  <tbody>\n",
       "    <tr>\n",
       "      <th>0</th>\n",
       "      <td>'a</td>\n",
       "      <td>eɪ</td>\n",
       "      <td>NaN</td>\n",
       "      <td>na. 一\\nn. 英文字母表的第一字母；【乐】A音\\nart. 冠以不定冠词主要表示类别\\...</td>\n",
       "      <td>NaN</td>\n",
       "      <td>NaN</td>\n",
       "      <td>NaN</td>\n",
       "      <td>NaN</td>\n",
       "      <td>NaN</td>\n",
       "      <td>NaN</td>\n",
       "      <td>NaN</td>\n",
       "      <td>NaN</td>\n",
       "      <td>NaN</td>\n",
       "    </tr>\n",
       "    <tr>\n",
       "      <th>1</th>\n",
       "      <td>'A' game</td>\n",
       "      <td>NaN</td>\n",
       "      <td>NaN</td>\n",
       "      <td>[网络] 游戏；一个游戏；一局</td>\n",
       "      <td>NaN</td>\n",
       "      <td>NaN</td>\n",
       "      <td>NaN</td>\n",
       "      <td>NaN</td>\n",
       "      <td>NaN</td>\n",
       "      <td>NaN</td>\n",
       "      <td>NaN</td>\n",
       "      <td>NaN</td>\n",
       "      <td>NaN</td>\n",
       "    </tr>\n",
       "    <tr>\n",
       "      <th>2</th>\n",
       "      <td>'Abbāsīyah</td>\n",
       "      <td>NaN</td>\n",
       "      <td>NaN</td>\n",
       "      <td>[地名] 阿巴西耶 ( 埃 )</td>\n",
       "      <td>NaN</td>\n",
       "      <td>NaN</td>\n",
       "      <td>NaN</td>\n",
       "      <td>NaN</td>\n",
       "      <td>NaN</td>\n",
       "      <td>NaN</td>\n",
       "      <td>NaN</td>\n",
       "      <td>NaN</td>\n",
       "      <td>NaN</td>\n",
       "    </tr>\n",
       "    <tr>\n",
       "      <th>3</th>\n",
       "      <td>'Abd al Kūrī</td>\n",
       "      <td>NaN</td>\n",
       "      <td>NaN</td>\n",
       "      <td>[地名] 阿卜杜勒库里岛 ( 也门 )</td>\n",
       "      <td>NaN</td>\n",
       "      <td>NaN</td>\n",
       "      <td>NaN</td>\n",
       "      <td>NaN</td>\n",
       "      <td>NaN</td>\n",
       "      <td>NaN</td>\n",
       "      <td>NaN</td>\n",
       "      <td>NaN</td>\n",
       "      <td>NaN</td>\n",
       "    </tr>\n",
       "    <tr>\n",
       "      <th>4</th>\n",
       "      <td>'Abd al Mājid</td>\n",
       "      <td>NaN</td>\n",
       "      <td>NaN</td>\n",
       "      <td>[地名] 阿卜杜勒马吉德 ( 苏丹 )</td>\n",
       "      <td>NaN</td>\n",
       "      <td>NaN</td>\n",
       "      <td>NaN</td>\n",
       "      <td>NaN</td>\n",
       "      <td>NaN</td>\n",
       "      <td>NaN</td>\n",
       "      <td>NaN</td>\n",
       "      <td>NaN</td>\n",
       "      <td>NaN</td>\n",
       "    </tr>\n",
       "    <tr>\n",
       "      <th>...</th>\n",
       "      <td>...</td>\n",
       "      <td>...</td>\n",
       "      <td>...</td>\n",
       "      <td>...</td>\n",
       "      <td>...</td>\n",
       "      <td>...</td>\n",
       "      <td>...</td>\n",
       "      <td>...</td>\n",
       "      <td>...</td>\n",
       "      <td>...</td>\n",
       "      <td>...</td>\n",
       "      <td>...</td>\n",
       "      <td>...</td>\n",
       "    </tr>\n",
       "    <tr>\n",
       "      <th>95</th>\n",
       "      <td>'Amrīyah</td>\n",
       "      <td>NaN</td>\n",
       "      <td>NaN</td>\n",
       "      <td>[地名] 阿姆里耶 ( 苏丹 )</td>\n",
       "      <td>NaN</td>\n",
       "      <td>NaN</td>\n",
       "      <td>NaN</td>\n",
       "      <td>NaN</td>\n",
       "      <td>NaN</td>\n",
       "      <td>NaN</td>\n",
       "      <td>NaN</td>\n",
       "      <td>NaN</td>\n",
       "      <td>NaN</td>\n",
       "    </tr>\n",
       "    <tr>\n",
       "      <th>96</th>\n",
       "      <td>'ams</td>\n",
       "      <td>NaN</td>\n",
       "      <td>NaN</td>\n",
       "      <td>n. 美国数学学会\\n[网络] 阿姆斯特丹(Amsterdam)；阿尔法磁谱仪(Alpha ...</td>\n",
       "      <td>NaN</td>\n",
       "      <td>NaN</td>\n",
       "      <td>NaN</td>\n",
       "      <td>NaN</td>\n",
       "      <td>NaN</td>\n",
       "      <td>NaN</td>\n",
       "      <td>NaN</td>\n",
       "      <td>NaN</td>\n",
       "      <td>NaN</td>\n",
       "    </tr>\n",
       "    <tr>\n",
       "      <th>97</th>\n",
       "      <td>'Amādīyah</td>\n",
       "      <td>NaN</td>\n",
       "      <td>NaN</td>\n",
       "      <td>[地名] 阿马迪耶 ( 伊拉 )</td>\n",
       "      <td>NaN</td>\n",
       "      <td>NaN</td>\n",
       "      <td>NaN</td>\n",
       "      <td>NaN</td>\n",
       "      <td>NaN</td>\n",
       "      <td>NaN</td>\n",
       "      <td>NaN</td>\n",
       "      <td>NaN</td>\n",
       "      <td>NaN</td>\n",
       "    </tr>\n",
       "    <tr>\n",
       "      <th>98</th>\n",
       "      <td>'Amīnābād</td>\n",
       "      <td>NaN</td>\n",
       "      <td>NaN</td>\n",
       "      <td>[地名] 阿明阿巴德 ( 伊朗 )</td>\n",
       "      <td>NaN</td>\n",
       "      <td>NaN</td>\n",
       "      <td>NaN</td>\n",
       "      <td>NaN</td>\n",
       "      <td>NaN</td>\n",
       "      <td>NaN</td>\n",
       "      <td>NaN</td>\n",
       "      <td>NaN</td>\n",
       "      <td>NaN</td>\n",
       "    </tr>\n",
       "    <tr>\n",
       "      <th>99</th>\n",
       "      <td>'Amūd</td>\n",
       "      <td>NaN</td>\n",
       "      <td>NaN</td>\n",
       "      <td>[地名] 阿穆德 ( 苏丹 )</td>\n",
       "      <td>NaN</td>\n",
       "      <td>NaN</td>\n",
       "      <td>NaN</td>\n",
       "      <td>NaN</td>\n",
       "      <td>NaN</td>\n",
       "      <td>NaN</td>\n",
       "      <td>NaN</td>\n",
       "      <td>NaN</td>\n",
       "      <td>NaN</td>\n",
       "    </tr>\n",
       "  </tbody>\n",
       "</table>\n",
       "<p>100 rows × 13 columns</p>\n",
       "</div>"
      ]
     },
     "execution_count": 19,
     "metadata": {},
     "output_type": "execute_result"
    }
   ],
   "execution_count": 19
  },
  {
   "metadata": {},
   "cell_type": "code",
   "outputs": [],
   "execution_count": null,
   "source": "",
   "id": "d8c36dbc38b24dab"
  }
 ],
 "metadata": {
  "kernelspec": {
   "display_name": "Python 3",
   "language": "python",
   "name": "python3"
  },
  "language_info": {
   "codemirror_mode": {
    "name": "ipython",
    "version": 2
   },
   "file_extension": ".py",
   "mimetype": "text/x-python",
   "name": "python",
   "nbconvert_exporter": "python",
   "pygments_lexer": "ipython2",
   "version": "2.7.6"
  }
 },
 "nbformat": 4,
 "nbformat_minor": 5
}
