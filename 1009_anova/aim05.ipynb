{
 "cells": [
  {
   "metadata": {},
   "cell_type": "markdown",
   "source": [
    "AIM 5: ANOVA on the supplied dataset\n",
    "\n",
    "1. Load the diabetic_data.csv dataset. \n",
    "2. Find out the unique values under the 'race' columns\n",
    "    2.1. These are your distinct groups\n",
    "3. Visualize the continuous variable using first histogram and the Q-Q plot\n",
    "    3.1. Does it look normally distributed?\n",
    "4. Since the sample size is large, use Anderson-Darling test to objectively test if the data is normally distributed \n",
    "5. Next, using boxplot, visualize the 'num_med_proc' distribution across the different categories under the 'race' column\n",
    "    5.1. Based on the visuals, we would like to test if there's difference in the number of medications and procedures for different categories of races. \n",
    "    5.2. What will be the Null Hypothesis and Alternative Hypothesis?\n",
    "    H0 (Null Hypothesis): ??\n",
    "    Ha (Alternative Hypothesis): ??\n",
    "6. Use first ANOVA to test the hypothesis\n",
    "    6.1. What is the result?\n",
    "7. Now use Kruskal-Wallis Test, since the data is not normally distributed\n",
    "    7.1. What is the result?\n",
    "8. What can you conclude from the results of the above two tests, even though the data is non-normal?"
   ],
   "id": "7c558b52d5b9ef7"
  },
  {
   "metadata": {},
   "cell_type": "code",
   "outputs": [],
   "execution_count": null,
   "source": [
    "from scipy.stats import kruskal\n",
    "import scipy.stats as stats"
   ],
   "id": "b7773e68f68efd9d"
  }
 ],
 "metadata": {
  "kernelspec": {
   "display_name": "Python 3",
   "language": "python",
   "name": "python3"
  },
  "language_info": {
   "codemirror_mode": {
    "name": "ipython",
    "version": 2
   },
   "file_extension": ".py",
   "mimetype": "text/x-python",
   "name": "python",
   "nbconvert_exporter": "python",
   "pygments_lexer": "ipython2",
   "version": "2.7.6"
  }
 },
 "nbformat": 4,
 "nbformat_minor": 5
}
