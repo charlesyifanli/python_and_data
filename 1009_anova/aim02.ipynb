{
 "cells": [
  {
   "metadata": {},
   "cell_type": "markdown",
   "source": [
    "AIM 2: Handle data with bimodal distribution. \n",
    "\n",
    "1. Create two separate normally distributed data of 100 items. One with mean 2 and the other with -2. Both will have an STD of 1.2\n",
    "    1.1. You can try different values as well, as long as the result is a bimodal distribution\n",
    "2. Combine the two datasets using concatenate() from NumPy library\n",
    "3. Plot the histogram of this bimodal distribution. \n",
    "    3.1. You can use whatever library you want\n",
    "4. Calculate kurtosis and skewness. \n",
    "    4.1. You can use whatever library you want. But I suggest you try SciPy's skew() and kurtosis(). "
   ],
   "id": "3d0afe815bbf88d1"
  },
  {
   "metadata": {},
   "cell_type": "code",
   "outputs": [],
   "execution_count": null,
   "source": [
    "import numpy as np\n",
    "import pandas as pd\n",
    "from scipy.stats import kurtosis, skew\n",
    "import statsmodels.api as sm\n",
    "import matplotlib.pyplot as plt"
   ],
   "id": "64eeaf495849f668"
  }
 ],
 "metadata": {
  "kernelspec": {
   "display_name": "Python 3",
   "language": "python",
   "name": "python3"
  },
  "language_info": {
   "codemirror_mode": {
    "name": "ipython",
    "version": 2
   },
   "file_extension": ".py",
   "mimetype": "text/x-python",
   "name": "python",
   "nbconvert_exporter": "python",
   "pygments_lexer": "ipython2",
   "version": "2.7.6"
  }
 },
 "nbformat": 4,
 "nbformat_minor": 5
}
