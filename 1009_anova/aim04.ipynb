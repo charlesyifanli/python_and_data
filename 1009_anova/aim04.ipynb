{
 "cells": [
  {
   "metadata": {},
   "cell_type": "markdown",
   "source": [
    "AIM 4: Repeat AIM 2 and AIM 3 steps for normal data\n",
    "\n",
    "1. Generate normally distirbuted data of 100 data items\n",
    "2. Visualize it using Q-Q plot\n",
    "3. Perform both Shapiro-Wilk and Anderson-Darling test on this data\n",
    "    3.1. What from these tests tells you that the data is normal?\n",
    "4. What happens when the data items is reduced to 30?"
   ],
   "id": "ea01b9e149fe1bbe"
  },
  {
   "metadata": {},
   "cell_type": "code",
   "outputs": [],
   "execution_count": null,
   "source": "",
   "id": "68b0cf6dd1255c24"
  }
 ],
 "metadata": {
  "kernelspec": {
   "display_name": "Python 3",
   "language": "python",
   "name": "python3"
  },
  "language_info": {
   "codemirror_mode": {
    "name": "ipython",
    "version": 2
   },
   "file_extension": ".py",
   "mimetype": "text/x-python",
   "name": "python",
   "nbconvert_exporter": "python",
   "pygments_lexer": "ipython2",
   "version": "2.7.6"
  }
 },
 "nbformat": 4,
 "nbformat_minor": 5
}
