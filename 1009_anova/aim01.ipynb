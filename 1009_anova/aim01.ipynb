{
 "cells": [
  {
   "metadata": {},
   "cell_type": "markdown",
   "source": [
    "AIM 1: Variance and Covariance\n",
    "\n",
    "1. Load the dataset 'diabetic_data.csv' using pandas\n",
    "2. Calculate variance on the column 'num_med_proc'\n",
    "    2.1. For the same column, also calculate standard deviation\n",
    "    2.2. Do both variance and standard deviation give you the same understanding of the data?\n",
    "3. Calculate covariance between the columns 'num_med_proc' and 'time_in_hospital'\n",
    "    3.1. Calculate correlation between the same two variables\n",
    "    3.2. Do both covariance and correlation give you the same understanding of the data?"
   ],
   "id": "1ff654fe6d7a6c6"
  },
  {
   "metadata": {
    "ExecuteTime": {
     "end_time": "2024-10-09T06:15:15.313725Z",
     "start_time": "2024-10-09T06:15:14.624924Z"
    }
   },
   "cell_type": "code",
   "source": "import pandas as pd",
   "id": "8a27a824a1305d9b",
   "outputs": [],
   "execution_count": 1
  },
  {
   "metadata": {
    "ExecuteTime": {
     "end_time": "2024-10-09T06:15:15.458530Z",
     "start_time": "2024-10-09T06:15:15.313725Z"
    }
   },
   "cell_type": "code",
   "source": "df = pd.read_csv('./diabetic_data.csv')",
   "id": "c08be12db4a787e0",
   "outputs": [],
   "execution_count": 2
  },
  {
   "metadata": {
    "ExecuteTime": {
     "end_time": "2024-10-09T06:15:15.726271Z",
     "start_time": "2024-10-09T06:15:15.714426Z"
    }
   },
   "cell_type": "code",
   "source": [
    "var = df['num_med_proc'].var()\n",
    "std = df['num_med_proc'].std()\n",
    "\n",
    "print(f'Variance: {var}\\nStandard deviation: {std}')"
   ],
   "id": "46f2f600c206fdc2",
   "outputs": [
    {
     "name": "stdout",
     "output_type": "stream",
     "text": [
      "Variance: 556.7456310006831\n",
      "Standard deviation: 23.595457846812025\n"
     ]
    }
   ],
   "execution_count": 3
  },
  {
   "metadata": {
    "ExecuteTime": {
     "end_time": "2024-10-09T06:15:15.843660Z",
     "start_time": "2024-10-09T06:15:15.823229Z"
    }
   },
   "cell_type": "code",
   "source": [
    "cov = df['num_med_proc'].cov(df['time_in_hospital'])\n",
    "corr = df['num_med_proc'].corr(df['time_in_hospital'])\n",
    "\n",
    "print(f'Covariance: {cov}\\nCorrelation: {corr}')"
   ],
   "id": "b55532f81d4754d8",
   "outputs": [
    {
     "name": "stdout",
     "output_type": "stream",
     "text": [
      "Covariance: 30.9836824245784\n",
      "Correlation: 0.43961527948619555\n"
     ]
    }
   ],
   "execution_count": 4
  },
  {
   "metadata": {
    "ExecuteTime": {
     "end_time": "2024-10-09T06:15:15.979727Z",
     "start_time": "2024-10-09T06:15:15.975934Z"
    }
   },
   "cell_type": "code",
   "source": "",
   "id": "64323e12f66220e1",
   "outputs": [],
   "execution_count": null
  }
 ],
 "metadata": {
  "kernelspec": {
   "display_name": "Python 3",
   "language": "python",
   "name": "python3"
  },
  "language_info": {
   "codemirror_mode": {
    "name": "ipython",
    "version": 2
   },
   "file_extension": ".py",
   "mimetype": "text/x-python",
   "name": "python",
   "nbconvert_exporter": "python",
   "pygments_lexer": "ipython2",
   "version": "2.7.6"
  }
 },
 "nbformat": 4,
 "nbformat_minor": 5
}
