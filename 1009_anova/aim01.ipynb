{
 "cells": [
  {
   "metadata": {},
   "cell_type": "markdown",
   "source": [
    "AIM 1: Variance and Covariance\n",
    "\n",
    "1. Load the dataset 'diabetic_data.csv' using pandas\n",
    "2. Calculate variance on the column 'num_med_proc'\n",
    "    2.1. For the same column, also calculate standard deviation\n",
    "    2.2. Do both variance and standard deviation give you the same understanding of the data?\n",
    "3. Calculate covariance between the columns 'num_med_proc' and 'time_in_hospital'\n",
    "    3.1. Calculate correlation between the same two variables\n",
    "    3.2. Do both covariance and correlation give you the same understanding of the data?"
   ],
   "id": "1ff654fe6d7a6c6"
  },
  {
   "metadata": {},
   "cell_type": "code",
   "outputs": [],
   "execution_count": null,
   "source": "",
   "id": "8a27a824a1305d9b"
  }
 ],
 "metadata": {
  "kernelspec": {
   "display_name": "Python 3",
   "language": "python",
   "name": "python3"
  },
  "language_info": {
   "codemirror_mode": {
    "name": "ipython",
    "version": 2
   },
   "file_extension": ".py",
   "mimetype": "text/x-python",
   "name": "python",
   "nbconvert_exporter": "python",
   "pygments_lexer": "ipython2",
   "version": "2.7.6"
  }
 },
 "nbformat": 4,
 "nbformat_minor": 5
}
