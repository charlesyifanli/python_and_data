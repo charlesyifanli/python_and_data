{
 "cells": [
  {
   "metadata": {},
   "cell_type": "markdown",
   "source": [
    "AIM 3: Test normality for the generated bimodal distribution\n",
    "\n",
    "1. Visualize the given data with a Q-Q plot\n",
    "2. Compute its normality using Shapiro-Wilk test\n",
    "    2.1. Is the data normal? Why and how did you decide that? \n",
    "3. Repeat the normality test, but this time using Anderson-Darling Test\n",
    "    3.1. Is the data normal? Why and how did you decide that?"
   ],
   "id": "db555b478544a6d1"
  },
  {
   "metadata": {},
   "cell_type": "code",
   "outputs": [],
   "execution_count": null,
   "source": "from scipy.stats import shapiro, anderson",
   "id": "dfb784363a2f84bb"
  }
 ],
 "metadata": {
  "kernelspec": {
   "display_name": "Python 3",
   "language": "python",
   "name": "python3"
  },
  "language_info": {
   "codemirror_mode": {
    "name": "ipython",
    "version": 2
   },
   "file_extension": ".py",
   "mimetype": "text/x-python",
   "name": "python",
   "nbconvert_exporter": "python",
   "pygments_lexer": "ipython2",
   "version": "2.7.6"
  }
 },
 "nbformat": 4,
 "nbformat_minor": 5
}
