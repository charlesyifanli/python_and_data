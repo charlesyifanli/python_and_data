{
 "cells": [
  {
   "cell_type": "markdown",
   "metadata": {},
   "source": [
    "You are given parts of speech and a short text. Using these, program the following:\n",
    "\n",
    "REQUIREMENTS:\n",
    "1. First, break the big paragraph into list of words\n",
    "2. Then, compare every word with the list of words (values) available in the parts_of_speech dictionary\n",
    "    2.1. If the word is present as a value in that dictionary, check what its pos(key) is\n",
    "    2.2. If the key is a noun, then add the word to your noun list\n",
    "    2.3. If the key is a pronouns, then add the word to your pronoun list\n",
    "    2.4. If the key is a verb, then add the word to your verb list\n",
    "    2.5. If the key is an adverb, then add the word to your adverb list\n",
    "    2.6. If the key is a determiner, then add the word to your determiner list\n",
    "3. Once all the words have been checked, print all the different lists (noun, pronoun, verb, adverb, adjective, determiner) list separately.\n",
    "4. Avoid duplicates in your list\n",
    "\n",
    "\n",
    "MORE CHALLENGING REQUIREMENTS:\n",
    "1. Extend the above program by creating a sentence by picking random elements from all your different lists (noun, pronoun, verb, adverb, adjective, determiner)\n",
    "2. Your sentence should follow this template: Determiner + Adjective + Noun + Verb + Adverb. \n",
    "\n",
    "For example - A (Determiner) married(Adjective) man(Noun) danced(Verb) sadly(Adverb). \n",
    "In your program, you will only print \"A married man danced sadly\"\n"
   ]
  },
  {
   "cell_type": "code",
   "metadata": {
    "ExecuteTime": {
     "end_time": "2024-09-12T05:45:37.536491Z",
     "start_time": "2024-09-12T05:45:37.513738Z"
    }
   },
   "source": [
    "parts_of_speech = {\n",
    "    \"adverbs\": ['seldom', 'nicely', 'rudely', 'loudly', 'differently', 'quickly', 'Meanwhile', 'actually', 'instead',\n",
    "                'happily', 'quietly', 'Suddenly', 'rarely', 'generally', 'loudly', 'finally', 'accidentally', 'now',\n",
    "                'Once', 'softly', 'how'],\n",
    "    \"determiners\": ['the', 'The', 'a', 'an', 'A', 'An', 'this', 'This', 'that', 'That', 'these', 'These'],\n",
    "    \"nouns\": ['turtle', 'fox', 'horse', 'kangaroo', 'Samantha', 'Bob', 'Manhattan', 'birds', 'chess', 'rabbits', 'sea',\n",
    "              'stand', 'lamb', 'watermelon', 'mountains', 'ants', 'crab', 'song', 'elephant', 'mouse', 'apple', 'house',\n",
    "              'winner', 'tea', 'blew', 'karate', 'rooftop', 'map', 'penguin', 'crocodile', 'letter', 'car', 'rocks',\n",
    "              'snow', 'field', 'village', 'kangaroo', 'zebra', 'turtles', 'chickens', 'cars', 'Back', 'squirrel',\n",
    "              'clever', 'tiger', 'cupcakes', 'contest', 'mountain', 'fedora', 'race', 'flamingo', 'giraffe', 'leg',\n",
    "              'cows', 'cup', 'orchestra', 'tree', 'pancakes', 'bees', 'crumbs', 'dog', 'magician', 'parade', 'unicorns',\n",
    "              'talent', 'wise', 'cheetah', 'tomorrow', 'fox', 'cookbook', 'goat', 'fruit', 'pillow', 'everyone',\n",
    "              'poems', 'stars', 'skyscraper', 'octopus', 'sloth', 'colors', 'meadow', 'world', 'library', 'panda',\n",
    "              'marshmallows', 'elephants', 'top', 'banana', 'pizza', 'monkey', 'cheese', 'moon', 'sunset', 'lion',\n",
    "              'hippo', 'bakery', 'brighter', 'group', 'chocolate', 'show', 'pink', 'moves', 'brave', 'forest', 'sleepy',\n",
    "              'eagle', 'balloon', 'time', 'owl', 'butterfly', 'book', 'rock', 'clouds', 'coconut', 'bamboo', 'ice',\n",
    "              'shade', 'marathon', 'breeze', 'sun', 'speedy', 'sky', 'drops', 'debate', 'brown', 'guitar', 'cream',\n",
    "              'bars', 'parrot', 'Nearby', 'roll', 'president', 'river', 'city', 'cat', 'fence', 'robot', 'jumping',\n",
    "              'cones', 'sunflowers', 'case', 'disappear', 'cloud'],\n",
    "    \"adjectives\": ['cold', 'energetic', 'upcoming', 'rainbow-colored', 'curious', 'same', 'joyful', 'sleepy', 'lemon',\n",
    "                   'fish', 'mischievous', 'detective', 'stylish', 'tired', 'nervous', 'adventurous', 'yellow',\n",
    "                   'gigantic', 'giant', 'polite', 'annual', 'purple', 'ninja', 'tiny', 'lazy', 'fluffy', 'tallest',\n",
    "                   'thoughtful', 'studious', 'sheep', 'distant', 'little', 'quick', 'full', 'golden', 'rusty', 'cool',\n",
    "                   'next', 'cheese', 'bus', 'blue', 'happy', 'serious', 'nearby', 'bright', 'legendary', 'old', 'hot',\n",
    "                   'new', 'fresh', 'stale', 'fast', 'slow', 'tall', 'short', 'bright', 'dark'],\n",
    "    \"verbs\": ['flew', 'danced', 'ended', 'painted', 'deliver', 'please', 'began', 'talking', 'parked', 'holding',\n",
    "              'held', 'made', 'dreaming', 'stolen', 'floated', 'shine', 'climbed', 'sing', 'using', 'drew', 'offered',\n",
    "              'investigated', 'buzzing', 'look', 'practiced', 'learning', 'blew', 'smiling', 'wearing', 'singing',\n",
    "              'rolled', 'chase', 'tried', 'make', 'bake', 'asking', 'dancing', 'was', 'listening', 'fell', 'built',\n",
    "              'stole', 'studied', 'bounced', 'sat', 'blooming', 'juggle', 'stretched', 'turned', 'wrote', 'sang',\n",
    "              'worried', 'played', 'swimming', 'landed', 'jumped', 'drove', 'fly', 'reading', 'flying', 'were',\n",
    "              'having', 'yawned', 'watching', 'cried', 'roared'],\n",
    "    \"pronouns\": ['their', 'who', 'it', 'we', 'you', 'us', 'he', 'she', 'they', 'them']\n",
    "}\n",
    "\n",
    "paragraph = \"Once upon a time, the lazy dog sat on a bright blue tree while dreaming about swimming in the city. The quick brown fox danced happily around the old rusty car parked next to the jumping cows. Suddenly, a cold breeze blew through the forest, and a giant talking apple began to sing loudly. The sleepy cat tried to chase a butterfly but ended up reading a book instead. Across the river, the curious penguin wrote poems about flying cars and purple clouds. The lazy squirrel built a tiny house out of ice cream cones and chocolate bars. Meanwhile, in the distant mountains, a group of ninja turtles practiced their karate moves in the snow. Back in the city, the brave giraffe drove a bus full of singing rabbits and dancing elephants. On the rooftop, a tired magician tried to make the moon disappear but accidentally turned it into a giant pizza. The wise owl sat quietly on the fence, watching a parade of rainbow-colored unicorns fly by. Nearby, the energetic kangaroo bounced happily over a field of blooming sunflowers. In the sky, a happy cloud painted the sunset with bright pink and yellow colors. Under the sea, the fish played chess with the crab while the octopus played the guitar. The mischievous monkey stole a watermelon from the fruit stand and offered it to the smiling tiger. At the library, the studious turtle was reading a cookbook about how to make pancakes out of stars. At the same time, a robot was learning how to bake cupcakes for the annual bakery contest. The sleepy sloth yawned and rolled over, dreaming of a race with the speedy cheetah. Over in the meadow, the sheep held a talent show, and the winner was a lamb who could juggle three rocks. The joyful flamingo danced on one leg while the parrot sang a rock 'n' roll song from the top of the coconut tree. Suddenly, a gigantic banana fell from the sky and landed softly on a pillow made of marshmallows. In the nearby village, the chickens were having a serious debate about whether the sun was actually made of lemon drops. The detective panda investigated a case of stolen bamboo while wearing a stylish fedora. The polite crocodile offered a cup of tea to the nervous zebra who was worried about the upcoming zebra marat.\""
   ],
   "outputs": [],
   "execution_count": 1
  },
  {
   "metadata": {},
   "cell_type": "markdown",
   "source": "## split the words"
  },
  {
   "metadata": {
    "ExecuteTime": {
     "end_time": "2024-09-12T05:45:37.565063Z",
     "start_time": "2024-09-12T05:45:37.549994Z"
    }
   },
   "cell_type": "code",
   "source": [
    "import re\n",
    "\n",
    "words_list = re.findall(r'[a-zA-Z0-9_-]+', paragraph)\n",
    "print(words_list[:5])"
   ],
   "outputs": [
    {
     "name": "stdout",
     "output_type": "stream",
     "text": [
      "['Once', 'upon', 'a', 'time', 'the']\n"
     ]
    }
   ],
   "execution_count": 2
  },
  {
   "metadata": {
    "ExecuteTime": {
     "end_time": "2024-09-12T05:45:38.407146Z",
     "start_time": "2024-09-12T05:45:38.395456Z"
    }
   },
   "cell_type": "code",
   "source": [
    "my_dict = dict()\n",
    "\n",
    "for key in parts_of_speech.keys():\n",
    "    my_dict[key] = []\n",
    "print(my_dict)"
   ],
   "outputs": [
    {
     "name": "stdout",
     "output_type": "stream",
     "text": [
      "{'adverbs': [], 'determiners': [], 'nouns': [], 'adjectives': [], 'verbs': [], 'pronouns': []}\n"
     ]
    }
   ],
   "execution_count": 3
  },
  {
   "metadata": {
    "ExecuteTime": {
     "end_time": "2024-09-12T05:45:38.529801Z",
     "start_time": "2024-09-12T05:45:38.513710Z"
    }
   },
   "cell_type": "code",
   "source": [
    "for word in words_list:\n",
    "    for key, val in parts_of_speech.items():\n",
    "        if word in val:\n",
    "            my_dict[key].append(word)"
   ],
   "outputs": [],
   "execution_count": 4
  },
  {
   "metadata": {
    "ExecuteTime": {
     "end_time": "2024-09-12T05:45:38.939734Z",
     "start_time": "2024-09-12T05:45:38.919751Z"
    }
   },
   "cell_type": "code",
   "source": [
    "for key in my_dict.keys():\n",
    "    my_dict[key] = list(set(my_dict[key]))\n",
    "    print(f'{key.upper()}:')\n",
    "    print(' '.join(my_dict[key]) + '\\n')"
   ],
   "outputs": [
    {
     "name": "stdout",
     "output_type": "stream",
     "text": [
      "ADVERBS:\n",
      "instead accidentally Once Meanwhile happily how actually Suddenly softly quietly loudly\n",
      "\n",
      "DETERMINERS:\n",
      "The the a\n",
      "\n",
      "NOUNS:\n",
      "stand lamb cones magician bars book rabbits cupcakes village coconut case sloth parade race winner flamingo fence tea cat group fox contest marshmallows rock car Nearby cloud apple roll sea sun speedy pillow debate talent drops top mountains show chocolate parrot squirrel sunset river butterfly bakery tiger dog poems cows stars brave disappear owl chickens sky cup cream octopus field time sleepy song pizza leg elephants snow library guitar sunflowers watermelon fruit karate rooftop zebra Back brown crocodile city forest penguin house wise breeze robot pink cheetah crab banana pancakes panda cookbook tree blew turtles cars jumping fedora chess clouds meadow turtle bamboo ice moon rocks unicorns moves monkey colors giraffe kangaroo\n",
      "\n",
      "ADJECTIVES:\n",
      "annual distant polite bright detective tired ninja studious joyful energetic cold purple lazy full giant old serious curious gigantic rainbow-colored blue stylish lemon nearby bus quick sheep happy yellow sleepy nervous tiny mischievous rusty fish upcoming next same\n",
      "\n",
      "VERBS:\n",
      "played fly fell stole juggle make held learning wearing tried parked sing dreaming sat worried wrote swimming watching stolen was were rolled bounced made landed blooming ended sang reading practiced having drove yawned built began offered dancing bake chase talking singing investigated blew turned smiling flying painted danced\n",
      "\n",
      "PRONOUNS:\n",
      "their it who\n",
      "\n"
     ]
    }
   ],
   "execution_count": 5
  },
  {
   "metadata": {
    "ExecuteTime": {
     "end_time": "2024-09-12T05:46:28.039423Z",
     "start_time": "2024-09-12T05:46:28.025851Z"
    }
   },
   "cell_type": "code",
   "source": [
    "import random as rd\n",
    "\n",
    "sentence = my_dict['determiners'][rd.randint(0, len(my_dict['determiners']))] + ' '\n",
    "sentence += my_dict['adjectives'][rd.randint(0, len(my_dict['adjectives']))] + ' '\n",
    "sentence += my_dict['nouns'][rd.randint(0, len(my_dict['nouns']))] + ' '\n",
    "sentence += my_dict['verbs'][rd.randint(0, len(my_dict['verbs']))] + ' '\n",
    "sentence += my_dict['adverbs'][rd.randint(0, len(my_dict['adverbs']))] + '.'\n",
    "\n",
    "print(sentence)"
   ],
   "outputs": [
    {
     "name": "stdout",
     "output_type": "stream",
     "text": [
      "The full brave turned Meanwhile.\n"
     ]
    }
   ],
   "execution_count": 9
  },
  {
   "metadata": {},
   "cell_type": "code",
   "outputs": [],
   "execution_count": null,
   "source": ""
  }
 ],
 "metadata": {
  "language_info": {
   "name": "python"
  },
  "kernelspec": {
   "name": "python3",
   "language": "python",
   "display_name": "Python 3 (ipykernel)"
  }
 },
 "nbformat": 4,
 "nbformat_minor": 2
}
