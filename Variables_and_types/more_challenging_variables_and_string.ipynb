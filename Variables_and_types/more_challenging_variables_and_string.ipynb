{
 "cells": [
  {
   "cell_type": "markdown",
   "metadata": {},
   "source": [
    "REUIREMENTS:\n",
    "1. Use the string from the 'final_text' variable to produce an output that's shown under 'OUTPUT'. \n",
    "2. You are allowed to use only the methods of split() and strip().\n",
    "3. You will also need to use 'for' loop and 'if-elif' statement.\n",
    "\n",
    "\n",
    "OUTPUT:\n",
    "\n",
    "Name: Charles Dickens\n",
    "Date of Birth: February 7, 1812\n",
    "Birthplace: Portsmouth, England\n",
    "Most Famous For: a writer of the Victorian era\n",
    "Married To: Catherine Hogarth\n",
    "Year of Marriage: 1836\n",
    "Number of Children: ten\n",
    "Famous Works: \"A Christmas Carol\", \"Oliver Twist\", \"David Copperfield\", and \"Great Expectations\"\n",
    "Other Talent: doing dramatic public readings of my work\n",
    "Date of Death: June 9, 1870\n",
    "Place of Death: Gad's Hill Place, Kent, England"
   ]
  },
  {
   "cell_type": "code",
   "metadata": {
    "ExecuteTime": {
     "end_time": "2024-09-04T07:16:52.819689Z",
     "start_time": "2024-09-04T07:16:52.807153Z"
    }
   },
   "source": [
    "final_text = \"\"\"Hello. My name is Charles Dickens.\n",
    "I am an English novelist.\n",
    "I was born on February 7, 1812, in Portsmouth, England.\n",
    "I am most famous as a writer of the Victorian era.\n",
    "I married Catherine Hogarth in 1836. We have ten children.\n",
    "Some of my most famous works include \"A Christmas Carol\", \"Oliver Twist\", \"David Copperfield\", and \"Great Expectations\".\n",
    "Besides being a writer, my other talent was doing dramatic public readings of my work.\n",
    "I died on June 9, 1870, at my home in Gad's Hill Place, Kent, England.\"\"\"\n",
    "\n",
    "# Split the text into sentences\n",
    "sentences = final_text.split('.')\n",
    "\n",
    "# Initialize the output dictionary\n",
    "output = {}\n",
    "\n",
    "# Process each sentence\n",
    "for sentence in sentences:\n",
    "    sentence = sentence.strip()\n",
    "    if sentence.startswith(\"My name is\"):\n",
    "        output[\"Name\"] = sentence.split(\"My name is \")[1]\n",
    "    elif sentence.startswith(\"I was born on\"):\n",
    "        birth_info = sentence.split(\"I was born on \")[1].split(\", in \")\n",
    "        output[\"Date of Birth\"] = birth_info[0]\n",
    "        output[\"Birthplace\"] = birth_info[1]\n",
    "    elif sentence.startswith(\"I am most famous as\"):\n",
    "        output[\"Most Famous For\"] = sentence.split(\"I am most famous as \")[1]\n",
    "    elif sentence.startswith(\"I married\"):\n",
    "        marriage_info = sentence.split(\"I married \")[1].split(\" in \")\n",
    "        output[\"Married To\"] = marriage_info[0]\n",
    "        output[\"Year of Marriage\"] = marriage_info[1]\n",
    "    elif sentence.startswith(\"We have\"):\n",
    "        output[\"Number of Children\"] = sentence.split(\"We have \")[1].split(\" children\")[0]\n",
    "    elif sentence.startswith(\"Some of my most famous works include\"):\n",
    "        output[\"Famous Works\"] = sentence.split(\"include \")[1]\n",
    "    elif sentence.startswith(\"Besides being a writer\"):\n",
    "        info = sentence.split(\"Besides being a writer, my other talent was \")[1]\n",
    "        output[\"Other Talent\"] = info\n",
    "    elif sentence.startswith(\"I died on\"):\n",
    "        death_info = sentence.split(\"I died on \")[1].split(\", at my home in \")\n",
    "        output[\"Date of Death\"] = death_info[0]\n",
    "        output[\"Place of Death\"] = death_info[1]\n",
    "\n",
    "# Display the output\n",
    "for key, value in output.items():\n",
    "    print(f\"{key}: {value}\")\n"
   ],
   "outputs": [
    {
     "name": "stdout",
     "output_type": "stream",
     "text": [
      "Name: Charles Dickens\n",
      "Date of Birth: February 7, 1812\n",
      "Birthplace: Portsmouth, England\n",
      "Most Famous For: a writer of the Victorian era\n",
      "Married To: Catherine Hogarth\n",
      "Year of Marriage: 1836\n",
      "Number of Children: ten\n",
      "Famous Works: \"A Christmas Carol\", \"Oliver Twist\", \"David Copperfield\", and \"Great Expectations\"\n",
      "Other Talent: doing dramatic public readings of my work\n",
      "Date of Death: June 9, 1870\n",
      "Place of Death: Gad's Hill Place, Kent, England\n"
     ]
    }
   ],
   "execution_count": 7
  },
  {
   "metadata": {},
   "cell_type": "code",
   "outputs": [],
   "execution_count": null,
   "source": ""
  }
 ],
 "metadata": {
  "kernelspec": {
   "display_name": "Python 3",
   "language": "python",
   "name": "python3"
  },
  "language_info": {
   "name": "python",
   "version": "3.11.5"
  }
 },
 "nbformat": 4,
 "nbformat_minor": 2
}
